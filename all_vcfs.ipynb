{
 "cells": [
  {
   "cell_type": "code",
   "execution_count": 11,
   "metadata": {},
   "outputs": [],
   "source": [
    "import os\n",
    "import pandas as pd\n",
    "import numpy as np"
   ]
  },
  {
   "cell_type": "code",
   "execution_count": 1,
   "metadata": {},
   "outputs": [],
   "source": [
    "def import_csv_files(folder_path, ending_string):\n",
    "    csv_files = []\n",
    "    dfs = []\n",
    "\n",
    "    # Find CSV files\n",
    "    for root, dirs, files in os.walk(folder_path):\n",
    "        csv_files.extend(\n",
    "            os.path.join(root, file)\n",
    "            for file in files\n",
    "            if file.endswith(ending_string + \".csv\")\n",
    "        )\n",
    "    # Import CSV files into a single DataFrame\n",
    "    for file_path in csv_files:\n",
    "        df = pd.read_csv(file_path)\n",
    "        dfs.append(df)\n",
    "\n",
    "    return pd.concat(dfs, ignore_index=True)\n"
   ]
  },
  {
   "cell_type": "code",
   "execution_count": 2,
   "metadata": {},
   "outputs": [
    {
     "data": {
      "text/html": [
       "<div>\n",
       "<style scoped>\n",
       "    .dataframe tbody tr th:only-of-type {\n",
       "        vertical-align: middle;\n",
       "    }\n",
       "\n",
       "    .dataframe tbody tr th {\n",
       "        vertical-align: top;\n",
       "    }\n",
       "\n",
       "    .dataframe thead th {\n",
       "        text-align: right;\n",
       "    }\n",
       "</style>\n",
       "<table border=\"1\" class=\"dataframe\">\n",
       "  <thead>\n",
       "    <tr style=\"text-align: right;\">\n",
       "      <th></th>\n",
       "      <th>id</th>\n",
       "      <th>wt_prediction</th>\n",
       "      <th>mut_prediction</th>\n",
       "      <th>pred_difference</th>\n",
       "      <th>vcf_id</th>\n",
       "      <th>mirna_accession</th>\n",
       "      <th>mutsig</th>\n",
       "      <th>gene_id</th>\n",
       "      <th>gene_name</th>\n",
       "      <th>transcript_id</th>\n",
       "      <th>biotype</th>\n",
       "      <th>mirna_name</th>\n",
       "      <th>mirna_family</th>\n",
       "    </tr>\n",
       "  </thead>\n",
       "  <tbody>\n",
       "    <tr>\n",
       "      <th>0</th>\n",
       "      <td>PD4107a_1_12890509_G_A_MIMAT0000085</td>\n",
       "      <td>0.296045</td>\n",
       "      <td>0.718845</td>\n",
       "      <td>0.423</td>\n",
       "      <td>PD4107a</td>\n",
       "      <td>MIMAT0000085</td>\n",
       "      <td>SBS40</td>\n",
       "      <td>ENSG00000204513</td>\n",
       "      <td>PRAMEF11</td>\n",
       "      <td>ENST00000437584</td>\n",
       "      <td>protein_coding</td>\n",
       "      <td>hsa-miR-28-5p</td>\n",
       "      <td>miR-28-5p/708-5p</td>\n",
       "    </tr>\n",
       "    <tr>\n",
       "      <th>1</th>\n",
       "      <td>PD4107a_1_12890509_G_A_MIMAT0000273</td>\n",
       "      <td>0.402738</td>\n",
       "      <td>0.843816</td>\n",
       "      <td>0.441</td>\n",
       "      <td>PD4107a</td>\n",
       "      <td>MIMAT0000273</td>\n",
       "      <td>SBS40</td>\n",
       "      <td>ENSG00000204513</td>\n",
       "      <td>PRAMEF11</td>\n",
       "      <td>ENST00000437584</td>\n",
       "      <td>protein_coding</td>\n",
       "      <td>hsa-miR-216a-5p</td>\n",
       "      <td>miR-216a-5p</td>\n",
       "    </tr>\n",
       "    <tr>\n",
       "      <th>2</th>\n",
       "      <td>PD4107a_1_12890509_G_A_MIMAT0000432</td>\n",
       "      <td>0.231288</td>\n",
       "      <td>0.652993</td>\n",
       "      <td>0.422</td>\n",
       "      <td>PD4107a</td>\n",
       "      <td>MIMAT0000432</td>\n",
       "      <td>SBS40</td>\n",
       "      <td>ENSG00000204513</td>\n",
       "      <td>PRAMEF11</td>\n",
       "      <td>ENST00000437584</td>\n",
       "      <td>protein_coding</td>\n",
       "      <td>hsa-miR-141-3p</td>\n",
       "      <td>miR-141-3p/200a-3p</td>\n",
       "    </tr>\n",
       "    <tr>\n",
       "      <th>3</th>\n",
       "      <td>PD4107a_1_12890509_G_A_MIMAT0000680</td>\n",
       "      <td>0.471801</td>\n",
       "      <td>0.928209</td>\n",
       "      <td>0.456</td>\n",
       "      <td>PD4107a</td>\n",
       "      <td>MIMAT0000680</td>\n",
       "      <td>SBS40</td>\n",
       "      <td>ENSG00000204513</td>\n",
       "      <td>PRAMEF11</td>\n",
       "      <td>ENST00000437584</td>\n",
       "      <td>protein_coding</td>\n",
       "      <td>hsa-miR-106b-5p</td>\n",
       "      <td>miR-17-5p/20-5p/93-5p/106-5p/519-3p</td>\n",
       "    </tr>\n",
       "    <tr>\n",
       "      <th>4</th>\n",
       "      <td>PD4107a_1_12890509_G_A_MIMAT0002888</td>\n",
       "      <td>0.387698</td>\n",
       "      <td>0.665338</td>\n",
       "      <td>0.278</td>\n",
       "      <td>PD4107a</td>\n",
       "      <td>MIMAT0002888</td>\n",
       "      <td>SBS40</td>\n",
       "      <td>ENSG00000204513</td>\n",
       "      <td>PRAMEF11</td>\n",
       "      <td>ENST00000437584</td>\n",
       "      <td>protein_coding</td>\n",
       "      <td>hsa-miR-532-5p</td>\n",
       "      <td>miR-532-5p</td>\n",
       "    </tr>\n",
       "  </tbody>\n",
       "</table>\n",
       "</div>"
      ],
      "text/plain": [
       "                                    id  wt_prediction  mut_prediction  \\\n",
       "0  PD4107a_1_12890509_G_A_MIMAT0000085       0.296045        0.718845   \n",
       "1  PD4107a_1_12890509_G_A_MIMAT0000273       0.402738        0.843816   \n",
       "2  PD4107a_1_12890509_G_A_MIMAT0000432       0.231288        0.652993   \n",
       "3  PD4107a_1_12890509_G_A_MIMAT0000680       0.471801        0.928209   \n",
       "4  PD4107a_1_12890509_G_A_MIMAT0002888       0.387698        0.665338   \n",
       "\n",
       "   pred_difference   vcf_id mirna_accession mutsig          gene_id gene_name  \\\n",
       "0            0.423  PD4107a    MIMAT0000085  SBS40  ENSG00000204513  PRAMEF11   \n",
       "1            0.441  PD4107a    MIMAT0000273  SBS40  ENSG00000204513  PRAMEF11   \n",
       "2            0.422  PD4107a    MIMAT0000432  SBS40  ENSG00000204513  PRAMEF11   \n",
       "3            0.456  PD4107a    MIMAT0000680  SBS40  ENSG00000204513  PRAMEF11   \n",
       "4            0.278  PD4107a    MIMAT0002888  SBS40  ENSG00000204513  PRAMEF11   \n",
       "\n",
       "     transcript_id         biotype       mirna_name  \\\n",
       "0  ENST00000437584  protein_coding    hsa-miR-28-5p   \n",
       "1  ENST00000437584  protein_coding  hsa-miR-216a-5p   \n",
       "2  ENST00000437584  protein_coding   hsa-miR-141-3p   \n",
       "3  ENST00000437584  protein_coding  hsa-miR-106b-5p   \n",
       "4  ENST00000437584  protein_coding   hsa-miR-532-5p   \n",
       "\n",
       "                          mirna_family  \n",
       "0                     miR-28-5p/708-5p  \n",
       "1                          miR-216a-5p  \n",
       "2                   miR-141-3p/200a-3p  \n",
       "3  miR-17-5p/20-5p/93-5p/106-5p/519-3p  \n",
       "4                           miR-532-5p  "
      ]
     },
     "execution_count": 2,
     "metadata": {},
     "output_type": "execute_result"
    }
   ],
   "source": [
    "df = import_csv_files(\"results\", \"step5\")\n",
    "\n",
    "df.head()"
   ]
  },
  {
   "cell_type": "code",
   "execution_count": 9,
   "metadata": {},
   "outputs": [
    {
     "name": "stdout",
     "output_type": "stream",
     "text": [
      "id                  object\n",
      "wt_prediction      float64\n",
      "mut_prediction     float64\n",
      "pred_difference    float64\n",
      "vcf_id              object\n",
      "mirna_accession     object\n",
      "mutsig              object\n",
      "gene_id             object\n",
      "gene_name           object\n",
      "transcript_id       object\n",
      "biotype             object\n",
      "mirna_name          object\n",
      "mirna_family        object\n",
      "dtype: object\n"
     ]
    }
   ],
   "source": [
    "print(df.dtypes)\n"
   ]
  },
  {
   "cell_type": "code",
   "execution_count": 14,
   "metadata": {},
   "outputs": [
    {
     "data": {
      "text/plain": [
       "Index                0.000122\n",
       "id                 144.166668\n",
       "wt_prediction       12.450073\n",
       "mut_prediction      12.450073\n",
       "pred_difference     12.450073\n",
       "vcf_id              99.600586\n",
       "mirna_accession    107.381882\n",
       "mutsig              95.824343\n",
       "gene_id             80.559418\n",
       "gene_name           74.245019\n",
       "transcript_id       80.555908\n",
       "biotype             78.871738\n",
       "mirna_name         110.379028\n",
       "mirna_family       110.494871\n",
       "dtype: float64"
      ]
     },
     "execution_count": 14,
     "metadata": {},
     "output_type": "execute_result"
    }
   ],
   "source": [
    "df.memory_usage(deep=True) / 1048576\n"
   ]
  },
  {
   "cell_type": "code",
   "execution_count": 15,
   "metadata": {},
   "outputs": [],
   "source": [
    "# Downcast float columns\n",
    "float_cols = df.select_dtypes(include=['float']).columns\n",
    "for col in float_cols:\n",
    "    df[col] = df[col].astype(np.float32)\n"
   ]
  },
  {
   "cell_type": "code",
   "execution_count": null,
   "metadata": {},
   "outputs": [],
   "source": [
    "# Downcast string columns\n",
    "str_cols = df.select_dtypes(include=['object']).columns\n",
    "for col in str_cols:\n",
    "    df[col] = df[col].astype('category')\n"
   ]
  },
  {
   "cell_type": "code",
   "execution_count": 16,
   "metadata": {},
   "outputs": [
    {
     "data": {
      "text/plain": [
       "Index                0.000122\n",
       "id                 144.166668\n",
       "wt_prediction        6.225037\n",
       "mut_prediction       6.225037\n",
       "pred_difference      6.225037\n",
       "vcf_id              99.600586\n",
       "mirna_accession    107.381882\n",
       "mutsig              95.824343\n",
       "gene_id             80.559418\n",
       "gene_name           74.245019\n",
       "transcript_id       80.555908\n",
       "biotype             78.871738\n",
       "mirna_name         110.379028\n",
       "mirna_family       110.494871\n",
       "dtype: float64"
      ]
     },
     "execution_count": 16,
     "metadata": {},
     "output_type": "execute_result"
    }
   ],
   "source": [
    "df.memory_usage(deep=True) / 1048576\n"
   ]
  },
  {
   "cell_type": "code",
   "execution_count": null,
   "metadata": {},
   "outputs": [],
   "source": [
    "df.memory_usage(deep=True).sum()/ 1048576\n"
   ]
  },
  {
   "cell_type": "code",
   "execution_count": 7,
   "metadata": {},
   "outputs": [
    {
     "data": {
      "text/plain": [
       "1019.4298028945923"
      ]
     },
     "execution_count": 7,
     "metadata": {},
     "output_type": "execute_result"
    }
   ],
   "source": [
    "df.memory_usage(deep=True).sum()/ 1048576\n",
    "\n"
   ]
  }
 ],
 "metadata": {
  "kernelspec": {
   "display_name": "mirscribe-vcf-8VJm4tPg-py3.10",
   "language": "python",
   "name": "python3"
  },
  "language_info": {
   "codemirror_mode": {
    "name": "ipython",
    "version": 3
   },
   "file_extension": ".py",
   "mimetype": "text/x-python",
   "name": "python",
   "nbconvert_exporter": "python",
   "pygments_lexer": "ipython3",
   "version": "3.10.12"
  }
 },
 "nbformat": 4,
 "nbformat_minor": 2
}
