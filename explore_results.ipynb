{
 "cells": [
  {
   "cell_type": "code",
   "execution_count": 1,
   "metadata": {},
   "outputs": [
    {
     "name": "stderr",
     "output_type": "stream",
     "text": [
      "INFO:pyensembl.sequence_data:Loaded sequence dictionary from /home/nazif/thesis/data/pyensembl/GRCh37/ensembl75/Homo_sapiens.GRCh37.75.cdna.all.fa.gz.pickle\n",
      "INFO:pyensembl.sequence_data:Loaded sequence dictionary from /home/nazif/thesis/data/pyensembl/GRCh37/ensembl75/Homo_sapiens.GRCh37.75.ncrna.fa.gz.pickle\n",
      "INFO:pyensembl.sequence_data:Loaded sequence dictionary from /home/nazif/thesis/data/pyensembl/GRCh37/ensembl75/Homo_sapiens.GRCh37.75.pep.all.fa.gz.pickle\n"
     ]
    }
   ],
   "source": [
    "import pandas as pd\n",
    "import numpy as np\n",
    "from scripts.pipeline_steps import step5 as s5\n",
    "from scripts.notebook_operations import setup_notebook\n",
    "\n",
    "engine, g37, transcripts, genes, mirnas = setup_notebook()\n",
    "\n",
    "\n",
    "\n",
    "import seaborn as sns\n",
    "import matplotlib.pyplot as plt\n",
    "sns.set_style(\"whitegrid\")\n",
    "sns.set_palette(\"deep\")"
   ]
  },
  {
   "cell_type": "code",
   "execution_count": 3,
   "metadata": {},
   "outputs": [
    {
     "name": "stderr",
     "output_type": "stream",
     "text": [
      "/tmp/ipykernel_24468/2484387650.py:18: FutureWarning: Downcasting object dtype arrays on .fillna, .ffill, .bfill is deprecated and will change in a future version. Call result.infer_objects(copy=False) instead. To opt-in to the future behavior, set `pd.set_option('future.no_silent_downcasting', True)`\n",
      "  df = df.fillna(False)\n"
     ]
    },
    {
     "data": {
      "text/html": [
       "<div>\n",
       "<style scoped>\n",
       "    .dataframe tbody tr th:only-of-type {\n",
       "        vertical-align: middle;\n",
       "    }\n",
       "\n",
       "    .dataframe tbody tr th {\n",
       "        vertical-align: top;\n",
       "    }\n",
       "\n",
       "    .dataframe thead th {\n",
       "        text-align: right;\n",
       "    }\n",
       "</style>\n",
       "<table border=\"1\" class=\"dataframe\">\n",
       "  <thead>\n",
       "    <tr style=\"text-align: right;\">\n",
       "      <th></th>\n",
       "      <th>id</th>\n",
       "      <th>wt_prediction</th>\n",
       "      <th>mut_prediction</th>\n",
       "      <th>pred_difference</th>\n",
       "      <th>vcf_id</th>\n",
       "      <th>mirna_accession</th>\n",
       "      <th>gene_id</th>\n",
       "      <th>mutation_context</th>\n",
       "      <th>mutsig</th>\n",
       "      <th>is_intron</th>\n",
       "      <th>is_gain</th>\n",
       "      <th>gene_name</th>\n",
       "      <th>gene_biotype</th>\n",
       "      <th>gene_description</th>\n",
       "      <th>is_oncogene</th>\n",
       "      <th>is_tumor_suppressor</th>\n",
       "      <th>is_cosmic_tier_1</th>\n",
       "      <th>is_driver</th>\n",
       "      <th>mirna_name</th>\n",
       "      <th>mirna_family</th>\n",
       "      <th>seed</th>\n",
       "      <th>is_mirna_oncogene</th>\n",
       "      <th>is_mirna_tumor_suppressor</th>\n",
       "    </tr>\n",
       "  </thead>\n",
       "  <tbody>\n",
       "    <tr>\n",
       "      <th>0</th>\n",
       "      <td>PD4005a_1_12844091_G_T_MIMAT0000265</td>\n",
       "      <td>0.411319</td>\n",
       "      <td>0.724802</td>\n",
       "      <td>0.313</td>\n",
       "      <td>PD4005a</td>\n",
       "      <td>MIMAT0000265</td>\n",
       "      <td>not_found</td>\n",
       "      <td>A[C&gt;A]A</td>\n",
       "      <td>SBS3</td>\n",
       "      <td>False</td>\n",
       "      <td>True</td>\n",
       "      <td>not_found</td>\n",
       "      <td>not_found</td>\n",
       "      <td>not_found</td>\n",
       "      <td>False</td>\n",
       "      <td>False</td>\n",
       "      <td>False</td>\n",
       "      <td>False</td>\n",
       "      <td>hsa-miR-204-5p</td>\n",
       "      <td>miR-204-5p/211-5p</td>\n",
       "      <td>GGCATAG</td>\n",
       "      <td>False</td>\n",
       "      <td>True</td>\n",
       "    </tr>\n",
       "    <tr>\n",
       "      <th>1</th>\n",
       "      <td>PD4005a_1_12844091_G_T_MIMAT0003301</td>\n",
       "      <td>0.289311</td>\n",
       "      <td>0.662916</td>\n",
       "      <td>0.374</td>\n",
       "      <td>PD4005a</td>\n",
       "      <td>MIMAT0003301</td>\n",
       "      <td>not_found</td>\n",
       "      <td>A[C&gt;A]A</td>\n",
       "      <td>SBS3</td>\n",
       "      <td>False</td>\n",
       "      <td>True</td>\n",
       "      <td>not_found</td>\n",
       "      <td>not_found</td>\n",
       "      <td>not_found</td>\n",
       "      <td>False</td>\n",
       "      <td>False</td>\n",
       "      <td>False</td>\n",
       "      <td>False</td>\n",
       "      <td>hsa-miR-33b-5p</td>\n",
       "      <td>miR-33-5p</td>\n",
       "      <td>CAATGCA</td>\n",
       "      <td>False</td>\n",
       "      <td>False</td>\n",
       "    </tr>\n",
       "    <tr>\n",
       "      <th>2</th>\n",
       "      <td>PD4005a_1_12844091_G_T_MIMAT0004517</td>\n",
       "      <td>0.351466</td>\n",
       "      <td>0.623310</td>\n",
       "      <td>0.272</td>\n",
       "      <td>PD4005a</td>\n",
       "      <td>MIMAT0004517</td>\n",
       "      <td>not_found</td>\n",
       "      <td>A[C&gt;A]A</td>\n",
       "      <td>SBS3</td>\n",
       "      <td>False</td>\n",
       "      <td>True</td>\n",
       "      <td>not_found</td>\n",
       "      <td>not_found</td>\n",
       "      <td>not_found</td>\n",
       "      <td>False</td>\n",
       "      <td>False</td>\n",
       "      <td>False</td>\n",
       "      <td>False</td>\n",
       "      <td>hsa-miR-106a-3p</td>\n",
       "      <td>miR-106a-3p</td>\n",
       "      <td>TAAGAAG</td>\n",
       "      <td>False</td>\n",
       "      <td>False</td>\n",
       "    </tr>\n",
       "    <tr>\n",
       "      <th>3</th>\n",
       "      <td>PD4005a_1_12844091_G_T_MIMAT0005882</td>\n",
       "      <td>0.550857</td>\n",
       "      <td>0.279106</td>\n",
       "      <td>-0.272</td>\n",
       "      <td>PD4005a</td>\n",
       "      <td>MIMAT0005882</td>\n",
       "      <td>not_found</td>\n",
       "      <td>A[C&gt;A]A</td>\n",
       "      <td>SBS3</td>\n",
       "      <td>False</td>\n",
       "      <td>False</td>\n",
       "      <td>not_found</td>\n",
       "      <td>not_found</td>\n",
       "      <td>not_found</td>\n",
       "      <td>False</td>\n",
       "      <td>False</td>\n",
       "      <td>False</td>\n",
       "      <td>False</td>\n",
       "      <td>hsa-miR-548k</td>\n",
       "      <td>miR-548av-5p/548k/8054</td>\n",
       "      <td>GCAAAAT</td>\n",
       "      <td>False</td>\n",
       "      <td>False</td>\n",
       "    </tr>\n",
       "    <tr>\n",
       "      <th>4</th>\n",
       "      <td>PD4005a_1_12844091_G_T_MIMAT0005933</td>\n",
       "      <td>0.650570</td>\n",
       "      <td>0.375474</td>\n",
       "      <td>-0.275</td>\n",
       "      <td>PD4005a</td>\n",
       "      <td>MIMAT0005933</td>\n",
       "      <td>not_found</td>\n",
       "      <td>A[C&gt;A]A</td>\n",
       "      <td>SBS3</td>\n",
       "      <td>False</td>\n",
       "      <td>False</td>\n",
       "      <td>not_found</td>\n",
       "      <td>not_found</td>\n",
       "      <td>not_found</td>\n",
       "      <td>False</td>\n",
       "      <td>False</td>\n",
       "      <td>False</td>\n",
       "      <td>False</td>\n",
       "      <td>hsa-miR-1277-3p</td>\n",
       "      <td>miR-1277-3p</td>\n",
       "      <td>AAATACA</td>\n",
       "      <td>False</td>\n",
       "      <td>False</td>\n",
       "    </tr>\n",
       "  </tbody>\n",
       "</table>\n",
       "</div>"
      ],
      "text/plain": [
       "                                    id  wt_prediction  mut_prediction  \\\n",
       "0  PD4005a_1_12844091_G_T_MIMAT0000265       0.411319        0.724802   \n",
       "1  PD4005a_1_12844091_G_T_MIMAT0003301       0.289311        0.662916   \n",
       "2  PD4005a_1_12844091_G_T_MIMAT0004517       0.351466        0.623310   \n",
       "3  PD4005a_1_12844091_G_T_MIMAT0005882       0.550857        0.279106   \n",
       "4  PD4005a_1_12844091_G_T_MIMAT0005933       0.650570        0.375474   \n",
       "\n",
       "   pred_difference   vcf_id mirna_accession    gene_id mutation_context  \\\n",
       "0            0.313  PD4005a    MIMAT0000265  not_found          A[C>A]A   \n",
       "1            0.374  PD4005a    MIMAT0003301  not_found          A[C>A]A   \n",
       "2            0.272  PD4005a    MIMAT0004517  not_found          A[C>A]A   \n",
       "3           -0.272  PD4005a    MIMAT0005882  not_found          A[C>A]A   \n",
       "4           -0.275  PD4005a    MIMAT0005933  not_found          A[C>A]A   \n",
       "\n",
       "  mutsig  is_intron  is_gain  gene_name gene_biotype gene_description  \\\n",
       "0   SBS3      False     True  not_found    not_found        not_found   \n",
       "1   SBS3      False     True  not_found    not_found        not_found   \n",
       "2   SBS3      False     True  not_found    not_found        not_found   \n",
       "3   SBS3      False    False  not_found    not_found        not_found   \n",
       "4   SBS3      False    False  not_found    not_found        not_found   \n",
       "\n",
       "   is_oncogene  is_tumor_suppressor  is_cosmic_tier_1  is_driver  \\\n",
       "0        False                False             False      False   \n",
       "1        False                False             False      False   \n",
       "2        False                False             False      False   \n",
       "3        False                False             False      False   \n",
       "4        False                False             False      False   \n",
       "\n",
       "        mirna_name            mirna_family     seed  is_mirna_oncogene  \\\n",
       "0   hsa-miR-204-5p       miR-204-5p/211-5p  GGCATAG              False   \n",
       "1   hsa-miR-33b-5p               miR-33-5p  CAATGCA              False   \n",
       "2  hsa-miR-106a-3p             miR-106a-3p  TAAGAAG              False   \n",
       "3     hsa-miR-548k  miR-548av-5p/548k/8054  GCAAAAT              False   \n",
       "4  hsa-miR-1277-3p             miR-1277-3p  AAATACA              False   \n",
       "\n",
       "   is_mirna_tumor_suppressor  \n",
       "0                       True  \n",
       "1                      False  \n",
       "2                      False  \n",
       "3                      False  \n",
       "4                      False  "
      ]
     },
     "execution_count": 3,
     "metadata": {},
     "output_type": "execute_result"
    }
   ],
   "source": [
    "df = pd.read_parquet('data/predictions.parquet')\n",
    "\n",
    "mut_threshold, wt_threshold = (0.5 , 0.5)\n",
    "df = s5.filter_rows_by_thresholds(df, mut_threshold, wt_threshold)\n",
    "\n",
    "df[\"is_gain\"] = df.mut_prediction > df.wt_prediction\n",
    "df[\"mutsig\"] = df[\"mutsig\"].fillna(\"not_found\")\n",
    "df[\"gene_id\"] = df[\"gene_id\"].fillna(\"not_found\")\n",
    "\n",
    "df = df.merge(genes[[\"gene_id\", \"gene_name\", \"gene_biotype\", \"gene_description\", \"is_oncogene\", \"is_tumor_suppressor\", \"is_cosmic_tier_1\", \"is_driver\"]], on=\"gene_id\", how=\"left\")\n",
    "df = df.merge(mirnas[[\"mirna_accession\", \"mirna_name\", \"mirna_family\",  \"seed\", 'is_mirna_oncogene', 'is_mirna_tumor_suppressor']], on=\"mirna_accession\", how=\"left\")\n",
    "\n",
    "df[\"gene_name\"] = df[\"gene_name\"].fillna(\"not_found\")\n",
    "df[\"gene_biotype\"] = df[\"gene_biotype\"].fillna(\"not_found\")\n",
    "df[\"gene_description\"] = df[\"gene_description\"].fillna(\"not_found\")\n",
    "\n",
    "# fills bool columns\n",
    "df = df.fillna(False)\n",
    "\n",
    "df.head()\n"
   ]
  },
  {
   "cell_type": "markdown",
   "metadata": {},
   "source": [
    "# oncogenelerin loss olmasını bekleriz. driverların hangileri oncogene? % kaçı aktive olmuş ve lossa sebep olmuş? hangi signatureler burada sorumlu? hangi mutation context sorumlu? hangi mirna family sorumlu\n"
   ]
  },
  {
   "cell_type": "code",
   "execution_count": 3,
   "metadata": {},
   "outputs": [
    {
     "data": {
      "image/png": "[encoded data removed]",
      "text/plain": [
       "<Figure size 640x480 with 1 Axes>"
      ]
     },
     "metadata": {},
     "output_type": "display_data"
    }
   ],
   "source": [
    "# Count the occurrences of each category\n",
    "intron_counts = df[~(df[\"gene_name\"] == \"not_found\")].is_intron.value_counts()\n",
    "\n",
    "# Create the pie chart\n",
    "fig, ax = plt.subplots()\n",
    "ax.pie(intron_counts, labels=intron_counts.index, autopct='%1.1f%%', startangle=45, textprops={'fontsize': 14})\n",
    "\n",
    "ax.set_title('Intron Distribution', fontsize=16, fontweight='bold')\n",
    "ax.axis('equal')\n",
    "ax.legend(title='Is Intron', loc='center left', bbox_to_anchor=(1, 0.5), fontsize=12)\n",
    "\n",
    "# Adjust the layout and display the plot\n",
    "plt.tight_layout()\n",
    "plt.show()"
   ]
  },
  {
   "cell_type": "code",
   "execution_count": 4,
   "metadata": {},
   "outputs": [],
   "source": [
    "driver_oncogenes = set(df[(df.is_driver) & (df.is_oncogene)].gene_name.unique().tolist())\n",
    "driver_tsupps = set(df[(df.is_driver) & (df.is_tumor_suppressor)].gene_name.unique().tolist())\n",
    "\n",
    "only_driver_oncogenes = driver_oncogenes - driver_tsupps\n",
    "only_driver_tsupps = driver_tsupps - driver_oncogenes\n",
    "crossections = driver_oncogenes & driver_tsupps\n"
   ]
  },
  {
   "cell_type": "code",
   "execution_count": 5,
   "metadata": {},
   "outputs": [
    {
     "data": {
      "image/png": "[encoded data removed]",
      "text/plain": [
       "<Figure size 1800x500 with 3 Axes>"
      ]
     },
     "metadata": {},
     "output_type": "display_data"
    }
   ],
   "source": [
    "\n",
    "oncogene_gain_counts = df[df.gene_name.isin(only_driver_oncogenes)].is_gain.value_counts()\n",
    "tsupp_gain_counts = df[df.gene_name.isin(only_driver_tsupps)].is_gain.value_counts()\n",
    "both_gain_counts = df[df.gene_name.isin(crossections)].is_gain.value_counts()\n",
    "\n",
    "fig, (ax1, ax2, ax3) = plt.subplots(1, 3, figsize=(18, 5))\n",
    "\n",
    "ax1.pie(oncogene_gain_counts, labels=[f\"{label} ({count})\" for label, count in oncogene_gain_counts.items()],\n",
    "        autopct='%1.1f%%', startangle=90, textprops={'fontsize': 12})\n",
    "ax1.set_title('Gain Distribution\\n for Driver Oncogenes', fontsize=14, fontweight='bold')\n",
    "ax1.axis('equal')\n",
    "\n",
    "ax2.pie(tsupp_gain_counts, labels=[f\"{label} ({count})\" for label, count in tsupp_gain_counts.items()],\n",
    "        autopct='%1.1f%%', startangle=90, textprops={'fontsize': 12})\n",
    "ax2.set_title('Gain Distribution\\n for Driver Tumor Suppressors', fontsize=14, fontweight='bold')\n",
    "ax2.axis('equal')\n",
    "\n",
    "ax3.pie(both_gain_counts, labels=[f\"{label} ({count})\" for label, count in both_gain_counts.items()],\n",
    "        autopct='%1.1f%%', startangle=90, textprops={'fontsize': 12})\n",
    "ax3.set_title('Gain Distribution\\n for genes that are both Oncogenes and Tumor Suppressors', fontsize=14, fontweight='bold')\n",
    "ax3.axis('equal')\n",
    "\n",
    "plt.tight_layout()\n",
    "plt.show()\n"
   ]
  },
  {
   "cell_type": "markdown",
   "metadata": {},
   "source": [
    "# count plots"
   ]
  },
  {
   "cell_type": "code",
   "execution_count": 6,
   "metadata": {},
   "outputs": [],
   "source": [
    "import plotly.graph_objects as go\n",
    "\n",
    "def plot_grouped_counts(df, filter_expr, column):\n",
    "    # Get the value counts for the filtered data\n",
    "    filtered_counts = df[filter_expr].groupby(\"is_gain\")[column].value_counts().unstack(level=0)\n",
    "    filtered_counts = filtered_counts.unstack(level=0)\n",
    "\n",
    "    # Fill missing values with 0\n",
    "    filtered_counts = filtered_counts.fillna(0)\n",
    "    filtered_counts = filtered_counts.sort_values(ascending=False)\n",
    "\n",
    "    # Get the unique mutsig values\n",
    "    mutsig_values = filtered_counts.index.get_level_values(column).unique()\n",
    "\n",
    "    # Create traces for each mutsig value\n",
    "    traces = []\n",
    "    for mutsig in mutsig_values:\n",
    "        trace = go.Bar(\n",
    "            name=mutsig,\n",
    "            x=['True', 'False'],\n",
    "            y=[filtered_counts.loc[(True, mutsig)], filtered_counts.loc[(False, mutsig)]],\n",
    "            text=[filtered_counts.loc[(True, mutsig)], filtered_counts.loc[(False, mutsig)]],\n",
    "            textposition='auto'\n",
    "        )\n",
    "        traces.append(trace)\n",
    "\n",
    "    # Create the layout for the plot\n",
    "    layout = go.Layout(\n",
    "        title='Grouped Counts',\n",
    "        xaxis=dict(title='is_gain'),\n",
    "        yaxis=dict(title='Count'),\n",
    "        barmode='stack'\n",
    "    )\n",
    "\n",
    "    # Create the figure and add the traces\n",
    "    fig = go.Figure(data=traces, layout=layout)\n",
    "\n",
    "    # Display the interactive plot\n",
    "    fig.show()\n",
    "\n",
    "\n"
   ]
  },
  {
   "cell_type": "code",
   "execution_count": 24,
   "metadata": {},
   "outputs": [
    {
     "data": {
      "application/vnd.plotly.v1+json": {
       "config": {
        "plotlyServerURL": "https://plot.ly"
       },
       "data": [
        {
         "name": "T[C>T]A",
         "text": [
          "551.0",
          "79.0"
         ],
         "textposition": "auto",
         "type": "bar",
         "x": [
          "True",
          "False"
         ],
         "y": [
          551,
          79
         ]
        },
        {
         "name": "T[C>T]T",
         "text": [
          "335.0",
          "3.0"
         ],
         "textposition": "auto",
         "type": "bar",
         "x": [
          "True",
          "False"
         ],
         "y": [
          335,
          3
         ]
        },
        {
         "name": "C[C>T]A",
         "text": [
          "146.0",
          "5.0"
         ],
         "textposition": "auto",
         "type": "bar",
         "x": [
          "True",
          "False"
         ],
         "y": [
          146,
          5
         ]
        },
        {
         "name": "T[C>A]C",
         "text": [
          "91.0",
          "0.0"
         ],
         "textposition": "auto",
         "type": "bar",
         "x": [
          "True",
          "False"
         ],
         "y": [
          91,
          0
         ]
        },
        {
         "name": "A[C>T]G",
         "text": [
          "77.0",
          "4.0"
         ],
         "textposition": "auto",
         "type": "bar",
         "x": [
          "True",
          "False"
         ],
         "y": [
          77,
          4
         ]
        },
        {
         "name": "C[C>A]T",
         "text": [
          "70.0",
          "2.0"
         ],
         "textposition": "auto",
         "type": "bar",
         "x": [
          "True",
          "False"
         ],
         "y": [
          70,
          2
         ]
        },
        {
         "name": "T[C>T]G",
         "text": [
          "70.0",
          "3.0"
         ],
         "textposition": "auto",
         "type": "bar",
         "x": [
          "True",
          "False"
         ],
         "y": [
          70,
          3
         ]
        },
        {
         "name": "A[C>T]T",
         "text": [
          "64.0",
          "2.0"
         ],
         "textposition": "auto",
         "type": "bar",
         "x": [
          "True",
          "False"
         ],
         "y": [
          64,
          2
         ]
        },
        {
         "name": "A[T>C]T",
         "text": [
          "2.0",
          "61.0"
         ],
         "textposition": "auto",
         "type": "bar",
         "x": [
          "True",
          "False"
         ],
         "y": [
          2,
          61
         ]
        },
        {
         "name": "T[C>T]C",
         "text": [
          "54.0",
          "4.0"
         ],
         "textposition": "auto",
         "type": "bar",
         "x": [
          "True",
          "False"
         ],
         "y": [
          54,
          4
         ]
        },
        {
         "name": "T[C>A]T",
         "text": [
          "48.0",
          "2.0"
         ],
         "textposition": "auto",
         "type": "bar",
         "x": [
          "True",
          "False"
         ],
         "y": [
          48,
          2
         ]
        },
        {
         "name": "C[T>C]T",
         "text": [
          "0.0",
          "42.0"
         ],
         "textposition": "auto",
         "type": "bar",
         "x": [
          "True",
          "False"
         ],
         "y": [
          0,
          42
         ]
        },
        {
         "name": "T[C>A]G",
         "text": [
          "40.0",
          "2.0"
         ],
         "textposition": "auto",
         "type": "bar",
         "x": [
          "True",
          "False"
         ],
         "y": [
          40,
          2
         ]
        },
        {
         "name": "T[T>C]C",
         "text": [
          "3.0",
          "35.0"
         ],
         "textposition": "auto",
         "type": "bar",
         "x": [
          "True",
          "False"
         ],
         "y": [
          3,
          35
         ]
        },
        {
         "name": "C[T>C]G",
         "text": [
          "11.0",
          "34.0"
         ],
         "textposition": "auto",
         "type": "bar",
         "x": [
          "True",
          "False"
         ],
         "y": [
          11,
          34
         ]
        },
        {
         "name": "T[T>C]A",
         "text": [
          "12.0",
          "33.0"
         ],
         "textposition": "auto",
         "type": "bar",
         "x": [
          "True",
          "False"
         ],
         "y": [
          12,
          33
         ]
        },
        {
         "name": "G[T>C]A",
         "text": [
          "2.0",
          "31.0"
         ],
         "textposition": "auto",
         "type": "bar",
         "x": [
          "True",
          "False"
         ],
         "y": [
          2,
          31
         ]
        },
        {
         "name": "A[T>G]A",
         "text": [
          "0.0",
          "30.0"
         ],
         "textposition": "auto",
         "type": "bar",
         "x": [
          "True",
          "False"
         ],
         "y": [
          0,
          30
         ]
        },
        {
         "name": "T[C>A]A",
         "text": [
          "29.0",
          "0.0"
         ],
         "textposition": "auto",
         "type": "bar",
         "x": [
          "True",
          "False"
         ],
         "y": [
          29,
          0
         ]
        },
        {
         "name": "G[C>T]A",
         "text": [
          "24.0",
          "4.0"
         ],
         "textposition": "auto",
         "type": "bar",
         "x": [
          "True",
          "False"
         ],
         "y": [
          24,
          4
         ]
        },
        {
         "name": "C[C>A]A",
         "text": [
          "24.0",
          "2.0"
         ],
         "textposition": "auto",
         "type": "bar",
         "x": [
          "True",
          "False"
         ],
         "y": [
          24,
          2
         ]
        },
        {
         "name": "C[C>T]C",
         "text": [
          "21.0",
          "1.0"
         ],
         "textposition": "auto",
         "type": "bar",
         "x": [
          "True",
          "False"
         ],
         "y": [
          21,
          1
         ]
        },
        {
         "name": "A[T>C]C",
         "text": [
          "0.0",
          "19.0"
         ],
         "textposition": "auto",
         "type": "bar",
         "x": [
          "True",
          "False"
         ],
         "y": [
          0,
          19
         ]
        },
        {
         "name": "C[T>C]C",
         "text": [
          "17.0",
          "6.0"
         ],
         "textposition": "auto",
         "type": "bar",
         "x": [
          "True",
          "False"
         ],
         "y": [
          17,
          6
         ]
        },
        {
         "name": "C[T>G]T",
         "text": [
          "1.0",
          "16.0"
         ],
         "textposition": "auto",
         "type": "bar",
         "x": [
          "True",
          "False"
         ],
         "y": [
          1,
          16
         ]
        },
        {
         "name": "T[T>C]G",
         "text": [
          "1.0",
          "16.0"
         ],
         "textposition": "auto",
         "type": "bar",
         "x": [
          "True",
          "False"
         ],
         "y": [
          1,
          16
         ]
        },
        {
         "name": "A[C>A]T",
         "text": [
          "9.0",
          "0.0"
         ],
         "textposition": "auto",
         "type": "bar",
         "x": [
          "True",
          "False"
         ],
         "y": [
          9,
          0
         ]
        },
        {
         "name": "G[C>A]A",
         "text": [
          "6.0",
          "2.0"
         ],
         "textposition": "auto",
         "type": "bar",
         "x": [
          "True",
          "False"
         ],
         "y": [
          6,
          2
         ]
        },
        {
         "name": "G[T>C]G",
         "text": [
          "1.0",
          "4.0"
         ],
         "textposition": "auto",
         "type": "bar",
         "x": [
          "True",
          "False"
         ],
         "y": [
          1,
          4
         ]
        },
        {
         "name": "A[C>T]C",
         "text": [
          "2.0",
          "0.0"
         ],
         "textposition": "auto",
         "type": "bar",
         "x": [
          "True",
          "False"
         ],
         "y": [
          2,
          0
         ]
        },
        {
         "name": "T[T>A]T",
         "text": [
          "2.0",
          "0.0"
         ],
         "textposition": "auto",
         "type": "bar",
         "x": [
          "True",
          "False"
         ],
         "y": [
          2,
          0
         ]
        },
        {
         "name": "G[C>T]G",
         "text": [
          "1.0",
          "1.0"
         ],
         "textposition": "auto",
         "type": "bar",
         "x": [
          "True",
          "False"
         ],
         "y": [
          1,
          1
         ]
        },
        {
         "name": "T[T>G]T",
         "text": [
          "0.0",
          "1.0"
         ],
         "textposition": "auto",
         "type": "bar",
         "x": [
          "True",
          "False"
         ],
         "y": [
          0,
          1
         ]
        },
        {
         "name": "T[T>A]C",
         "text": [
          "0.0",
          "1.0"
         ],
         "textposition": "auto",
         "type": "bar",
         "x": [
          "True",
          "False"
         ],
         "y": [
          0,
          1
         ]
        }
       ],
       "layout": {
        "barmode": "stack",
        "template": {
         "data": {
          "bar": [
           {
            "error_x": {
             "color": "#2a3f5f"
            },
            "error_y": {
             "color": "#2a3f5f"
            },
            "marker": {
             "line": {
              "color": "#E5ECF6",
              "width": 0.5
             },
             "pattern": {
              "fillmode": "overlay",
              "size": 10,
              "solidity": 0.2
             }
            },
            "type": "bar"
           }
          ],
          "barpolar": [
           {
            "marker": {
             "line": {
              "color": "#E5ECF6",
              "width": 0.5
             },
             "pattern": {
              "fillmode": "overlay",
              "size": 10,
              "solidity": 0.2
             }
            },
            "type": "barpolar"
           }
          ],
          "carpet": [
           {
            "aaxis": {
             "endlinecolor": "#2a3f5f",
             "gridcolor": "white",
             "linecolor": "white",
             "minorgridcolor": "white",
             "startlinecolor": "#2a3f5f"
            },
            "baxis": {
             "endlinecolor": "#2a3f5f",
             "gridcolor": "white",
             "linecolor": "white",
             "minorgridcolor": "white",
             "startlinecolor": "#2a3f5f"
            },
            "type": "carpet"
           }
          ],
          "choropleth": [
           {
            "colorbar": {
             "outlinewidth": 0,
             "ticks": ""
            },
            "type": "choropleth"
           }
          ],
          "contour": [
           {
            "colorbar": {
             "outlinewidth": 0,
             "ticks": ""
            },
            "colorscale": [
             [
              0,
              "#0d0887"
             ],
             [
              0.1111111111111111,
              "#46039f"
             ],
             [
              0.2222222222222222,
              "#7201a8"
             ],
             [
              0.3333333333333333,
              "#9c179e"
             ],
             [
              0.4444444444444444,
              "#bd3786"
             ],
             [
              0.5555555555555556,
              "#d8576b"
             ],
             [
              0.6666666666666666,
              "#ed7953"
             ],
             [
              0.7777777777777778,
              "#fb9f3a"
             ],
             [
              0.8888888888888888,
              "#fdca26"
             ],
             [
              1,
              "#f0f921"
             ]
            ],
            "type": "contour"
           }
          ],
          "contourcarpet": [
           {
            "colorbar": {
             "outlinewidth": 0,
             "ticks": ""
            },
            "type": "contourcarpet"
           }
          ],
          "heatmap": [
           {
            "colorbar": {
             "outlinewidth": 0,
             "ticks": ""
            },
            "colorscale": [
             [
              0,
              "#0d0887"
             ],
             [
              0.1111111111111111,
              "#46039f"
             ],
             [
              0.2222222222222222,
              "#7201a8"
             ],
             [
              0.3333333333333333,
              "#9c179e"
             ],
             [
              0.4444444444444444,
              "#bd3786"
             ],
             [
              0.5555555555555556,
              "#d8576b"
             ],
             [
              0.6666666666666666,
              "#ed7953"
             ],
             [
              0.7777777777777778,
              "#fb9f3a"
             ],
             [
              0.8888888888888888,
              "#fdca26"
             ],
             [
              1,
              "#f0f921"
             ]
            ],
            "type": "heatmap"
           }
          ],
          "heatmapgl": [
           {
            "colorbar": {
             "outlinewidth": 0,
             "ticks": ""
            },
            "colorscale": [
             [
              0,
              "#0d0887"
             ],
             [
              0.1111111111111111,
              "#46039f"
             ],
             [
              0.2222222222222222,
              "#7201a8"
             ],
             [
              0.3333333333333333,
              "#9c179e"
             ],
             [
              0.4444444444444444,
              "#bd3786"
             ],
             [
              0.5555555555555556,
              "#d8576b"
             ],
             [
              0.6666666666666666,
              "#ed7953"
             ],
             [
              0.7777777777777778,
              "#fb9f3a"
             ],
             [
              0.8888888888888888,
              "#fdca26"
             ],
             [
              1,
              "#f0f921"
             ]
            ],
            "type": "heatmapgl"
           }
          ],
          "histogram": [
           {
            "marker": {
             "pattern": {
              "fillmode": "overlay",
              "size": 10,
              "solidity": 0.2
             }
            },
            "type": "histogram"
           }
          ],
          "histogram2d": [
           {
            "colorbar": {
             "outlinewidth": 0,
             "ticks": ""
            },
            "colorscale": [
             [
              0,
              "#0d0887"
             ],
             [
              0.1111111111111111,
              "#46039f"
             ],
             [
              0.2222222222222222,
              "#7201a8"
             ],
             [
              0.3333333333333333,
              "#9c179e"
             ],
             [
              0.4444444444444444,
              "#bd3786"
             ],
             [
              0.5555555555555556,
              "#d8576b"
             ],
             [
              0.6666666666666666,
              "#ed7953"
             ],
             [
              0.7777777777777778,
              "#fb9f3a"
             ],
             [
              0.8888888888888888,
              "#fdca26"
             ],
             [
              1,
              "#f0f921"
             ]
            ],
            "type": "histogram2d"
           }
          ],
          "histogram2dcontour": [
           {
            "colorbar": {
             "outlinewidth": 0,
             "ticks": ""
            },
            "colorscale": [
             [
              0,
              "#0d0887"
             ],
             [
              0.1111111111111111,
              "#46039f"
             ],
             [
              0.2222222222222222,
              "#7201a8"
             ],
             [
              0.3333333333333333,
              "#9c179e"
             ],
             [
              0.4444444444444444,
              "#bd3786"
             ],
             [
              0.5555555555555556,
              "#d8576b"
             ],
             [
              0.6666666666666666,
              "#ed7953"
             ],
             [
              0.7777777777777778,
              "#fb9f3a"
             ],
             [
              0.8888888888888888,
              "#fdca26"
             ],
             [
              1,
              "#f0f921"
             ]
            ],
            "type": "histogram2dcontour"
           }
          ],
          "mesh3d": [
           {
            "colorbar": {
             "outlinewidth": 0,
             "ticks": ""
            },
            "type": "mesh3d"
           }
          ],
          "parcoords": [
           {
            "line": {
             "colorbar": {
              "outlinewidth": 0,
              "ticks": ""
             }
            },
            "type": "parcoords"
           }
          ],
          "pie": [
           {
            "automargin": true,
            "type": "pie"
           }
          ],
          "scatter": [
           {
            "fillpattern": {
             "fillmode": "overlay",
             "size": 10,
             "solidity": 0.2
            },
            "type": "scatter"
           }
          ],
          "scatter3d": [
           {
            "line": {
             "colorbar": {
              "outlinewidth": 0,
              "ticks": ""
             }
            },
            "marker": {
             "colorbar": {
              "outlinewidth": 0,
              "ticks": ""
             }
            },
            "type": "scatter3d"
           }
          ],
          "scattercarpet": [
           {
            "marker": {
             "colorbar": {
              "outlinewidth": 0,
              "ticks": ""
             }
            },
            "type": "scattercarpet"
           }
          ],
          "scattergeo": [
           {
            "marker": {
             "colorbar": {
              "outlinewidth": 0,
              "ticks": ""
             }
            },
            "type": "scattergeo"
           }
          ],
          "scattergl": [
           {
            "marker": {
             "colorbar": {
              "outlinewidth": 0,
              "ticks": ""
             }
            },
            "type": "scattergl"
           }
          ],
          "scattermapbox": [
           {
            "marker": {
             "colorbar": {
              "outlinewidth": 0,
              "ticks": ""
             }
            },
            "type": "scattermapbox"
           }
          ],
          "scatterpolar": [
           {
            "marker": {
             "colorbar": {
              "outlinewidth": 0,
              "ticks": ""
             }
            },
            "type": "scatterpolar"
           }
          ],
          "scatterpolargl": [
           {
            "marker": {
             "colorbar": {
              "outlinewidth": 0,
              "ticks": ""
             }
            },
            "type": "scatterpolargl"
           }
          ],
          "scatterternary": [
           {
            "marker": {
             "colorbar": {
              "outlinewidth": 0,
              "ticks": ""
             }
            },
            "type": "scatterternary"
           }
          ],
          "surface": [
           {
            "colorbar": {
             "outlinewidth": 0,
             "ticks": ""
            },
            "colorscale": [
             [
              0,
              "#0d0887"
             ],
             [
              0.1111111111111111,
              "#46039f"
             ],
             [
              0.2222222222222222,
              "#7201a8"
             ],
             [
              0.3333333333333333,
              "#9c179e"
             ],
             [
              0.4444444444444444,
              "#bd3786"
             ],
             [
              0.5555555555555556,
              "#d8576b"
             ],
             [
              0.6666666666666666,
              "#ed7953"
             ],
             [
              0.7777777777777778,
              "#fb9f3a"
             ],
             [
              0.8888888888888888,
              "#fdca26"
             ],
             [
              1,
              "#f0f921"
             ]
            ],
            "type": "surface"
           }
          ],
          "table": [
           {
            "cells": {
             "fill": {
              "color": "#EBF0F8"
             },
             "line": {
              "color": "white"
             }
            },
            "header": {
             "fill": {
              "color": "#C8D4E3"
             },
             "line": {
              "color": "white"
             }
            },
            "type": "table"
           }
          ]
         },
         "layout": {
          "annotationdefaults": {
           "arrowcolor": "#2a3f5f",
           "arrowhead": 0,
           "arrowwidth": 1
          },
          "autotypenumbers": "strict",
          "coloraxis": {
           "colorbar": {
            "outlinewidth": 0,
            "ticks": ""
           }
          },
          "colorscale": {
           "diverging": [
            [
             0,
             "#8e0152"
            ],
            [
             0.1,
             "#c51b7d"
            ],
            [
             0.2,
             "#de77ae"
            ],
            [
             0.3,
             "#f1b6da"
            ],
            [
             0.4,
             "#fde0ef"
            ],
            [
             0.5,
             "#f7f7f7"
            ],
            [
             0.6,
             "#e6f5d0"
            ],
            [
             0.7,
             "#b8e186"
            ],
            [
             0.8,
             "#7fbc41"
            ],
            [
             0.9,
             "#4d9221"
            ],
            [
             1,
             "#276419"
            ]
           ],
           "sequential": [
            [
             0,
             "#0d0887"
            ],
            [
             0.1111111111111111,
             "#46039f"
            ],
            [
             0.2222222222222222,
             "#7201a8"
            ],
            [
             0.3333333333333333,
             "#9c179e"
            ],
            [
             0.4444444444444444,
             "#bd3786"
            ],
            [
             0.5555555555555556,
             "#d8576b"
            ],
            [
             0.6666666666666666,
             "#ed7953"
            ],
            [
             0.7777777777777778,
             "#fb9f3a"
            ],
            [
             0.8888888888888888,
             "#fdca26"
            ],
            [
             1,
             "#f0f921"
            ]
           ],
           "sequentialminus": [
            [
             0,
             "#0d0887"
            ],
            [
             0.1111111111111111,
             "#46039f"
            ],
            [
             0.2222222222222222,
             "#7201a8"
            ],
            [
             0.3333333333333333,
             "#9c179e"
            ],
            [
             0.4444444444444444,
             "#bd3786"
            ],
            [
             0.5555555555555556,
             "#d8576b"
            ],
            [
             0.6666666666666666,
             "#ed7953"
            ],
            [
             0.7777777777777778,
             "#fb9f3a"
            ],
            [
             0.8888888888888888,
             "#fdca26"
            ],
            [
             1,
             "#f0f921"
            ]
           ]
          },
          "colorway": [
           "#636efa",
           "#EF553B",
           "#00cc96",
           "#ab63fa",
           "#FFA15A",
           "#19d3f3",
           "#FF6692",
           "#B6E880",
           "#FF97FF",
           "#FECB52"
          ],
          "font": {
           "color": "#2a3f5f"
          },
          "geo": {
           "bgcolor": "white",
           "lakecolor": "white",
           "landcolor": "#E5ECF6",
           "showlakes": true,
           "showland": true,
           "subunitcolor": "white"
          },
          "hoverlabel": {
           "align": "left"
          },
          "hovermode": "closest",
          "mapbox": {
           "style": "light"
          },
          "paper_bgcolor": "white",
          "plot_bgcolor": "#E5ECF6",
          "polar": {
           "angularaxis": {
            "gridcolor": "white",
            "linecolor": "white",
            "ticks": ""
           },
           "bgcolor": "#E5ECF6",
           "radialaxis": {
            "gridcolor": "white",
            "linecolor": "white",
            "ticks": ""
           }
          },
          "scene": {
           "xaxis": {
            "backgroundcolor": "#E5ECF6",
            "gridcolor": "white",
            "gridwidth": 2,
            "linecolor": "white",
            "showbackground": true,
            "ticks": "",
            "zerolinecolor": "white"
           },
           "yaxis": {
            "backgroundcolor": "#E5ECF6",
            "gridcolor": "white",
            "gridwidth": 2,
            "linecolor": "white",
            "showbackground": true,
            "ticks": "",
            "zerolinecolor": "white"
           },
           "zaxis": {
            "backgroundcolor": "#E5ECF6",
            "gridcolor": "white",
            "gridwidth": 2,
            "linecolor": "white",
            "showbackground": true,
            "ticks": "",
            "zerolinecolor": "white"
           }
          },
          "shapedefaults": {
           "line": {
            "color": "#2a3f5f"
           }
          },
          "ternary": {
           "aaxis": {
            "gridcolor": "white",
            "linecolor": "white",
            "ticks": ""
           },
           "baxis": {
            "gridcolor": "white",
            "linecolor": "white",
            "ticks": ""
           },
           "bgcolor": "#E5ECF6",
           "caxis": {
            "gridcolor": "white",
            "linecolor": "white",
            "ticks": ""
           }
          },
          "title": {
           "x": 0.05
          },
          "xaxis": {
           "automargin": true,
           "gridcolor": "white",
           "linecolor": "white",
           "ticks": "",
           "title": {
            "standoff": 15
           },
           "zerolinecolor": "white",
           "zerolinewidth": 2
          },
          "yaxis": {
           "automargin": true,
           "gridcolor": "white",
           "linecolor": "white",
           "ticks": "",
           "title": {
            "standoff": 15
           },
           "zerolinecolor": "white",
           "zerolinewidth": 2
          }
         }
        },
        "title": {
         "text": "Grouped Counts"
        },
        "xaxis": {
         "title": {
          "text": "is_gain"
         }
        },
        "yaxis": {
         "title": {
          "text": "Count"
         }
        }
       }
      }
     },
     "metadata": {},
     "output_type": "display_data"
    }
   ],
   "source": [
    "filter_arg = df.gene_name.isin(driver_oncogenes)\n",
    "plot_grouped_counts(df, filter_arg, \"mutation_context\")\n",
    "\n"
   ]
  },
  {
   "cell_type": "markdown",
   "metadata": {},
   "source": [
    "# tug of war?"
   ]
  },
  {
   "cell_type": "code",
   "execution_count": 8,
   "metadata": {},
   "outputs": [
    {
     "data": {
      "text/html": [
       "<div>\n",
       "<style scoped>\n",
       "    .dataframe tbody tr th:only-of-type {\n",
       "        vertical-align: middle;\n",
       "    }\n",
       "\n",
       "    .dataframe tbody tr th {\n",
       "        vertical-align: top;\n",
       "    }\n",
       "\n",
       "    .dataframe thead th {\n",
       "        text-align: right;\n",
       "    }\n",
       "</style>\n",
       "<table border=\"1\" class=\"dataframe\">\n",
       "  <thead>\n",
       "    <tr style=\"text-align: right;\">\n",
       "      <th></th>\n",
       "      <th>Oncogene</th>\n",
       "      <th>Tumor Suppressor</th>\n",
       "    </tr>\n",
       "  </thead>\n",
       "  <tbody>\n",
       "    <tr>\n",
       "      <th>Upregulated</th>\n",
       "      <td>342</td>\n",
       "      <td>719</td>\n",
       "    </tr>\n",
       "    <tr>\n",
       "      <th>Downregulated</th>\n",
       "      <td>1372</td>\n",
       "      <td>2320</td>\n",
       "    </tr>\n",
       "  </tbody>\n",
       "</table>\n",
       "</div>"
      ],
      "text/plain": [
       "              Oncogene Tumor Suppressor\n",
       "Upregulated        342              719\n",
       "Downregulated     1372             2320"
      ]
     },
     "execution_count": 8,
     "metadata": {},
     "output_type": "execute_result"
    }
   ],
   "source": [
    "is_driver_oncogene = (df.is_oncogene) & ~(df.is_tumor_suppressor) & (df.is_driver)\n",
    "is_driver_tsupp = ~(df.is_oncogene) & (df.is_tumor_suppressor) & (df.is_driver)\n",
    "is_gene_upregulated = ~df.is_gain\n",
    "is_gene_downregulated = df.is_gain\n",
    "\n",
    "conf_matrix = pd.DataFrame(index=['Upregulated', 'Downregulated'], columns=['Oncogene', 'Tumor Suppressor'])\n",
    "\n",
    "conf_matrix.at['Upregulated', 'Oncogene'] = ((is_driver_oncogene) & (is_gene_upregulated)).sum()\n",
    "conf_matrix.at['Downregulated', 'Oncogene'] = ((is_driver_oncogene) & (is_gene_downregulated)).sum()\n",
    "conf_matrix.at['Upregulated', 'Tumor Suppressor'] = ((is_driver_tsupp) & (is_gene_upregulated)).sum()\n",
    "conf_matrix.at['Downregulated', 'Tumor Suppressor'] = ((is_driver_tsupp) & (is_gene_downregulated)).sum()\n",
    "\n",
    "conf_matrix\n"
   ]
  },
  {
   "cell_type": "code",
   "execution_count": 9,
   "metadata": {},
   "outputs": [
    {
     "name": "stdout",
     "output_type": "stream",
     "text": [
      "                         Oncogene Tumor Suppressor\n",
      "Upregulated                   342              719\n",
      "Downregulated                1372             2320\n",
      "Percentage Upregulated  19.953326        23.659098\n",
      "overall percent upregulated/downregulated: 0.3406758863722736\n",
      "overall percent of driver upregulated/downregulated: 0.32642089093702\n"
     ]
    }
   ],
   "source": [
    "import pandas as pd\n",
    "\n",
    "# Assuming df is your original DataFrame\n",
    "\n",
    "# Conditions\n",
    "is_driver_oncogene = (df.is_oncogene) & ~(df.is_tumor_suppressor) & (df.is_driver)\n",
    "is_driver_tsupp = ~(df.is_oncogene) & (df.is_tumor_suppressor) & (df.is_driver)\n",
    "is_gene_upregulated = ~df.is_gain\n",
    "is_gene_downregulated = df.is_gain\n",
    "\n",
    "# Creating a DataFrame to hold the confusion matrix\n",
    "conf_matrix = pd.DataFrame(index=['Upregulated', 'Downregulated', 'Percentage Upregulated'], columns=['Oncogene', 'Tumor Suppressor'])\n",
    "\n",
    "# Filling the confusion matrix\n",
    "conf_matrix.at['Upregulated', 'Oncogene'] = ((is_driver_oncogene) & (is_gene_upregulated)).sum()\n",
    "conf_matrix.at['Downregulated', 'Oncogene'] = ((is_driver_oncogene) & (is_gene_downregulated)).sum()\n",
    "conf_matrix.at['Upregulated', 'Tumor Suppressor'] = ((is_driver_tsupp) & (is_gene_upregulated)).sum()\n",
    "conf_matrix.at['Downregulated', 'Tumor Suppressor'] = ((is_driver_tsupp) & (is_gene_downregulated)).sum()\n",
    "\n",
    "# Calculate the total number of genes in each category\n",
    "total_oncogene = conf_matrix.at['Upregulated', 'Oncogene'] + conf_matrix.at['Downregulated', 'Oncogene']\n",
    "total_tsupp = conf_matrix.at['Upregulated', 'Tumor Suppressor'] + conf_matrix.at['Downregulated', 'Tumor Suppressor']\n",
    "\n",
    "# Calculate the percentage of upregulated genes\n",
    "conf_matrix.at['Percentage Upregulated', 'Oncogene'] = (conf_matrix.at['Upregulated', 'Oncogene'] / total_oncogene) * 100 if total_oncogene > 0 else 0\n",
    "conf_matrix.at['Percentage Upregulated', 'Tumor Suppressor'] = (conf_matrix.at['Upregulated', 'Tumor Suppressor'] / total_tsupp) * 100 if total_tsupp > 0 else 0\n",
    "\n",
    "print(conf_matrix)\n",
    "print(f\"overall percent upregulated/downregulated: {len(df[~df.is_gain]) / len(df[df.is_gain])}\")\n",
    "print(f\"overall percent of driver upregulated/downregulated: {len(df[df.is_driver & ~df.is_gain]) / len(df[df.is_driver & df.is_gain])}\")\n",
    "\n"
   ]
  },
  {
   "cell_type": "markdown",
   "metadata": {},
   "source": [
    "# up&down percentages per attributes"
   ]
  },
  {
   "cell_type": "code",
   "execution_count": 10,
   "metadata": {},
   "outputs": [],
   "source": [
    "df[\"is_gene_upregulated\"] = ~df.is_gain\n",
    "df[\"is_gene_downregulated\"] = df.is_gain"
   ]
  },
  {
   "cell_type": "code",
   "execution_count": 11,
   "metadata": {},
   "outputs": [
    {
     "data": {
      "image/png": "[encoded data removed]",
      "text/plain": [
       "<Figure size 2000x600 with 1 Axes>"
      ]
     },
     "metadata": {},
     "output_type": "display_data"
    }
   ],
   "source": [
    "\n",
    "mutation_context_analysis = df[df['is_driver']].groupby('mutation_context').apply(\n",
    "    lambda x: pd.Series({\n",
    "        'Percent Upregulated Drivers': (x['is_gene_upregulated'].sum() / len(x)) * 100,\n",
    "        'Percent Downregulated Drivers': (x['is_gene_downregulated'].sum() / len(x)) * 100,\n",
    "        'Count Upregulated Drivers': x['is_gene_upregulated'].sum(),\n",
    "        'Count Downregulated Drivers': x['is_gene_downregulated'].sum()\n",
    "    }), include_groups=False\n",
    ").sort_values(by='Percent Upregulated Drivers', ascending=False).reset_index()\n",
    "\n",
    "# Define colors for the bars\n",
    "colors = ['#0aa527', '#ff4500']\n",
    "\n",
    "# Plotting the stacked bar chart with specified colors\n",
    "ax = mutation_context_analysis.plot(x='mutation_context', y=['Percent Upregulated Drivers', 'Percent Downregulated Drivers'], kind='bar', stacked=True, figsize=(20, 6), color=colors)\n",
    "\n",
    "# Adding the counts below the x-axis labels with matching colors\n",
    "for i, row in mutation_context_analysis.iterrows():\n",
    "    # Position for the upregulated drivers count, using the first color\n",
    "    plt.text(i, -5, f\"{int(row['Count Upregulated Drivers'])}\", ha='center', va='center', color=colors[0], fontsize=10)\n",
    "    # Position for the downregulated drivers count, using the second color\n",
    "    plt.text(i, -10, f\"{int(row['Count Downregulated Drivers'])}\", ha='center', va='center', color=colors[1], fontsize=10)\n",
    "\n",
    "plt.xticks(rotation=90)\n",
    "plt.ylabel('Percentage')\n",
    "plt.title('Percentage and Count of Upregulated and Downregulated Driver Genes by Mutation Context')\n",
    "plt.ylim(-15, 100)  # Adjust the y-axis limit to make space for the text annotations\n",
    "ax.legend(loc='upper left', bbox_to_anchor=(1, 1))\n",
    "plt.show()\n"
   ]
  },
  {
   "cell_type": "code",
   "execution_count": 29,
   "metadata": {},
   "outputs": [
    {
     "data": {
      "image/png": "[encoded data removed]",
      "text/plain": [
       "<Figure size 2000x600 with 1 Axes>"
      ]
     },
     "metadata": {},
     "output_type": "display_data"
    },
    {
     "data": {
      "image/png": "[encoded data removed]",
      "text/plain": [
       "<Figure size 2000x600 with 1 Axes>"
      ]
     },
     "metadata": {},
     "output_type": "display_data"
    }
   ],
   "source": [
    "\n",
    "mutsig_analysis = df[df['is_oncogene']].groupby('mutsig').apply(\n",
    "    lambda x: pd.Series({\n",
    "        'Percent Upregulated Drivers': (x['is_gene_upregulated'].sum() / len(x)) * 100,\n",
    "        'Percent Downregulated Drivers': (x['is_gene_downregulated'].sum() / len(x)) * 100,\n",
    "        'Count Upregulated Drivers': x['is_gene_upregulated'].sum(),\n",
    "        'Count Downregulated Drivers': x['is_gene_downregulated'].sum()\n",
    "    }), include_groups=False\n",
    ").sort_values(by='Percent Upregulated Drivers', ascending=False).reset_index()\n",
    "\n",
    "# Define colors for the bars\n",
    "colors = ['#0aa527', '#ff4500']\n",
    "\n",
    "# Plotting the stacked bar chart with specified colors\n",
    "ax = mutsig_analysis.plot(x='mutsig', y=['Percent Upregulated Drivers', 'Percent Downregulated Drivers'], kind='bar', stacked=True, figsize=(20, 6), color=colors)\n",
    "\n",
    "# Adding the counts below the x-axis labels with matching colors\n",
    "for i, row in mutsig_analysis.iterrows():\n",
    "    # Position for the upregulated drivers count, using the first color\n",
    "    plt.text(i, -5, f\"{int(row['Count Upregulated Drivers'])}\", ha='center', va='center', color=colors[0], fontsize=10)\n",
    "    # Position for the downregulated drivers count, using the second color\n",
    "    plt.text(i, -10, f\"{int(row['Count Downregulated Drivers'])}\", ha='center', va='center', color=colors[1], fontsize=10)\n",
    "\n",
    "plt.xticks(rotation=90)\n",
    "plt.ylabel('Percentage')\n",
    "plt.title('Percentage and Count of Upregulated and Downregulated Driver Genes by Mutation Context')\n",
    "plt.ylim(-15, 100)  # Adjust the y-axis limit to make space for the text annotations\n",
    "ax.legend(loc='upper left', bbox_to_anchor=(1, 1))\n",
    "plt.show()\n",
    "\n",
    "\n",
    "\n",
    "mutsig_analysis = df[df['is_tumor_suppressor']].groupby('mutsig').apply(\n",
    "    lambda x: pd.Series({\n",
    "        'Percent Upregulated Drivers': (x['is_gene_upregulated'].sum() / len(x)) * 100,\n",
    "        'Percent Downregulated Drivers': (x['is_gene_downregulated'].sum() / len(x)) * 100,\n",
    "        'Count Upregulated Drivers': x['is_gene_upregulated'].sum(),\n",
    "        'Count Downregulated Drivers': x['is_gene_downregulated'].sum()\n",
    "    }), include_groups=False\n",
    ").sort_values(by='Percent Upregulated Drivers', ascending=False).reset_index()\n",
    "\n",
    "# Define colors for the bars\n",
    "colors = ['#0aa527', '#ff4500']\n",
    "\n",
    "# Plotting the stacked bar chart with specified colors\n",
    "ax = mutsig_analysis.plot(x='mutsig', y=['Percent Upregulated Drivers', 'Percent Downregulated Drivers'], kind='bar', stacked=True, figsize=(20, 6), color=colors)\n",
    "\n",
    "# Adding the counts below the x-axis labels with matching colors\n",
    "for i, row in mutsig_analysis.iterrows():\n",
    "    # Position for the upregulated drivers count, using the first color\n",
    "    plt.text(i, -5, f\"{int(row['Count Upregulated Drivers'])}\", ha='center', va='center', color=colors[0], fontsize=10)\n",
    "    # Position for the downregulated drivers count, using the second color\n",
    "    plt.text(i, -10, f\"{int(row['Count Downregulated Drivers'])}\", ha='center', va='center', color=colors[1], fontsize=10)\n",
    "\n",
    "plt.xticks(rotation=90)\n",
    "plt.ylabel('Percentage')\n",
    "plt.title('Percentage and Count of Upregulated and Downregulated Driver Genes by Mutation Context')\n",
    "plt.ylim(-15, 100)  # Adjust the y-axis limit to make space for the text annotations\n",
    "ax.legend(loc='upper left', bbox_to_anchor=(1, 1))\n",
    "plt.show()\n"
   ]
  },
  {
   "cell_type": "code",
   "execution_count": 13,
   "metadata": {},
   "outputs": [
    {
     "data": {
      "text/html": [
       "<div>\n",
       "<style scoped>\n",
       "    .dataframe tbody tr th:only-of-type {\n",
       "        vertical-align: middle;\n",
       "    }\n",
       "\n",
       "    .dataframe tbody tr th {\n",
       "        vertical-align: top;\n",
       "    }\n",
       "\n",
       "    .dataframe thead th {\n",
       "        text-align: right;\n",
       "    }\n",
       "</style>\n",
       "<table border=\"1\" class=\"dataframe\">\n",
       "  <thead>\n",
       "    <tr style=\"text-align: right;\">\n",
       "      <th></th>\n",
       "      <th>mirna_family</th>\n",
       "      <th>Percent Upregulated Drivers</th>\n",
       "      <th>Percent Downregulated Drivers</th>\n",
       "      <th>Count Upregulated Drivers</th>\n",
       "      <th>Count Downregulated Drivers</th>\n",
       "      <th>total</th>\n",
       "    </tr>\n",
       "  </thead>\n",
       "  <tbody>\n",
       "    <tr>\n",
       "      <th>0</th>\n",
       "      <td>let-7-5p/98-5p</td>\n",
       "      <td>14.035088</td>\n",
       "      <td>85.964912</td>\n",
       "      <td>8.0</td>\n",
       "      <td>49.0</td>\n",
       "      <td>57.0</td>\n",
       "    </tr>\n",
       "    <tr>\n",
       "      <th>1</th>\n",
       "      <td>miR-548ay-5p/548au-5p/548as-5p/548ar-5p/548aq-...</td>\n",
       "      <td>37.500000</td>\n",
       "      <td>62.500000</td>\n",
       "      <td>21.0</td>\n",
       "      <td>35.0</td>\n",
       "      <td>56.0</td>\n",
       "    </tr>\n",
       "    <tr>\n",
       "      <th>2</th>\n",
       "      <td>miR-378-3p</td>\n",
       "      <td>10.416667</td>\n",
       "      <td>89.583333</td>\n",
       "      <td>5.0</td>\n",
       "      <td>43.0</td>\n",
       "      <td>48.0</td>\n",
       "    </tr>\n",
       "    <tr>\n",
       "      <th>3</th>\n",
       "      <td>miR-302-3p/372-3p/373-3p/520-3p</td>\n",
       "      <td>24.444444</td>\n",
       "      <td>75.555556</td>\n",
       "      <td>11.0</td>\n",
       "      <td>34.0</td>\n",
       "      <td>45.0</td>\n",
       "    </tr>\n",
       "    <tr>\n",
       "      <th>4</th>\n",
       "      <td>miR-17-5p/20-5p/93-5p/106-5p/519-3p</td>\n",
       "      <td>33.333333</td>\n",
       "      <td>66.666667</td>\n",
       "      <td>13.0</td>\n",
       "      <td>26.0</td>\n",
       "      <td>39.0</td>\n",
       "    </tr>\n",
       "    <tr>\n",
       "      <th>...</th>\n",
       "      <td>...</td>\n",
       "      <td>...</td>\n",
       "      <td>...</td>\n",
       "      <td>...</td>\n",
       "      <td>...</td>\n",
       "      <td>...</td>\n",
       "    </tr>\n",
       "    <tr>\n",
       "      <th>1890</th>\n",
       "      <td>miR-4634</td>\n",
       "      <td>100.000000</td>\n",
       "      <td>0.000000</td>\n",
       "      <td>1.0</td>\n",
       "      <td>0.0</td>\n",
       "      <td>1.0</td>\n",
       "    </tr>\n",
       "    <tr>\n",
       "      <th>1891</th>\n",
       "      <td>miR-6799-5p</td>\n",
       "      <td>100.000000</td>\n",
       "      <td>0.000000</td>\n",
       "      <td>1.0</td>\n",
       "      <td>0.0</td>\n",
       "      <td>1.0</td>\n",
       "    </tr>\n",
       "    <tr>\n",
       "      <th>1892</th>\n",
       "      <td>miR-588</td>\n",
       "      <td>0.000000</td>\n",
       "      <td>100.000000</td>\n",
       "      <td>0.0</td>\n",
       "      <td>1.0</td>\n",
       "      <td>1.0</td>\n",
       "    </tr>\n",
       "    <tr>\n",
       "      <th>1893</th>\n",
       "      <td>miR-6798-3p</td>\n",
       "      <td>100.000000</td>\n",
       "      <td>0.000000</td>\n",
       "      <td>1.0</td>\n",
       "      <td>0.0</td>\n",
       "      <td>1.0</td>\n",
       "    </tr>\n",
       "    <tr>\n",
       "      <th>1894</th>\n",
       "      <td>miR-5100</td>\n",
       "      <td>0.000000</td>\n",
       "      <td>100.000000</td>\n",
       "      <td>0.0</td>\n",
       "      <td>1.0</td>\n",
       "      <td>1.0</td>\n",
       "    </tr>\n",
       "  </tbody>\n",
       "</table>\n",
       "<p>1895 rows × 6 columns</p>\n",
       "</div>"
      ],
      "text/plain": [
       "                                           mirna_family  \\\n",
       "0                                        let-7-5p/98-5p   \n",
       "1     miR-548ay-5p/548au-5p/548as-5p/548ar-5p/548aq-...   \n",
       "2                                            miR-378-3p   \n",
       "3                       miR-302-3p/372-3p/373-3p/520-3p   \n",
       "4                   miR-17-5p/20-5p/93-5p/106-5p/519-3p   \n",
       "...                                                 ...   \n",
       "1890                                           miR-4634   \n",
       "1891                                        miR-6799-5p   \n",
       "1892                                            miR-588   \n",
       "1893                                        miR-6798-3p   \n",
       "1894                                           miR-5100   \n",
       "\n",
       "      Percent Upregulated Drivers  Percent Downregulated Drivers  \\\n",
       "0                       14.035088                      85.964912   \n",
       "1                       37.500000                      62.500000   \n",
       "2                       10.416667                      89.583333   \n",
       "3                       24.444444                      75.555556   \n",
       "4                       33.333333                      66.666667   \n",
       "...                           ...                            ...   \n",
       "1890                   100.000000                       0.000000   \n",
       "1891                   100.000000                       0.000000   \n",
       "1892                     0.000000                     100.000000   \n",
       "1893                   100.000000                       0.000000   \n",
       "1894                     0.000000                     100.000000   \n",
       "\n",
       "      Count Upregulated Drivers  Count Downregulated Drivers  total  \n",
       "0                           8.0                         49.0   57.0  \n",
       "1                          21.0                         35.0   56.0  \n",
       "2                           5.0                         43.0   48.0  \n",
       "3                          11.0                         34.0   45.0  \n",
       "4                          13.0                         26.0   39.0  \n",
       "...                         ...                          ...    ...  \n",
       "1890                        1.0                          0.0    1.0  \n",
       "1891                        1.0                          0.0    1.0  \n",
       "1892                        0.0                          1.0    1.0  \n",
       "1893                        1.0                          0.0    1.0  \n",
       "1894                        0.0                          1.0    1.0  \n",
       "\n",
       "[1895 rows x 6 columns]"
      ]
     },
     "execution_count": 13,
     "metadata": {},
     "output_type": "execute_result"
    }
   ],
   "source": [
    "mirna_family_analysis = df[df['is_driver']].groupby('mirna_family').apply(\n",
    "    lambda x: pd.Series({\n",
    "        'Percent Upregulated Drivers': (x['is_gene_upregulated'].sum() / len(x)) * 100,\n",
    "        'Percent Downregulated Drivers': (x['is_gene_downregulated'].sum() / len(x)) * 100,\n",
    "        'Count Upregulated Drivers': x['is_gene_upregulated'].sum(),\n",
    "        'Count Downregulated Drivers': x['is_gene_downregulated'].sum(),\n",
    "        'total': x['is_gene_upregulated'].sum() + x['is_gene_downregulated'].sum()  # Adding total count\n",
    "    }), include_groups=False\n",
    ").sort_values(by='total', ascending=False).reset_index()\n",
    "\n",
    "mirna_family_analysis\n"
   ]
  },
  {
   "cell_type": "markdown",
   "metadata": {},
   "source": [
    "# tsuppların yüzde kaçında gain fazla, vice versa, sbs based bak bakalım, ve sonra agg bak\n",
    "# "
   ]
  },
  {
   "cell_type": "code",
   "execution_count": 14,
   "metadata": {},
   "outputs": [],
   "source": [
    "\n",
    "def calculate_mutation_percentages(df, gene_type, attr_col):\n",
    "\n",
    "    return (\n",
    "        df[df[gene_type] == 1]\n",
    "        .groupby([attr_col, 'is_gain'])['is_gain']\n",
    "        .value_counts()\n",
    "        .rename({1: 'no_downregulated', 0: 'no_upregulated'})\n",
    "        .reset_index()\n",
    "        .pivot_table(\n",
    "            index=attr_col,\n",
    "            columns='is_gain',\n",
    "            values='is_gain',\n",
    "            aggfunc='sum',\n",
    "            fill_value=0,\n",
    "        )\n",
    "        .assign(total=lambda x: x['no_downregulated'] + x['no_upregulated'])\n",
    "        .reset_index()\n",
    "        .rename_axis(None, axis=1)\n",
    "        .assign(\n",
    "            percent_downregulated=lambda x: x['no_downregulated']\n",
    "            / x['total']\n",
    "            * 100\n",
    "        )\n",
    "        .assign(\n",
    "            percent_upregulated=lambda x: x['no_upregulated']\n",
    "            / x['total']\n",
    "            * 100\n",
    "        )\n",
    "        .sort_values(by=['percent_downregulated'], ascending=False)\n",
    "    )\n"
   ]
  },
  {
   "cell_type": "code",
   "execution_count": 15,
   "metadata": {},
   "outputs": [
    {
     "name": "stdout",
     "output_type": "stream",
     "text": [
      "Tumor suppressor genes' up & downregulation percentages per mutation_context\n"
     ]
    },
    {
     "data": {
      "text/html": [
       "<div>\n",
       "<style scoped>\n",
       "    .dataframe tbody tr th:only-of-type {\n",
       "        vertical-align: middle;\n",
       "    }\n",
       "\n",
       "    .dataframe tbody tr th {\n",
       "        vertical-align: top;\n",
       "    }\n",
       "\n",
       "    .dataframe thead th {\n",
       "        text-align: right;\n",
       "    }\n",
       "</style>\n",
       "<table border=\"1\" class=\"dataframe\">\n",
       "  <thead>\n",
       "    <tr style=\"text-align: right;\">\n",
       "      <th></th>\n",
       "      <th>mutation_context</th>\n",
       "      <th>no_downregulated</th>\n",
       "      <th>no_upregulated</th>\n",
       "      <th>total</th>\n",
       "      <th>percent_downregulated</th>\n",
       "      <th>percent_upregulated</th>\n",
       "    </tr>\n",
       "  </thead>\n",
       "  <tbody>\n",
       "    <tr>\n",
       "      <th>49</th>\n",
       "      <td>G[T&gt;A]G</td>\n",
       "      <td>1</td>\n",
       "      <td>0</td>\n",
       "      <td>1</td>\n",
       "      <td>100.000000</td>\n",
       "      <td>0.000000</td>\n",
       "    </tr>\n",
       "    <tr>\n",
       "      <th>3</th>\n",
       "      <td>A[C&gt;A]T</td>\n",
       "      <td>994</td>\n",
       "      <td>26</td>\n",
       "      <td>1020</td>\n",
       "      <td>97.450980</td>\n",
       "      <td>2.549020</td>\n",
       "    </tr>\n",
       "    <tr>\n",
       "      <th>7</th>\n",
       "      <td>A[C&gt;T]T</td>\n",
       "      <td>534</td>\n",
       "      <td>19</td>\n",
       "      <td>553</td>\n",
       "      <td>96.564195</td>\n",
       "      <td>3.435805</td>\n",
       "    </tr>\n",
       "    <tr>\n",
       "      <th>23</th>\n",
       "      <td>C[C&gt;A]T</td>\n",
       "      <td>380</td>\n",
       "      <td>20</td>\n",
       "      <td>400</td>\n",
       "      <td>95.000000</td>\n",
       "      <td>5.000000</td>\n",
       "    </tr>\n",
       "    <tr>\n",
       "      <th>59</th>\n",
       "      <td>T[C&gt;A]C</td>\n",
       "      <td>1255</td>\n",
       "      <td>68</td>\n",
       "      <td>1323</td>\n",
       "      <td>94.860166</td>\n",
       "      <td>5.139834</td>\n",
       "    </tr>\n",
       "    <tr>\n",
       "      <th>...</th>\n",
       "      <td>...</td>\n",
       "      <td>...</td>\n",
       "      <td>...</td>\n",
       "      <td>...</td>\n",
       "      <td>...</td>\n",
       "      <td>...</td>\n",
       "    </tr>\n",
       "    <tr>\n",
       "      <th>56</th>\n",
       "      <td>G[T&gt;G]G</td>\n",
       "      <td>6</td>\n",
       "      <td>253</td>\n",
       "      <td>259</td>\n",
       "      <td>2.316602</td>\n",
       "      <td>97.683398</td>\n",
       "    </tr>\n",
       "    <tr>\n",
       "      <th>36</th>\n",
       "      <td>C[T&gt;G]A</td>\n",
       "      <td>2</td>\n",
       "      <td>91</td>\n",
       "      <td>93</td>\n",
       "      <td>2.150538</td>\n",
       "      <td>97.849462</td>\n",
       "    </tr>\n",
       "    <tr>\n",
       "      <th>39</th>\n",
       "      <td>C[T&gt;G]T</td>\n",
       "      <td>6</td>\n",
       "      <td>294</td>\n",
       "      <td>300</td>\n",
       "      <td>2.000000</td>\n",
       "      <td>98.000000</td>\n",
       "    </tr>\n",
       "    <tr>\n",
       "      <th>19</th>\n",
       "      <td>A[T&gt;G]T</td>\n",
       "      <td>2</td>\n",
       "      <td>156</td>\n",
       "      <td>158</td>\n",
       "      <td>1.265823</td>\n",
       "      <td>98.734177</td>\n",
       "    </tr>\n",
       "    <tr>\n",
       "      <th>17</th>\n",
       "      <td>A[T&gt;G]C</td>\n",
       "      <td>0</td>\n",
       "      <td>61</td>\n",
       "      <td>61</td>\n",
       "      <td>0.000000</td>\n",
       "      <td>100.000000</td>\n",
       "    </tr>\n",
       "  </tbody>\n",
       "</table>\n",
       "<p>78 rows × 6 columns</p>\n",
       "</div>"
      ],
      "text/plain": [
       "   mutation_context  no_downregulated  no_upregulated  total  \\\n",
       "49          G[T>A]G                 1               0      1   \n",
       "3           A[C>A]T               994              26   1020   \n",
       "7           A[C>T]T               534              19    553   \n",
       "23          C[C>A]T               380              20    400   \n",
       "59          T[C>A]C              1255              68   1323   \n",
       "..              ...               ...             ...    ...   \n",
       "56          G[T>G]G                 6             253    259   \n",
       "36          C[T>G]A                 2              91     93   \n",
       "39          C[T>G]T                 6             294    300   \n",
       "19          A[T>G]T                 2             156    158   \n",
       "17          A[T>G]C                 0              61     61   \n",
       "\n",
       "    percent_downregulated  percent_upregulated  \n",
       "49             100.000000             0.000000  \n",
       "3               97.450980             2.549020  \n",
       "7               96.564195             3.435805  \n",
       "23              95.000000             5.000000  \n",
       "59              94.860166             5.139834  \n",
       "..                    ...                  ...  \n",
       "56               2.316602            97.683398  \n",
       "36               2.150538            97.849462  \n",
       "39               2.000000            98.000000  \n",
       "19               1.265823            98.734177  \n",
       "17               0.000000           100.000000  \n",
       "\n",
       "[78 rows x 6 columns]"
      ]
     },
     "execution_count": 15,
     "metadata": {},
     "output_type": "execute_result"
    }
   ],
   "source": [
    "print(\"Tumor suppressor genes' up & downregulation percentages per mutation_context\")\n",
    "calculate_mutation_percentages(df, 'is_tumor_suppressor', 'mutation_context')\n"
   ]
  },
  {
   "cell_type": "code",
   "execution_count": 16,
   "metadata": {},
   "outputs": [
    {
     "name": "stdout",
     "output_type": "stream",
     "text": [
      "Tumor suppressor genes' up & downregulation percentages per mutsig\n"
     ]
    },
    {
     "data": {
      "text/html": [
       "<div>\n",
       "<style scoped>\n",
       "    .dataframe tbody tr th:only-of-type {\n",
       "        vertical-align: middle;\n",
       "    }\n",
       "\n",
       "    .dataframe tbody tr th {\n",
       "        vertical-align: top;\n",
       "    }\n",
       "\n",
       "    .dataframe thead th {\n",
       "        text-align: right;\n",
       "    }\n",
       "</style>\n",
       "<table border=\"1\" class=\"dataframe\">\n",
       "  <thead>\n",
       "    <tr style=\"text-align: right;\">\n",
       "      <th></th>\n",
       "      <th>mutsig</th>\n",
       "      <th>no_downregulated</th>\n",
       "      <th>no_upregulated</th>\n",
       "      <th>total</th>\n",
       "      <th>percent_downregulated</th>\n",
       "      <th>percent_upregulated</th>\n",
       "    </tr>\n",
       "  </thead>\n",
       "  <tbody>\n",
       "    <tr>\n",
       "      <th>6</th>\n",
       "      <td>SBS8</td>\n",
       "      <td>222</td>\n",
       "      <td>3</td>\n",
       "      <td>225</td>\n",
       "      <td>98.666667</td>\n",
       "      <td>1.333333</td>\n",
       "    </tr>\n",
       "    <tr>\n",
       "      <th>2</th>\n",
       "      <td>SBS2</td>\n",
       "      <td>16261</td>\n",
       "      <td>1236</td>\n",
       "      <td>17497</td>\n",
       "      <td>92.935932</td>\n",
       "      <td>7.064068</td>\n",
       "    </tr>\n",
       "    <tr>\n",
       "      <th>1</th>\n",
       "      <td>SBS13</td>\n",
       "      <td>2769</td>\n",
       "      <td>279</td>\n",
       "      <td>3048</td>\n",
       "      <td>90.846457</td>\n",
       "      <td>9.153543</td>\n",
       "    </tr>\n",
       "    <tr>\n",
       "      <th>0</th>\n",
       "      <td>SBS1</td>\n",
       "      <td>2560</td>\n",
       "      <td>349</td>\n",
       "      <td>2909</td>\n",
       "      <td>88.002750</td>\n",
       "      <td>11.997250</td>\n",
       "    </tr>\n",
       "    <tr>\n",
       "      <th>7</th>\n",
       "      <td>not_found</td>\n",
       "      <td>1581</td>\n",
       "      <td>543</td>\n",
       "      <td>2124</td>\n",
       "      <td>74.435028</td>\n",
       "      <td>25.564972</td>\n",
       "    </tr>\n",
       "    <tr>\n",
       "      <th>4</th>\n",
       "      <td>SBS40</td>\n",
       "      <td>10660</td>\n",
       "      <td>6695</td>\n",
       "      <td>17355</td>\n",
       "      <td>61.423221</td>\n",
       "      <td>38.576779</td>\n",
       "    </tr>\n",
       "    <tr>\n",
       "      <th>5</th>\n",
       "      <td>SBS5</td>\n",
       "      <td>1019</td>\n",
       "      <td>905</td>\n",
       "      <td>1924</td>\n",
       "      <td>52.962578</td>\n",
       "      <td>47.037422</td>\n",
       "    </tr>\n",
       "    <tr>\n",
       "      <th>3</th>\n",
       "      <td>SBS3</td>\n",
       "      <td>2365</td>\n",
       "      <td>2620</td>\n",
       "      <td>4985</td>\n",
       "      <td>47.442327</td>\n",
       "      <td>52.557673</td>\n",
       "    </tr>\n",
       "  </tbody>\n",
       "</table>\n",
       "</div>"
      ],
      "text/plain": [
       "      mutsig  no_downregulated  no_upregulated  total  percent_downregulated  \\\n",
       "6       SBS8               222               3    225              98.666667   \n",
       "2       SBS2             16261            1236  17497              92.935932   \n",
       "1      SBS13              2769             279   3048              90.846457   \n",
       "0       SBS1              2560             349   2909              88.002750   \n",
       "7  not_found              1581             543   2124              74.435028   \n",
       "4      SBS40             10660            6695  17355              61.423221   \n",
       "5       SBS5              1019             905   1924              52.962578   \n",
       "3       SBS3              2365            2620   4985              47.442327   \n",
       "\n",
       "   percent_upregulated  \n",
       "6             1.333333  \n",
       "2             7.064068  \n",
       "1             9.153543  \n",
       "0            11.997250  \n",
       "7            25.564972  \n",
       "4            38.576779  \n",
       "5            47.037422  \n",
       "3            52.557673  "
      ]
     },
     "execution_count": 16,
     "metadata": {},
     "output_type": "execute_result"
    }
   ],
   "source": [
    "print(\"Tumor suppressor genes' up & downregulation percentages per mutsig\")\n",
    "calculate_mutation_percentages(df, 'is_tumor_suppressor', 'mutsig')\n"
   ]
  },
  {
   "cell_type": "code",
   "execution_count": 17,
   "metadata": {},
   "outputs": [
    {
     "name": "stdout",
     "output_type": "stream",
     "text": [
      "Tumor suppressor genes' up & downregulation percentages per mirna_family\n"
     ]
    },
    {
     "data": {
      "text/html": [
       "<div>\n",
       "<style scoped>\n",
       "    .dataframe tbody tr th:only-of-type {\n",
       "        vertical-align: middle;\n",
       "    }\n",
       "\n",
       "    .dataframe tbody tr th {\n",
       "        vertical-align: top;\n",
       "    }\n",
       "\n",
       "    .dataframe thead th {\n",
       "        text-align: right;\n",
       "    }\n",
       "</style>\n",
       "<table border=\"1\" class=\"dataframe\">\n",
       "  <thead>\n",
       "    <tr style=\"text-align: right;\">\n",
       "      <th></th>\n",
       "      <th>mirna_family</th>\n",
       "      <th>no_downregulated</th>\n",
       "      <th>no_upregulated</th>\n",
       "      <th>total</th>\n",
       "      <th>percent_downregulated</th>\n",
       "      <th>percent_upregulated</th>\n",
       "    </tr>\n",
       "  </thead>\n",
       "  <tbody>\n",
       "    <tr>\n",
       "      <th>1845</th>\n",
       "      <td>miR-6840-3p</td>\n",
       "      <td>4</td>\n",
       "      <td>0</td>\n",
       "      <td>4</td>\n",
       "      <td>100.0</td>\n",
       "      <td>0.0</td>\n",
       "    </tr>\n",
       "    <tr>\n",
       "      <th>91</th>\n",
       "      <td>miR-12136_pred</td>\n",
       "      <td>2</td>\n",
       "      <td>0</td>\n",
       "      <td>2</td>\n",
       "      <td>100.0</td>\n",
       "      <td>0.0</td>\n",
       "    </tr>\n",
       "    <tr>\n",
       "      <th>825</th>\n",
       "      <td>miR-4284</td>\n",
       "      <td>5</td>\n",
       "      <td>0</td>\n",
       "      <td>5</td>\n",
       "      <td>100.0</td>\n",
       "      <td>0.0</td>\n",
       "    </tr>\n",
       "    <tr>\n",
       "      <th>1678</th>\n",
       "      <td>miR-6726-3p</td>\n",
       "      <td>1</td>\n",
       "      <td>0</td>\n",
       "      <td>1</td>\n",
       "      <td>100.0</td>\n",
       "      <td>0.0</td>\n",
       "    </tr>\n",
       "    <tr>\n",
       "      <th>1374</th>\n",
       "      <td>miR-545-3p</td>\n",
       "      <td>8</td>\n",
       "      <td>0</td>\n",
       "      <td>8</td>\n",
       "      <td>100.0</td>\n",
       "      <td>0.0</td>\n",
       "    </tr>\n",
       "    <tr>\n",
       "      <th>...</th>\n",
       "      <td>...</td>\n",
       "      <td>...</td>\n",
       "      <td>...</td>\n",
       "      <td>...</td>\n",
       "      <td>...</td>\n",
       "      <td>...</td>\n",
       "    </tr>\n",
       "    <tr>\n",
       "      <th>703</th>\n",
       "      <td>miR-3714</td>\n",
       "      <td>0</td>\n",
       "      <td>2</td>\n",
       "      <td>2</td>\n",
       "      <td>0.0</td>\n",
       "      <td>100.0</td>\n",
       "    </tr>\n",
       "    <tr>\n",
       "      <th>519</th>\n",
       "      <td>miR-3154</td>\n",
       "      <td>0</td>\n",
       "      <td>1</td>\n",
       "      <td>1</td>\n",
       "      <td>0.0</td>\n",
       "      <td>100.0</td>\n",
       "    </tr>\n",
       "    <tr>\n",
       "      <th>1721</th>\n",
       "      <td>miR-6753-5p</td>\n",
       "      <td>0</td>\n",
       "      <td>3</td>\n",
       "      <td>3</td>\n",
       "      <td>0.0</td>\n",
       "      <td>100.0</td>\n",
       "    </tr>\n",
       "    <tr>\n",
       "      <th>632</th>\n",
       "      <td>miR-3615</td>\n",
       "      <td>0</td>\n",
       "      <td>3</td>\n",
       "      <td>3</td>\n",
       "      <td>0.0</td>\n",
       "      <td>100.0</td>\n",
       "    </tr>\n",
       "    <tr>\n",
       "      <th>1548</th>\n",
       "      <td>miR-6089</td>\n",
       "      <td>0</td>\n",
       "      <td>2</td>\n",
       "      <td>2</td>\n",
       "      <td>0.0</td>\n",
       "      <td>100.0</td>\n",
       "    </tr>\n",
       "  </tbody>\n",
       "</table>\n",
       "<p>2092 rows × 6 columns</p>\n",
       "</div>"
      ],
      "text/plain": [
       "        mirna_family  no_downregulated  no_upregulated  total  \\\n",
       "1845     miR-6840-3p                 4               0      4   \n",
       "91    miR-12136_pred                 2               0      2   \n",
       "825         miR-4284                 5               0      5   \n",
       "1678     miR-6726-3p                 1               0      1   \n",
       "1374      miR-545-3p                 8               0      8   \n",
       "...              ...               ...             ...    ...   \n",
       "703         miR-3714                 0               2      2   \n",
       "519         miR-3154                 0               1      1   \n",
       "1721     miR-6753-5p                 0               3      3   \n",
       "632         miR-3615                 0               3      3   \n",
       "1548        miR-6089                 0               2      2   \n",
       "\n",
       "      percent_downregulated  percent_upregulated  \n",
       "1845                  100.0                  0.0  \n",
       "91                    100.0                  0.0  \n",
       "825                   100.0                  0.0  \n",
       "1678                  100.0                  0.0  \n",
       "1374                  100.0                  0.0  \n",
       "...                     ...                  ...  \n",
       "703                     0.0                100.0  \n",
       "519                     0.0                100.0  \n",
       "1721                    0.0                100.0  \n",
       "632                     0.0                100.0  \n",
       "1548                    0.0                100.0  \n",
       "\n",
       "[2092 rows x 6 columns]"
      ]
     },
     "execution_count": 17,
     "metadata": {},
     "output_type": "execute_result"
    }
   ],
   "source": [
    "print(\"Tumor suppressor genes' up & downregulation percentages per mirna_family\")\n",
    "calculate_mutation_percentages(df, 'is_tumor_suppressor', 'mirna_family')\n"
   ]
  },
  {
   "cell_type": "code",
   "execution_count": 18,
   "metadata": {},
   "outputs": [
    {
     "data": {
      "text/html": [
       "<div>\n",
       "<style scoped>\n",
       "    .dataframe tbody tr th:only-of-type {\n",
       "        vertical-align: middle;\n",
       "    }\n",
       "\n",
       "    .dataframe tbody tr th {\n",
       "        vertical-align: top;\n",
       "    }\n",
       "\n",
       "    .dataframe thead th {\n",
       "        text-align: right;\n",
       "    }\n",
       "</style>\n",
       "<table border=\"1\" class=\"dataframe\">\n",
       "  <thead>\n",
       "    <tr style=\"text-align: right;\">\n",
       "      <th></th>\n",
       "      <th>mirna_family</th>\n",
       "      <th>no_downregulated</th>\n",
       "      <th>no_upregulated</th>\n",
       "      <th>total</th>\n",
       "      <th>percent_downregulated</th>\n",
       "      <th>percent_upregulated</th>\n",
       "    </tr>\n",
       "  </thead>\n",
       "  <tbody>\n",
       "    <tr>\n",
       "      <th>1845</th>\n",
       "      <td>miR-6840-3p</td>\n",
       "      <td>4</td>\n",
       "      <td>0</td>\n",
       "      <td>4</td>\n",
       "      <td>100.0</td>\n",
       "      <td>0.0</td>\n",
       "    </tr>\n",
       "    <tr>\n",
       "      <th>91</th>\n",
       "      <td>miR-12136_pred</td>\n",
       "      <td>2</td>\n",
       "      <td>0</td>\n",
       "      <td>2</td>\n",
       "      <td>100.0</td>\n",
       "      <td>0.0</td>\n",
       "    </tr>\n",
       "    <tr>\n",
       "      <th>825</th>\n",
       "      <td>miR-4284</td>\n",
       "      <td>5</td>\n",
       "      <td>0</td>\n",
       "      <td>5</td>\n",
       "      <td>100.0</td>\n",
       "      <td>0.0</td>\n",
       "    </tr>\n",
       "    <tr>\n",
       "      <th>1678</th>\n",
       "      <td>miR-6726-3p</td>\n",
       "      <td>1</td>\n",
       "      <td>0</td>\n",
       "      <td>1</td>\n",
       "      <td>100.0</td>\n",
       "      <td>0.0</td>\n",
       "    </tr>\n",
       "    <tr>\n",
       "      <th>1374</th>\n",
       "      <td>miR-545-3p</td>\n",
       "      <td>8</td>\n",
       "      <td>0</td>\n",
       "      <td>8</td>\n",
       "      <td>100.0</td>\n",
       "      <td>0.0</td>\n",
       "    </tr>\n",
       "    <tr>\n",
       "      <th>...</th>\n",
       "      <td>...</td>\n",
       "      <td>...</td>\n",
       "      <td>...</td>\n",
       "      <td>...</td>\n",
       "      <td>...</td>\n",
       "      <td>...</td>\n",
       "    </tr>\n",
       "    <tr>\n",
       "      <th>703</th>\n",
       "      <td>miR-3714</td>\n",
       "      <td>0</td>\n",
       "      <td>2</td>\n",
       "      <td>2</td>\n",
       "      <td>0.0</td>\n",
       "      <td>100.0</td>\n",
       "    </tr>\n",
       "    <tr>\n",
       "      <th>519</th>\n",
       "      <td>miR-3154</td>\n",
       "      <td>0</td>\n",
       "      <td>1</td>\n",
       "      <td>1</td>\n",
       "      <td>0.0</td>\n",
       "      <td>100.0</td>\n",
       "    </tr>\n",
       "    <tr>\n",
       "      <th>1721</th>\n",
       "      <td>miR-6753-5p</td>\n",
       "      <td>0</td>\n",
       "      <td>3</td>\n",
       "      <td>3</td>\n",
       "      <td>0.0</td>\n",
       "      <td>100.0</td>\n",
       "    </tr>\n",
       "    <tr>\n",
       "      <th>632</th>\n",
       "      <td>miR-3615</td>\n",
       "      <td>0</td>\n",
       "      <td>3</td>\n",
       "      <td>3</td>\n",
       "      <td>0.0</td>\n",
       "      <td>100.0</td>\n",
       "    </tr>\n",
       "    <tr>\n",
       "      <th>1548</th>\n",
       "      <td>miR-6089</td>\n",
       "      <td>0</td>\n",
       "      <td>2</td>\n",
       "      <td>2</td>\n",
       "      <td>0.0</td>\n",
       "      <td>100.0</td>\n",
       "    </tr>\n",
       "  </tbody>\n",
       "</table>\n",
       "<p>2092 rows × 6 columns</p>\n",
       "</div>"
      ],
      "text/plain": [
       "        mirna_family  no_downregulated  no_upregulated  total  \\\n",
       "1845     miR-6840-3p                 4               0      4   \n",
       "91    miR-12136_pred                 2               0      2   \n",
       "825         miR-4284                 5               0      5   \n",
       "1678     miR-6726-3p                 1               0      1   \n",
       "1374      miR-545-3p                 8               0      8   \n",
       "...              ...               ...             ...    ...   \n",
       "703         miR-3714                 0               2      2   \n",
       "519         miR-3154                 0               1      1   \n",
       "1721     miR-6753-5p                 0               3      3   \n",
       "632         miR-3615                 0               3      3   \n",
       "1548        miR-6089                 0               2      2   \n",
       "\n",
       "      percent_downregulated  percent_upregulated  \n",
       "1845                  100.0                  0.0  \n",
       "91                    100.0                  0.0  \n",
       "825                   100.0                  0.0  \n",
       "1678                  100.0                  0.0  \n",
       "1374                  100.0                  0.0  \n",
       "...                     ...                  ...  \n",
       "703                     0.0                100.0  \n",
       "519                     0.0                100.0  \n",
       "1721                    0.0                100.0  \n",
       "632                     0.0                100.0  \n",
       "1548                    0.0                100.0  \n",
       "\n",
       "[2092 rows x 6 columns]"
      ]
     },
     "execution_count": 18,
     "metadata": {},
     "output_type": "execute_result"
    }
   ],
   "source": [
    "calculate_mutation_percentages(df, 'is_tumor_suppressor', 'mirna_family')"
   ]
  },
  {
   "cell_type": "code",
   "execution_count": 19,
   "metadata": {},
   "outputs": [],
   "source": [
    "df[\"gain\"] = df.mut_prediction > df.wt_prediction\n",
    "df[\"loss\"] = df.mut_prediction < df.wt_prediction"
   ]
  },
  {
   "cell_type": "markdown",
   "metadata": {},
   "source": [
    "# comut"
   ]
  },
  {
   "cell_type": "code",
   "execution_count": 20,
   "metadata": {},
   "outputs": [],
   "source": [
    "from comut import comut\n",
    "from comut import fileparsers\n",
    "toy_comut = comut.CoMut()\n",
    "\n"
   ]
  },
  {
   "cell_type": "code",
   "execution_count": 21,
   "metadata": {},
   "outputs": [
    {
     "data": {
      "text/plain": [
       "id                       3608889\n",
       "wt_prediction            2893749\n",
       "mut_prediction           2745277\n",
       "gene_id                    14753\n",
       "gene_name                  14747\n",
       "gene_description           11751\n",
       "mirna_accession             2656\n",
       "mirna_name                  2656\n",
       "seed                        2162\n",
       "mirna_family                2105\n",
       "pred_difference             1209\n",
       "mutation_context              80\n",
       "vcf_id                        21\n",
       "gene_biotype                  20\n",
       "mutsig                         8\n",
       "is_oncogene                    2\n",
       "is_tumor_suppressor            2\n",
       "is_cosmic_tier_1               2\n",
       "is_driver                      2\n",
       "is_gain                        2\n",
       "is_intron                      2\n",
       "is_gene_upregulated            2\n",
       "is_gene_downregulated          2\n",
       "gain                           2\n",
       "loss                           2\n",
       "dtype: int64"
      ]
     },
     "execution_count": 21,
     "metadata": {},
     "output_type": "execute_result"
    }
   ],
   "source": [
    "df.nunique().sort_values(ascending=False)"
   ]
  },
  {
   "cell_type": "code",
   "execution_count": 23,
   "metadata": {},
   "outputs": [
    {
     "name": "stderr",
     "output_type": "stream",
     "text": [
      "/tmp/ipykernel_8806/2855270468.py:3: SettingWithCopyWarning:\n",
      "\n",
      "\n",
      "A value is trying to be set on a copy of a slice from a DataFrame\n",
      "\n",
      "See the caveats in the documentation: https://pandas.pydata.org/pandas-docs/stable/user_guide/indexing.html#returning-a-view-versus-a-copy\n",
      "\n"
     ]
    },
    {
     "ename": "KeyError",
     "evalue": "'plot1'",
     "output_type": "error",
     "traceback": [
      "\u001b[0;31m---------------------------------------------------------------------------\u001b[0m",
      "\u001b[0;31mKeyError\u001b[0m                                  Traceback (most recent call last)",
      "Cell \u001b[0;32mIn[23], line 11\u001b[0m\n\u001b[1;32m      9\u001b[0m toy_comut\u001b[38;5;241m.\u001b[39mplot_comut(figsize \u001b[38;5;241m=\u001b[39m (\u001b[38;5;241m10\u001b[39m,\u001b[38;5;241m20\u001b[39m))\n\u001b[1;32m     10\u001b[0m toy_comut\u001b[38;5;241m.\u001b[39madd_categorical_data(data[data\u001b[38;5;241m.\u001b[39mis_tumor_suppressor], name\u001b[38;5;241m=\u001b[39m\u001b[38;5;124m'\u001b[39m\u001b[38;5;124mplot1\u001b[39m\u001b[38;5;124m'\u001b[39m)\n\u001b[0;32m---> 11\u001b[0m \u001b[43mtoy_comut\u001b[49m\u001b[38;5;241;43m.\u001b[39;49m\u001b[43madd_unified_legend\u001b[49m\u001b[43m(\u001b[49m\u001b[43m)\u001b[49m\n",
      "File \u001b[0;32m~/.cache/pypoetry/virtualenvs/mirscribe-vcf-8VJm4tPg-py3.10/lib/python3.10/site-packages/comut/comut.py:1713\u001b[0m, in \u001b[0;36mCoMut.add_unified_legend\u001b[0;34m(self, axis_name, border_white, headers, rename, bbox_to_anchor, ignored_values, frameon, **legend_kwargs)\u001b[0m\n\u001b[1;32m   1711\u001b[0m \u001b[38;5;66;03m# extract the legend information for each plot and add to storage\u001b[39;00m\n\u001b[1;32m   1712\u001b[0m \u001b[38;5;28;01mfor\u001b[39;00m name, plot_data \u001b[38;5;129;01min\u001b[39;00m \u001b[38;5;28mzip\u001b[39m(plot_names, plot_data_list):\n\u001b[0;32m-> 1713\u001b[0m     axis \u001b[38;5;241m=\u001b[39m \u001b[38;5;28;43mself\u001b[39;49m\u001b[38;5;241;43m.\u001b[39;49m\u001b[43maxes\u001b[49m\u001b[43m[\u001b[49m\u001b[43mname\u001b[49m\u001b[43m]\u001b[49m\n\u001b[1;32m   1714\u001b[0m     plot_type \u001b[38;5;241m=\u001b[39m plot_data[\u001b[38;5;124m'\u001b[39m\u001b[38;5;124mtype\u001b[39m\u001b[38;5;124m'\u001b[39m]\n\u001b[1;32m   1716\u001b[0m     \u001b[38;5;28;01mif\u001b[39;00m plot_type \u001b[38;5;129;01min\u001b[39;00m [\u001b[38;5;124m'\u001b[39m\u001b[38;5;124mcategorical\u001b[39m\u001b[38;5;124m'\u001b[39m, \u001b[38;5;124m'\u001b[39m\u001b[38;5;124mbar\u001b[39m\u001b[38;5;124m'\u001b[39m, \u001b[38;5;124m'\u001b[39m\u001b[38;5;124mindicator\u001b[39m\u001b[38;5;124m'\u001b[39m]:\n\u001b[1;32m   1717\u001b[0m         \u001b[38;5;66;03m# nonstacked bar charts don't need legend labels\u001b[39;00m\n",
      "\u001b[0;31mKeyError\u001b[0m: 'plot1'"
     ]
    },
    {
     "data": {
      "image/png": "[encoded data removed]",
      "text/plain": [
       "<Figure size 1000x2000 with 1 Axes>"
      ]
     },
     "metadata": {},
     "output_type": "display_data"
    }
   ],
   "source": [
    "data = df[df.is_driver]\n",
    "\n",
    "data.rename(columns = {\"mutation_context\": \"sample\", # bottom\n",
    "                       \"gene_name\": \"category\", # left\n",
    "                       \"gene_biotype\": \"value\"}, inplace = True) # categories\n",
    "\n",
    "toy_comut = comut.CoMut()\n",
    "toy_comut.add_categorical_data(data)\n",
    "toy_comut.plot_comut(figsize = (10,20))\n",
    "toy_comut.add_categorical_data(data[data.is_tumor_suppressor], name='plot1')\n",
    "toy_comut.add_unified_legend()"
   ]
  },
  {
   "cell_type": "code",
   "execution_count": 34,
   "metadata": {},
   "outputs": [
    {
     "data": {
      "text/plain": [
       "20"
      ]
     },
     "execution_count": 34,
     "metadata": {},
     "output_type": "execute_result"
    }
   ],
   "source": [
    "len(df.gene_biotype.value_counts()\n",
    ")"
   ]
  },
  {
   "cell_type": "code",
   "execution_count": 40,
   "metadata": {},
   "outputs": [
    {
     "data": {
      "text/plain": [
       "0.3259997070455544"
      ]
     },
     "execution_count": 40,
     "metadata": {},
     "output_type": "execute_result"
    }
   ],
   "source": [
    "len(df[(df.is_gene_upregulated) & (df.is_oncogene)]) / len(df[(df.is_gene_downregulated) & (df.is_oncogene)])"
   ]
  },
  {
   "cell_type": "code",
   "execution_count": 44,
   "metadata": {},
   "outputs": [
    {
     "data": {
      "text/plain": [
       "0.3373667761839891"
      ]
     },
     "execution_count": 44,
     "metadata": {},
     "output_type": "execute_result"
    }
   ],
   "source": [
    "len(df[(df.is_gene_upregulated) & (df.is_tumor_suppressor)]) / len(df[(df.is_gene_downregulated) & (df.is_tumor_suppressor)])\n"
   ]
  },
  {
   "cell_type": "code",
   "execution_count": 54,
   "metadata": {},
   "outputs": [
    {
     "data": {
      "text/plain": [
       "286"
      ]
     },
     "execution_count": 54,
     "metadata": {},
     "output_type": "execute_result"
    }
   ],
   "source": [
    "len(df[df.is_oncogene].gene_name.unique())\n"
   ]
  },
  {
   "cell_type": "code",
   "execution_count": 68,
   "metadata": {},
   "outputs": [
    {
     "data": {
      "text/plain": [
       "{'ACKR3',\n",
       " 'ALOX12B',\n",
       " 'APLNR',\n",
       " 'AURKB',\n",
       " 'BCL9',\n",
       " 'CAD',\n",
       " 'CANT1',\n",
       " 'CCND1',\n",
       " 'CCNE1',\n",
       " 'CD19',\n",
       " 'CD274',\n",
       " 'CD276',\n",
       " 'CD70',\n",
       " 'CD74',\n",
       " 'CD79A',\n",
       " 'CD79B',\n",
       " 'CDK4',\n",
       " 'CRLF2',\n",
       " 'CSF3R',\n",
       " 'CTLA4',\n",
       " 'CTNNB1',\n",
       " 'CXCR4',\n",
       " 'CXorf67',\n",
       " 'CYSLTR2',\n",
       " 'DDX5',\n",
       " 'EGFL7',\n",
       " 'EIF4A2',\n",
       " 'ELF3',\n",
       " 'ELK4',\n",
       " 'ELN',\n",
       " 'EPOR',\n",
       " 'ERBB3',\n",
       " 'ETV4',\n",
       " 'EZH1',\n",
       " 'EZH2',\n",
       " 'FGF19',\n",
       " 'FGF23',\n",
       " 'FGF3',\n",
       " 'FGF4',\n",
       " 'FGFR3',\n",
       " 'FOXA1',\n",
       " 'FOXF1',\n",
       " 'FURIN',\n",
       " 'FUS',\n",
       " 'GNB1',\n",
       " 'GRB7',\n",
       " 'GREM1',\n",
       " 'GTF2I',\n",
       " 'H3F3A',\n",
       " 'HFE',\n",
       " 'HIST1H1E',\n",
       " 'HMGA1',\n",
       " 'HOXB13',\n",
       " 'HSD3B1',\n",
       " 'ICOSLG',\n",
       " 'ID1',\n",
       " 'IDH1',\n",
       " 'IDH2',\n",
       " 'IGF1',\n",
       " 'IGF2',\n",
       " 'IKBKE',\n",
       " 'IL3',\n",
       " 'JUN',\n",
       " 'KDM5D',\n",
       " 'KEL',\n",
       " 'KLF4',\n",
       " 'KRAS',\n",
       " 'LCK',\n",
       " 'LMO1',\n",
       " 'LTB',\n",
       " 'MAD2L2',\n",
       " 'MAFB',\n",
       " 'MAP2K2',\n",
       " 'MAPK3',\n",
       " 'MCL1',\n",
       " 'MEF2B',\n",
       " 'MEF2D',\n",
       " 'MST1R',\n",
       " 'MTHFD2',\n",
       " 'MYCL',\n",
       " 'MYD88',\n",
       " 'NADK',\n",
       " 'NCSTN',\n",
       " 'NFE2',\n",
       " 'NKX2-1',\n",
       " 'NRAS',\n",
       " 'PDCD1',\n",
       " 'PDCD1LG2',\n",
       " 'PGR',\n",
       " 'PHF19',\n",
       " 'PLCG1',\n",
       " 'POU3F2',\n",
       " 'POU3F4',\n",
       " 'PRKACA',\n",
       " 'RAC1',\n",
       " 'RAC2',\n",
       " 'RBM15',\n",
       " 'RNASEH2A',\n",
       " 'ROS1',\n",
       " 'RPS15',\n",
       " 'RPS6KA4',\n",
       " 'RPS6KB2',\n",
       " 'RRAS',\n",
       " 'SERPINB3',\n",
       " 'SETD1A',\n",
       " 'SETDB1',\n",
       " 'SF3B2',\n",
       " 'SMARCE1',\n",
       " 'SOX10',\n",
       " 'SOX2',\n",
       " 'SOX9',\n",
       " 'STAT5B',\n",
       " 'STAT6',\n",
       " 'STK19',\n",
       " 'TAL1',\n",
       " 'TCL1B',\n",
       " 'TFE3',\n",
       " 'TLX1',\n",
       " 'TLX3',\n",
       " 'TNFRSF17',\n",
       " 'TNFSF13',\n",
       " 'U2AF1',\n",
       " 'UBE2A',\n",
       " 'UCHL1',\n",
       " 'VEGFA',\n",
       " 'XBP1',\n",
       " 'ZBTB7A'}"
      ]
     },
     "execution_count": 68,
     "metadata": {},
     "output_type": "execute_result"
    }
   ],
   "source": [
    "set(genes[genes.is_oncogene].gene_name.unique().tolist()) - set(df[df.is_oncogene].gene_name.unique().tolist())"
   ]
  },
  {
   "cell_type": "code",
   "execution_count": 69,
   "metadata": {},
   "outputs": [
    {
     "data": {
      "text/html": [
       "<div>\n",
       "<style scoped>\n",
       "    .dataframe tbody tr th:only-of-type {\n",
       "        vertical-align: middle;\n",
       "    }\n",
       "\n",
       "    .dataframe tbody tr th {\n",
       "        vertical-align: top;\n",
       "    }\n",
       "\n",
       "    .dataframe thead th {\n",
       "        text-align: right;\n",
       "    }\n",
       "</style>\n",
       "<table border=\"1\" class=\"dataframe\">\n",
       "  <thead>\n",
       "    <tr style=\"text-align: right;\">\n",
       "      <th></th>\n",
       "      <th>gene_id</th>\n",
       "      <th>gene_name</th>\n",
       "      <th>chr</th>\n",
       "      <th>start</th>\n",
       "      <th>end</th>\n",
       "      <th>gene_biotype</th>\n",
       "      <th>gene_description</th>\n",
       "      <th>is_oncogene</th>\n",
       "      <th>is_tumor_suppressor</th>\n",
       "      <th>is_cosmic_tier_1</th>\n",
       "      <th>is_driver</th>\n",
       "    </tr>\n",
       "  </thead>\n",
       "  <tbody>\n",
       "    <tr>\n",
       "      <th>28592</th>\n",
       "      <td>ENSG00000120217</td>\n",
       "      <td>CD274</td>\n",
       "      <td>9</td>\n",
       "      <td>5450503</td>\n",
       "      <td>5470566</td>\n",
       "      <td>protein_coding</td>\n",
       "      <td>CD274 molecule [Source:HGNC Symbol;Acc:17635]</td>\n",
       "      <td>True</td>\n",
       "      <td>False</td>\n",
       "      <td>True</td>\n",
       "      <td>True</td>\n",
       "    </tr>\n",
       "  </tbody>\n",
       "</table>\n",
       "</div>"
      ],
      "text/plain": [
       "               gene_id gene_name chr    start      end    gene_biotype  \\\n",
       "28592  ENSG00000120217     CD274   9  5450503  5470566  protein_coding   \n",
       "\n",
       "                                    gene_description  is_oncogene  \\\n",
       "28592  CD274 molecule [Source:HGNC Symbol;Acc:17635]         True   \n",
       "\n",
       "       is_tumor_suppressor  is_cosmic_tier_1  is_driver  \n",
       "28592                False              True       True  "
      ]
     },
     "execution_count": 69,
     "metadata": {},
     "output_type": "execute_result"
    }
   ],
   "source": [
    "genes[genes.gene_name == \"CD274\"]\n"
   ]
  },
  {
   "cell_type": "code",
   "execution_count": 70,
   "metadata": {},
   "outputs": [
    {
     "data": {
      "text/html": [
       "<div>\n",
       "<style scoped>\n",
       "    .dataframe tbody tr th:only-of-type {\n",
       "        vertical-align: middle;\n",
       "    }\n",
       "\n",
       "    .dataframe tbody tr th {\n",
       "        vertical-align: top;\n",
       "    }\n",
       "\n",
       "    .dataframe thead th {\n",
       "        text-align: right;\n",
       "    }\n",
       "</style>\n",
       "<table border=\"1\" class=\"dataframe\">\n",
       "  <thead>\n",
       "    <tr style=\"text-align: right;\">\n",
       "      <th></th>\n",
       "      <th>id</th>\n",
       "      <th>wt_prediction</th>\n",
       "      <th>mut_prediction</th>\n",
       "      <th>pred_difference</th>\n",
       "      <th>vcf_id</th>\n",
       "      <th>mirna_accession</th>\n",
       "      <th>gene_id</th>\n",
       "      <th>mutation_context</th>\n",
       "      <th>mutsig</th>\n",
       "      <th>is_intron</th>\n",
       "      <th>is_gain</th>\n",
       "      <th>gene_name</th>\n",
       "      <th>gene_biotype</th>\n",
       "      <th>gene_description</th>\n",
       "      <th>is_oncogene</th>\n",
       "      <th>is_tumor_suppressor</th>\n",
       "      <th>is_cosmic_tier_1</th>\n",
       "      <th>is_driver</th>\n",
       "      <th>mirna_name</th>\n",
       "      <th>mirna_family</th>\n",
       "      <th>seed</th>\n",
       "      <th>is_gene_upregulated</th>\n",
       "      <th>is_gene_downregulated</th>\n",
       "      <th>gain</th>\n",
       "      <th>loss</th>\n",
       "    </tr>\n",
       "  </thead>\n",
       "  <tbody>\n",
       "  </tbody>\n",
       "</table>\n",
       "</div>"
      ],
      "text/plain": [
       "Empty DataFrame\n",
       "Columns: [id, wt_prediction, mut_prediction, pred_difference, vcf_id, mirna_accession, gene_id, mutation_context, mutsig, is_intron, is_gain, gene_name, gene_biotype, gene_description, is_oncogene, is_tumor_suppressor, is_cosmic_tier_1, is_driver, mirna_name, mirna_family, seed, is_gene_upregulated, is_gene_downregulated, gain, loss]\n",
       "Index: []"
      ]
     },
     "execution_count": 70,
     "metadata": {},
     "output_type": "execute_result"
    }
   ],
   "source": [
    "df[df.gene_name == \"CD274\"]"
   ]
  },
  {
   "cell_type": "code",
   "execution_count": 62,
   "metadata": {},
   "outputs": [
    {
     "data": {
      "text/plain": [
       "413"
      ]
     },
     "execution_count": 62,
     "metadata": {},
     "output_type": "execute_result"
    }
   ],
   "source": [
    "len(genes[genes.is_oncogene].gene_name.unique())\n"
   ]
  },
  {
   "cell_type": "code",
   "execution_count": 63,
   "metadata": {},
   "outputs": [
    {
     "data": {
      "text/plain": [
       "574"
      ]
     },
     "execution_count": 63,
     "metadata": {},
     "output_type": "execute_result"
    }
   ],
   "source": [
    "len(genes[genes.is_cosmic_tier_1].gene_name.unique())\n"
   ]
  },
  {
   "cell_type": "code",
   "execution_count": 55,
   "metadata": {},
   "outputs": [
    {
     "data": {
      "text/plain": [
       "246"
      ]
     },
     "execution_count": 55,
     "metadata": {},
     "output_type": "execute_result"
    }
   ],
   "source": [
    "len(df[df.is_tumor_suppressor].gene_name.unique()\n",
    ")"
   ]
  },
  {
   "cell_type": "code",
   "execution_count": 60,
   "metadata": {},
   "outputs": [
    {
     "data": {
      "text/plain": [
       "365"
      ]
     },
     "execution_count": 60,
     "metadata": {},
     "output_type": "execute_result"
    }
   ],
   "source": [
    "len(genes[genes.is_tumor_suppressor].gene_name.unique())\n"
   ]
  },
  {
   "cell_type": "code",
   "execution_count": 58,
   "metadata": {},
   "outputs": [
    {
     "data": {
      "text/plain": [
       "66"
      ]
     },
     "execution_count": 58,
     "metadata": {},
     "output_type": "execute_result"
    }
   ],
   "source": [
    "df[df.is_driver].gene_name.nunique()\n"
   ]
  },
  {
   "cell_type": "code",
   "execution_count": 57,
   "metadata": {},
   "outputs": [
    {
     "data": {
      "text/plain": [
       "87"
      ]
     },
     "execution_count": 57,
     "metadata": {},
     "output_type": "execute_result"
    }
   ],
   "source": [
    "genes[genes.is_driver].gene_name.nunique()\n"
   ]
  }
 ],
 "metadata": {
  "kernelspec": {
   "display_name": "mirscribe-vcf-8VJm4tPg-py3.10",
   "language": "python",
   "name": "python3"
  },
  "language_info": {
   "codemirror_mode": {
    "name": "ipython",
    "version": 3
   },
   "file_extension": ".py",
   "mimetype": "text/x-python",
   "name": "python",
   "nbconvert_exporter": "python",
   "pygments_lexer": "ipython3",
   "version": "3.10.12"
  }
 },
 "nbformat": 4,
 "nbformat_minor": 2
}
