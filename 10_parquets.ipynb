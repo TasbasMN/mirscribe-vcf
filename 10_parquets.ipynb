{
 "cells": [
  {
   "cell_type": "code",
   "execution_count": 1,
   "metadata": {},
   "outputs": [],
   "source": [
    "import pandas as pd\n",
    "import os "
   ]
  },
  {
   "cell_type": "code",
   "execution_count": 2,
   "metadata": {},
   "outputs": [],
   "source": [
    "folder = \"data/synth\"\n",
    "\n",
    "# find parquet files in folder\n",
    "parquet_files = [f\"data/synth/{f}\" for f in os.listdir(folder) if f.endswith(\".parquet\")]\n",
    "# sort list alphabetically\n",
    "parquet_files.sort()"
   ]
  },
  {
   "cell_type": "code",
   "execution_count": 4,
   "metadata": {},
   "outputs": [],
   "source": [
    "pqs = []\n",
    "for i in range(1, 11):\n",
    "    dff = pd.read_parquet(f\"data/synth/synth{i}.parquet\")\n",
    "    dff[\"simulation\"] = i\n",
    "    \n",
    "    # set category dtype\n",
    "    dff\n",
    "    \n",
    "    pqs.append(dff)\n",
    "\n",
    "df = pd.concat(pqs, ignore_index=True)"
   ]
  },
  {
   "cell_type": "code",
   "execution_count": 5,
   "metadata": {},
   "outputs": [
    {
     "data": {
      "text/html": [
       "<div>\n",
       "<style scoped>\n",
       "    .dataframe tbody tr th:only-of-type {\n",
       "        vertical-align: middle;\n",
       "    }\n",
       "\n",
       "    .dataframe tbody tr th {\n",
       "        vertical-align: top;\n",
       "    }\n",
       "\n",
       "    .dataframe thead th {\n",
       "        text-align: right;\n",
       "    }\n",
       "</style>\n",
       "<table border=\"1\" class=\"dataframe\">\n",
       "  <thead>\n",
       "    <tr style=\"text-align: right;\">\n",
       "      <th></th>\n",
       "      <th>id</th>\n",
       "      <th>wt_prediction</th>\n",
       "      <th>mut_prediction</th>\n",
       "      <th>pred_difference</th>\n",
       "      <th>vcf_id</th>\n",
       "      <th>mirna_accession</th>\n",
       "      <th>gene_id</th>\n",
       "      <th>is_intron</th>\n",
       "      <th>mutation_context</th>\n",
       "      <th>mutsig</th>\n",
       "      <th>is_gene_upregulated</th>\n",
       "      <th>simulation</th>\n",
       "    </tr>\n",
       "  </thead>\n",
       "  <tbody>\n",
       "    <tr>\n",
       "      <th>0</th>\n",
       "      <td>PD4194a+_3_101620156_C_A_MIMAT0000073</td>\n",
       "      <td>0.311139</td>\n",
       "      <td>0.686902</td>\n",
       "      <td>0.376</td>\n",
       "      <td>PD4194a+</td>\n",
       "      <td>MIMAT0000073</td>\n",
       "      <td>not_found</td>\n",
       "      <td>False</td>\n",
       "      <td>A[C&gt;A]C</td>\n",
       "      <td>not_found</td>\n",
       "      <td>False</td>\n",
       "      <td>1</td>\n",
       "    </tr>\n",
       "    <tr>\n",
       "      <th>1</th>\n",
       "      <td>PD4194a+_3_101620156_C_A_MIMAT0000083</td>\n",
       "      <td>0.618228</td>\n",
       "      <td>0.350476</td>\n",
       "      <td>-0.268</td>\n",
       "      <td>PD4194a+</td>\n",
       "      <td>MIMAT0000083</td>\n",
       "      <td>not_found</td>\n",
       "      <td>False</td>\n",
       "      <td>A[C&gt;A]C</td>\n",
       "      <td>not_found</td>\n",
       "      <td>True</td>\n",
       "      <td>1</td>\n",
       "    </tr>\n",
       "    <tr>\n",
       "      <th>2</th>\n",
       "      <td>PD4194a+_3_101620156_C_A_MIMAT0000717</td>\n",
       "      <td>0.139758</td>\n",
       "      <td>0.601649</td>\n",
       "      <td>0.462</td>\n",
       "      <td>PD4194a+</td>\n",
       "      <td>MIMAT0000717</td>\n",
       "      <td>not_found</td>\n",
       "      <td>False</td>\n",
       "      <td>A[C&gt;A]C</td>\n",
       "      <td>not_found</td>\n",
       "      <td>False</td>\n",
       "      <td>1</td>\n",
       "    </tr>\n",
       "    <tr>\n",
       "      <th>3</th>\n",
       "      <td>PD4194a+_3_101620156_C_A_MIMAT0003220</td>\n",
       "      <td>0.196154</td>\n",
       "      <td>0.532445</td>\n",
       "      <td>0.336</td>\n",
       "      <td>PD4194a+</td>\n",
       "      <td>MIMAT0003220</td>\n",
       "      <td>not_found</td>\n",
       "      <td>False</td>\n",
       "      <td>A[C&gt;A]C</td>\n",
       "      <td>not_found</td>\n",
       "      <td>False</td>\n",
       "      <td>1</td>\n",
       "    </tr>\n",
       "    <tr>\n",
       "      <th>4</th>\n",
       "      <td>PD4194a+_3_101620156_C_A_MIMAT0003227</td>\n",
       "      <td>0.306864</td>\n",
       "      <td>0.625223</td>\n",
       "      <td>0.318</td>\n",
       "      <td>PD4194a+</td>\n",
       "      <td>MIMAT0003227</td>\n",
       "      <td>not_found</td>\n",
       "      <td>False</td>\n",
       "      <td>A[C&gt;A]C</td>\n",
       "      <td>not_found</td>\n",
       "      <td>False</td>\n",
       "      <td>1</td>\n",
       "    </tr>\n",
       "  </tbody>\n",
       "</table>\n",
       "</div>"
      ],
      "text/plain": [
       "                                      id  wt_prediction  mut_prediction  \\\n",
       "0  PD4194a+_3_101620156_C_A_MIMAT0000073       0.311139        0.686902   \n",
       "1  PD4194a+_3_101620156_C_A_MIMAT0000083       0.618228        0.350476   \n",
       "2  PD4194a+_3_101620156_C_A_MIMAT0000717       0.139758        0.601649   \n",
       "3  PD4194a+_3_101620156_C_A_MIMAT0003220       0.196154        0.532445   \n",
       "4  PD4194a+_3_101620156_C_A_MIMAT0003227       0.306864        0.625223   \n",
       "\n",
       "   pred_difference    vcf_id mirna_accession    gene_id  is_intron  \\\n",
       "0            0.376  PD4194a+    MIMAT0000073  not_found      False   \n",
       "1           -0.268  PD4194a+    MIMAT0000083  not_found      False   \n",
       "2            0.462  PD4194a+    MIMAT0000717  not_found      False   \n",
       "3            0.336  PD4194a+    MIMAT0003220  not_found      False   \n",
       "4            0.318  PD4194a+    MIMAT0003227  not_found      False   \n",
       "\n",
       "  mutation_context     mutsig  is_gene_upregulated  simulation  \n",
       "0          A[C>A]C  not_found                False           1  \n",
       "1          A[C>A]C  not_found                 True           1  \n",
       "2          A[C>A]C  not_found                False           1  \n",
       "3          A[C>A]C  not_found                False           1  \n",
       "4          A[C>A]C  not_found                False           1  "
      ]
     },
     "execution_count": 5,
     "metadata": {},
     "output_type": "execute_result"
    }
   ],
   "source": [
    "df.head()"
   ]
  },
  {
   "cell_type": "code",
   "execution_count": null,
   "metadata": {},
   "outputs": [],
   "source": [
    "df.simulation"
   ]
  },
  {
   "cell_type": "code",
   "execution_count": 7,
   "metadata": {},
   "outputs": [
    {
     "data": {
      "text/plain": [
       "id                      object\n",
       "wt_prediction          float32\n",
       "mut_prediction         float32\n",
       "pred_difference        float64\n",
       "vcf_id                  object\n",
       "mirna_accession         object\n",
       "gene_id                 object\n",
       "is_intron                 bool\n",
       "mutation_context        object\n",
       "mutsig                  object\n",
       "is_gene_upregulated       bool\n",
       "simulation               int64\n",
       "dtype: object"
      ]
     },
     "execution_count": 7,
     "metadata": {},
     "output_type": "execute_result"
    }
   ],
   "source": [
    "df.dtypes"
   ]
  },
  {
   "cell_type": "code",
   "execution_count": 6,
   "metadata": {},
   "outputs": [
    {
     "data": {
      "text/plain": [
       "mutsig\n",
       "SBS40        11932041\n",
       "SBS2         11389411\n",
       "not_found     6302419\n",
       "SBS3          4163403\n",
       "SBS1          2060302\n",
       "SBS13         1661650\n",
       "SBS5          1296012\n",
       "SBS8            86349\n",
       "Name: count, dtype: int64"
      ]
     },
     "execution_count": 6,
     "metadata": {},
     "output_type": "execute_result"
    }
   ],
   "source": [
    "df.mutsig.value_counts()"
   ]
  },
  {
   "cell_type": "code",
   "execution_count": null,
   "metadata": {},
   "outputs": [],
   "source": [
    "import os\n",
    "os.system(\"paplay /usr/share/sounds/gnome/default/alerts/drip.ogg\")"
   ]
  }
 ],
 "metadata": {
  "kernelspec": {
   "display_name": "mirscribe-vcf-8VJm4tPg-py3.10",
   "language": "python",
   "name": "python3"
  },
  "language_info": {
   "codemirror_mode": {
    "name": "ipython",
    "version": 3
   },
   "file_extension": ".py",
   "mimetype": "text/x-python",
   "name": "python",
   "nbconvert_exporter": "python",
   "pygments_lexer": "ipython3",
   "version": "3.10.12"
  }
 },
 "nbformat": 4,
 "nbformat_minor": 2
}
