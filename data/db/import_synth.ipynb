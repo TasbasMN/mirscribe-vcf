{
 "cells": [
  {
   "cell_type": "code",
   "execution_count": 1,
   "metadata": {},
   "outputs": [
    {
     "name": "stdout",
     "output_type": "stream",
     "text": [
      "/home/nazif/thesis/mirscribe-vcf\n"
     ]
    },
    {
     "name": "stderr",
     "output_type": "stream",
     "text": [
      "/home/nazif/.cache/pypoetry/virtualenvs/mirscribe-vcf-8VJm4tPg-py3.10/lib/python3.10/site-packages/IPython/core/magics/osm.py:417: UserWarning: This is now an optional IPython functionality, setting dhist requires you to install the `pickleshare` library.\n",
      "  self.shell.db['dhist'] = compress_dhist(dhist)[-100:]\n"
     ]
    }
   ],
   "source": [
    "cd ../..\n"
   ]
  },
  {
   "cell_type": "code",
   "execution_count": 2,
   "metadata": {},
   "outputs": [
    {
     "name": "stderr",
     "output_type": "stream",
     "text": [
      "INFO:pyensembl.sequence_data:Loaded sequence dictionary from /home/nazif/thesis/data/pyensembl/GRCh37/ensembl75/Homo_sapiens.GRCh37.75.cdna.all.fa.gz.pickle\n",
      "INFO:pyensembl.sequence_data:Loaded sequence dictionary from /home/nazif/thesis/data/pyensembl/GRCh37/ensembl75/Homo_sapiens.GRCh37.75.ncrna.fa.gz.pickle\n",
      "INFO:pyensembl.sequence_data:Loaded sequence dictionary from /home/nazif/thesis/data/pyensembl/GRCh37/ensembl75/Homo_sapiens.GRCh37.75.pep.all.fa.gz.pickle\n",
      "INFO:pyensembl.sequence_data:Loaded sequence dictionary from /home/nazif/thesis/data/pyensembl/GRCh37/ensembl75/Homo_sapiens.GRCh37.75.cdna.all.fa.gz.pickle\n",
      "INFO:pyensembl.sequence_data:Loaded sequence dictionary from /home/nazif/thesis/data/pyensembl/GRCh37/ensembl75/Homo_sapiens.GRCh37.75.ncrna.fa.gz.pickle\n",
      "INFO:pyensembl.sequence_data:Loaded sequence dictionary from /home/nazif/thesis/data/pyensembl/GRCh37/ensembl75/Homo_sapiens.GRCh37.75.pep.all.fa.gz.pickle\n"
     ]
    }
   ],
   "source": [
    "import pandas as pd\n",
    "\n",
    "from scripts.pipeline_steps import step5 as s5\n",
    "from scripts.pyensembl_operations import import_pyensembl\n",
    "g37 = import_pyensembl(37)\n",
    "\n",
    "from scripts.notebook_operations import setup_notebook\n",
    "\n",
    "engine, g37, transcripts, genes, mirnas = setup_notebook()"
   ]
  },
  {
   "cell_type": "code",
   "execution_count": 3,
   "metadata": {},
   "outputs": [],
   "source": [
    "df = s5.crawl_and_import_results_into_df(folder_path='results/synth2/', ending_string='a+', assembly=g37)\n"
   ]
  },
  {
   "cell_type": "code",
   "execution_count": 4,
   "metadata": {},
   "outputs": [
    {
     "data": {
      "text/html": [
       "<div>\n",
       "<style scoped>\n",
       "    .dataframe tbody tr th:only-of-type {\n",
       "        vertical-align: middle;\n",
       "    }\n",
       "\n",
       "    .dataframe tbody tr th {\n",
       "        vertical-align: top;\n",
       "    }\n",
       "\n",
       "    .dataframe thead th {\n",
       "        text-align: right;\n",
       "    }\n",
       "</style>\n",
       "<table border=\"1\" class=\"dataframe\">\n",
       "  <thead>\n",
       "    <tr style=\"text-align: right;\">\n",
       "      <th></th>\n",
       "      <th>id</th>\n",
       "      <th>wt_prediction</th>\n",
       "      <th>mut_prediction</th>\n",
       "      <th>pred_difference</th>\n",
       "      <th>vcf_id</th>\n",
       "      <th>mirna_accession</th>\n",
       "      <th>gene_id</th>\n",
       "      <th>mutation_context</th>\n",
       "      <th>mutsig</th>\n",
       "      <th>is_intron</th>\n",
       "      <th>is_gain</th>\n",
       "      <th>is_gene_upregulated</th>\n",
       "    </tr>\n",
       "  </thead>\n",
       "  <tbody>\n",
       "    <tr>\n",
       "      <th>0</th>\n",
       "      <td>PD4116a_X_102396637_A_T_MIMAT0015086</td>\n",
       "      <td>0.474351</td>\n",
       "      <td>0.839948</td>\n",
       "      <td>0.366</td>\n",
       "      <td>PD4116a</td>\n",
       "      <td>MIMAT0015086</td>\n",
       "      <td>NaN</td>\n",
       "      <td>G[T&gt;A]G</td>\n",
       "      <td>SBS3</td>\n",
       "      <td>False</td>\n",
       "      <td>True</td>\n",
       "      <td>False</td>\n",
       "    </tr>\n",
       "    <tr>\n",
       "      <th>1</th>\n",
       "      <td>PD4116a_X_103292828_A_T_MIMAT0019199</td>\n",
       "      <td>0.352861</td>\n",
       "      <td>0.804976</td>\n",
       "      <td>0.452</td>\n",
       "      <td>PD4116a</td>\n",
       "      <td>MIMAT0019199</td>\n",
       "      <td>ENSG00000101812</td>\n",
       "      <td>C[T&gt;A]C</td>\n",
       "      <td>SBS3</td>\n",
       "      <td>True</td>\n",
       "      <td>True</td>\n",
       "      <td>False</td>\n",
       "    </tr>\n",
       "    <tr>\n",
       "      <th>2</th>\n",
       "      <td>PD4116a_X_103886035_T_A_MIMAT0000763</td>\n",
       "      <td>0.665181</td>\n",
       "      <td>0.287550</td>\n",
       "      <td>-0.378</td>\n",
       "      <td>PD4116a</td>\n",
       "      <td>MIMAT0000763</td>\n",
       "      <td>ENSG00000189108</td>\n",
       "      <td>C[T&gt;A]T</td>\n",
       "      <td>SBS8</td>\n",
       "      <td>True</td>\n",
       "      <td>False</td>\n",
       "      <td>True</td>\n",
       "    </tr>\n",
       "    <tr>\n",
       "      <th>3</th>\n",
       "      <td>PD4116a_X_103886035_T_A_MIMAT0022278</td>\n",
       "      <td>0.515179</td>\n",
       "      <td>0.272348</td>\n",
       "      <td>-0.243</td>\n",
       "      <td>PD4116a</td>\n",
       "      <td>MIMAT0022278</td>\n",
       "      <td>ENSG00000189108</td>\n",
       "      <td>C[T&gt;A]T</td>\n",
       "      <td>SBS8</td>\n",
       "      <td>True</td>\n",
       "      <td>False</td>\n",
       "      <td>True</td>\n",
       "    </tr>\n",
       "    <tr>\n",
       "      <th>4</th>\n",
       "      <td>PD4116a_X_105078564_T_C_MIMAT0000066</td>\n",
       "      <td>0.798631</td>\n",
       "      <td>0.355989</td>\n",
       "      <td>-0.443</td>\n",
       "      <td>PD4116a</td>\n",
       "      <td>MIMAT0000066</td>\n",
       "      <td>ENSG00000123572</td>\n",
       "      <td>T[T&gt;C]T</td>\n",
       "      <td>SBS3</td>\n",
       "      <td>True</td>\n",
       "      <td>False</td>\n",
       "      <td>True</td>\n",
       "    </tr>\n",
       "  </tbody>\n",
       "</table>\n",
       "</div>"
      ],
      "text/plain": [
       "                                     id  wt_prediction  mut_prediction  \\\n",
       "0  PD4116a_X_102396637_A_T_MIMAT0015086       0.474351        0.839948   \n",
       "1  PD4116a_X_103292828_A_T_MIMAT0019199       0.352861        0.804976   \n",
       "2  PD4116a_X_103886035_T_A_MIMAT0000763       0.665181        0.287550   \n",
       "3  PD4116a_X_103886035_T_A_MIMAT0022278       0.515179        0.272348   \n",
       "4  PD4116a_X_105078564_T_C_MIMAT0000066       0.798631        0.355989   \n",
       "\n",
       "   pred_difference   vcf_id mirna_accession          gene_id mutation_context  \\\n",
       "0            0.366  PD4116a    MIMAT0015086              NaN          G[T>A]G   \n",
       "1            0.452  PD4116a    MIMAT0019199  ENSG00000101812          C[T>A]C   \n",
       "2           -0.378  PD4116a    MIMAT0000763  ENSG00000189108          C[T>A]T   \n",
       "3           -0.243  PD4116a    MIMAT0022278  ENSG00000189108          C[T>A]T   \n",
       "4           -0.443  PD4116a    MIMAT0000066  ENSG00000123572          T[T>C]T   \n",
       "\n",
       "  mutsig  is_intron  is_gain  is_gene_upregulated  \n",
       "0   SBS3      False     True                False  \n",
       "1   SBS3       True     True                False  \n",
       "2   SBS8       True    False                 True  \n",
       "3   SBS8       True    False                 True  \n",
       "4   SBS3       True    False                 True  "
      ]
     },
     "execution_count": 4,
     "metadata": {},
     "output_type": "execute_result"
    }
   ],
   "source": [
    "df.head()"
   ]
  },
  {
   "cell_type": "code",
   "execution_count": 5,
   "metadata": {},
   "outputs": [
    {
     "name": "stderr",
     "output_type": "stream",
     "text": [
      "/tmp/ipykernel_41980/3801331413.py:14: FutureWarning: Downcasting object dtype arrays on .fillna, .ffill, .bfill is deprecated and will change in a future version. Call result.infer_objects(copy=False) instead. To opt-in to the future behavior, set `pd.set_option('future.no_silent_downcasting', True)`\n",
      "  df = df.fillna(False)\n"
     ]
    }
   ],
   "source": [
    "df = df.merge(genes, on=\"gene_id\", how=\"left\")\n",
    "df = df.merge(mirnas, on=\"mirna_accession\", how=\"left\")\n",
    "df.drop(columns=[\"chr\", \"start\", \"end\", \"sequence\", \"conservation\", \"mirna_name_cmc\"], inplace=True)\n",
    "\n",
    "# fill NAs\n",
    "df[\"mutsig\"] = df[\"mutsig\"].fillna(\"not_found\")\n",
    "df[\"gene_id\"] = df[\"gene_id\"].fillna(\"not_found\")\n",
    "df[\"gene_name\"] = df[\"gene_name\"].fillna(\"not_found\")\n",
    "df[\"gene_biotype\"] = df[\"gene_biotype\"].fillna(\"not_found\")\n",
    "df[\"gene_description\"] = df[\"gene_description\"].fillna(\"not_found\")\n",
    "df[\"cancer_gene_role\"] = df[\"cancer_gene_role\"].fillna(\"neither\")\n",
    "df[\"tier_cosmic\"] = df[\"tier_cosmic\"].fillna(0)\n",
    "\n",
    "df = df.fillna(False)\n",
    "\n",
    "df.to_parquet(\"data/synth2.parquet\")"
   ]
  }
 ],
 "metadata": {
  "kernelspec": {
   "display_name": "mirscribe-vcf-8VJm4tPg-py3.10",
   "language": "python",
   "name": "python3"
  },
  "language_info": {
   "codemirror_mode": {
    "name": "ipython",
    "version": 3
   },
   "file_extension": ".py",
   "mimetype": "text/x-python",
   "name": "python",
   "nbconvert_exporter": "python",
   "pygments_lexer": "ipython3",
   "version": "3.10.12"
  }
 },
 "nbformat": 4,
 "nbformat_minor": 2
}
