{
 "cells": [
  {
   "cell_type": "code",
   "execution_count": 1,
   "metadata": {},
   "outputs": [
    {
     "name": "stdout",
     "output_type": "stream",
     "text": [
      "/home/nazif/thesis/mirscribe-vcf\n"
     ]
    },
    {
     "name": "stderr",
     "output_type": "stream",
     "text": [
      "/home/nazif/.cache/pypoetry/virtualenvs/mirscribe-vcf-8VJm4tPg-py3.10/lib/python3.10/site-packages/IPython/core/magics/osm.py:417: UserWarning: This is now an optional IPython functionality, setting dhist requires you to install the `pickleshare` library.\n",
      "  self.shell.db['dhist'] = compress_dhist(dhist)[-100:]\n"
     ]
    }
   ],
   "source": [
    "cd ../..\n"
   ]
  },
  {
   "cell_type": "code",
   "execution_count": 3,
   "metadata": {},
   "outputs": [],
   "source": [
    "from sqlalchemy import create_engine\n",
    "import pandas as pd\n",
    "import numpy as np\n",
    "\n",
    "# db engine\n",
    "engine = create_engine('sqlite:///data/db/mirscribe.db')\n",
    "\n",
    "# pyensembl db engine\n",
    "pyensembl = create_engine('sqlite:////home/nazif/.cache/pyensembl/GRCh38/ensembl111/Homo_sapiens.GRCh38.111.gtf.db')"
   ]
  },
  {
   "cell_type": "code",
   "execution_count": 4,
   "metadata": {},
   "outputs": [
    {
     "data": {
      "text/html": [
       "<div>\n",
       "<style scoped>\n",
       "    .dataframe tbody tr th:only-of-type {\n",
       "        vertical-align: middle;\n",
       "    }\n",
       "\n",
       "    .dataframe tbody tr th {\n",
       "        vertical-align: top;\n",
       "    }\n",
       "\n",
       "    .dataframe thead th {\n",
       "        text-align: right;\n",
       "    }\n",
       "</style>\n",
       "<table border=\"1\" class=\"dataframe\">\n",
       "  <thead>\n",
       "    <tr style=\"text-align: right;\">\n",
       "      <th></th>\n",
       "      <th>transcript_id</th>\n",
       "      <th>transcript_name</th>\n",
       "      <th>chr</th>\n",
       "      <th>start</th>\n",
       "      <th>end</th>\n",
       "      <th>gene_id</th>\n",
       "      <th>transcript_biotype</th>\n",
       "    </tr>\n",
       "  </thead>\n",
       "  <tbody>\n",
       "    <tr>\n",
       "      <th>0</th>\n",
       "      <td>ENST00000624431</td>\n",
       "      <td>DDX11L17-201</td>\n",
       "      <td>1</td>\n",
       "      <td>182696</td>\n",
       "      <td>184174</td>\n",
       "      <td>ENSG00000279928</td>\n",
       "      <td>unprocessed_pseudogene</td>\n",
       "    </tr>\n",
       "    <tr>\n",
       "      <th>1</th>\n",
       "      <td>ENST00000424215</td>\n",
       "      <td>NaN</td>\n",
       "      <td>1</td>\n",
       "      <td>2581560</td>\n",
       "      <td>2584533</td>\n",
       "      <td>ENSG00000228037</td>\n",
       "      <td>lncRNA</td>\n",
       "    </tr>\n",
       "    <tr>\n",
       "      <th>2</th>\n",
       "      <td>ENST00000511072</td>\n",
       "      <td>PRDM16-206</td>\n",
       "      <td>1</td>\n",
       "      <td>3069168</td>\n",
       "      <td>3434342</td>\n",
       "      <td>ENSG00000142611</td>\n",
       "      <td>protein_coding</td>\n",
       "    </tr>\n",
       "    <tr>\n",
       "      <th>3</th>\n",
       "      <td>ENST00000607632</td>\n",
       "      <td>PRDM16-210</td>\n",
       "      <td>1</td>\n",
       "      <td>3069183</td>\n",
       "      <td>3186591</td>\n",
       "      <td>ENSG00000142611</td>\n",
       "      <td>retained_intron</td>\n",
       "    </tr>\n",
       "    <tr>\n",
       "      <th>4</th>\n",
       "      <td>ENST00000378391</td>\n",
       "      <td>PRDM16-203</td>\n",
       "      <td>1</td>\n",
       "      <td>3069197</td>\n",
       "      <td>3435421</td>\n",
       "      <td>ENSG00000142611</td>\n",
       "      <td>protein_coding</td>\n",
       "    </tr>\n",
       "  </tbody>\n",
       "</table>\n",
       "</div>"
      ],
      "text/plain": [
       "     transcript_id transcript_name chr    start      end          gene_id  \\\n",
       "0  ENST00000624431    DDX11L17-201   1   182696   184174  ENSG00000279928   \n",
       "1  ENST00000424215             NaN   1  2581560  2584533  ENSG00000228037   \n",
       "2  ENST00000511072      PRDM16-206   1  3069168  3434342  ENSG00000142611   \n",
       "3  ENST00000607632      PRDM16-210   1  3069183  3186591  ENSG00000142611   \n",
       "4  ENST00000378391      PRDM16-203   1  3069197  3435421  ENSG00000142611   \n",
       "\n",
       "       transcript_biotype  \n",
       "0  unprocessed_pseudogene  \n",
       "1                  lncRNA  \n",
       "2          protein_coding  \n",
       "3         retained_intron  \n",
       "4          protein_coding  "
      ]
     },
     "execution_count": 4,
     "metadata": {},
     "output_type": "execute_result"
    }
   ],
   "source": [
    "transcripts = pd.read_sql(\"transcript\", pyensembl, columns=[\"transcript_id\", \"transcript_name\", \"seqname\", \"start\", \"end\", \"gene_id\", \"transcript_biotype\"])\n",
    "\n",
    "transcripts = transcripts.replace(r'^\\s*$', np.nan, regex=True)\n",
    "\n",
    "transcripts.rename(columns={\"seqname\": \"chr\"}, inplace=True)\n",
    "transcripts.head()"
   ]
  },
  {
   "cell_type": "code",
   "execution_count": 8,
   "metadata": {},
   "outputs": [
    {
     "data": {
      "text/html": [
       "<div>\n",
       "<style scoped>\n",
       "    .dataframe tbody tr th:only-of-type {\n",
       "        vertical-align: middle;\n",
       "    }\n",
       "\n",
       "    .dataframe tbody tr th {\n",
       "        vertical-align: top;\n",
       "    }\n",
       "\n",
       "    .dataframe thead th {\n",
       "        text-align: right;\n",
       "    }\n",
       "</style>\n",
       "<table border=\"1\" class=\"dataframe\">\n",
       "  <thead>\n",
       "    <tr style=\"text-align: right;\">\n",
       "      <th></th>\n",
       "      <th>transcript_id</th>\n",
       "      <th>transcript_name</th>\n",
       "      <th>chr</th>\n",
       "      <th>start</th>\n",
       "      <th>end</th>\n",
       "      <th>gene_id</th>\n",
       "      <th>transcript_biotype</th>\n",
       "    </tr>\n",
       "  </thead>\n",
       "  <tbody>\n",
       "    <tr>\n",
       "      <th>631</th>\n",
       "      <td>ENST00000294353</td>\n",
       "      <td>ZYG11B-201</td>\n",
       "      <td>1</td>\n",
       "      <td>52726453</td>\n",
       "      <td>52827336</td>\n",
       "      <td>ENSG00000162378</td>\n",
       "      <td>protein_coding</td>\n",
       "    </tr>\n",
       "  </tbody>\n",
       "</table>\n",
       "</div>"
      ],
      "text/plain": [
       "       transcript_id transcript_name chr     start       end          gene_id  \\\n",
       "631  ENST00000294353      ZYG11B-201   1  52726453  52827336  ENSG00000162378   \n",
       "\n",
       "    transcript_biotype  \n",
       "631     protein_coding  "
      ]
     },
     "execution_count": 8,
     "metadata": {},
     "output_type": "execute_result"
    }
   ],
   "source": [
    "transcripts[transcripts.transcript_id == \"ENST00000294353\"]"
   ]
  },
  {
   "cell_type": "code",
   "execution_count": 5,
   "metadata": {},
   "outputs": [
    {
     "data": {
      "text/plain": [
       "transcript_id             0\n",
       "transcript_name       31617\n",
       "chr                       0\n",
       "start                     0\n",
       "end                       0\n",
       "gene_id                   0\n",
       "transcript_biotype        0\n",
       "dtype: int64"
      ]
     },
     "execution_count": 5,
     "metadata": {},
     "output_type": "execute_result"
    }
   ],
   "source": [
    "transcripts.isna().sum()\n"
   ]
  }
 ],
 "metadata": {
  "kernelspec": {
   "display_name": "mirscribe-vcf-8VJm4tPg-py3.10",
   "language": "python",
   "name": "python3"
  },
  "language_info": {
   "codemirror_mode": {
    "name": "ipython",
    "version": 3
   },
   "file_extension": ".py",
   "mimetype": "text/x-python",
   "name": "python",
   "nbconvert_exporter": "python",
   "pygments_lexer": "ipython3",
   "version": "3.10.12"
  }
 },
 "nbformat": 4,
 "nbformat_minor": 2
}
