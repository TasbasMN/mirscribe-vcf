{
 "cells": [
  {
   "cell_type": "code",
   "execution_count": 1,
   "metadata": {},
   "outputs": [
    {
     "name": "stdout",
     "output_type": "stream",
     "text": [
      "/home/nazif/thesis/mirscribe-vcf\n"
     ]
    },
    {
     "name": "stderr",
     "output_type": "stream",
     "text": [
      "/home/nazif/.cache/pypoetry/virtualenvs/mirscribe-vcf-8VJm4tPg-py3.10/lib/python3.10/site-packages/IPython/core/magics/osm.py:417: UserWarning: This is now an optional IPython functionality, setting dhist requires you to install the `pickleshare` library.\n",
      "  self.shell.db['dhist'] = compress_dhist(dhist)[-100:]\n"
     ]
    }
   ],
   "source": [
    "cd ../.."
   ]
  },
  {
   "cell_type": "code",
   "execution_count": 2,
   "metadata": {},
   "outputs": [],
   "source": [
    "from sqlalchemy import create_engine\n",
    "import pandas as pd\n",
    "import numpy as np\n",
    "# db engine\n",
    "engine = create_engine('sqlite:///data/db/mirscribe.db')\n",
    "\n",
    "# pyensembl db engine\n",
    "pyensembl = create_engine('sqlite:////home/nazif/.cache/pyensembl/GRCh37/ensembl75/Homo_sapiens.GRCh37.75.gtf.db')\n"
   ]
  },
  {
   "cell_type": "code",
   "execution_count": 3,
   "metadata": {},
   "outputs": [
    {
     "data": {
      "text/html": [
       "<div>\n",
       "<style scoped>\n",
       "    .dataframe tbody tr th:only-of-type {\n",
       "        vertical-align: middle;\n",
       "    }\n",
       "\n",
       "    .dataframe tbody tr th {\n",
       "        vertical-align: top;\n",
       "    }\n",
       "\n",
       "    .dataframe thead th {\n",
       "        text-align: right;\n",
       "    }\n",
       "</style>\n",
       "<table border=\"1\" class=\"dataframe\">\n",
       "  <thead>\n",
       "    <tr style=\"text-align: right;\">\n",
       "      <th></th>\n",
       "      <th>gene_id</th>\n",
       "      <th>gene_name</th>\n",
       "      <th>chr</th>\n",
       "      <th>start</th>\n",
       "      <th>end</th>\n",
       "      <th>gene_biotype</th>\n",
       "    </tr>\n",
       "  </thead>\n",
       "  <tbody>\n",
       "    <tr>\n",
       "      <th>0</th>\n",
       "      <td>ENSG00000223972</td>\n",
       "      <td>DDX11L1</td>\n",
       "      <td>1</td>\n",
       "      <td>11869</td>\n",
       "      <td>14412</td>\n",
       "      <td>pseudogene</td>\n",
       "    </tr>\n",
       "    <tr>\n",
       "      <th>1</th>\n",
       "      <td>ENSG00000227232</td>\n",
       "      <td>WASH7P</td>\n",
       "      <td>1</td>\n",
       "      <td>14363</td>\n",
       "      <td>29806</td>\n",
       "      <td>pseudogene</td>\n",
       "    </tr>\n",
       "    <tr>\n",
       "      <th>2</th>\n",
       "      <td>ENSG00000243485</td>\n",
       "      <td>MIR1302-10</td>\n",
       "      <td>1</td>\n",
       "      <td>29554</td>\n",
       "      <td>31109</td>\n",
       "      <td>lincRNA</td>\n",
       "    </tr>\n",
       "    <tr>\n",
       "      <th>3</th>\n",
       "      <td>ENSG00000237613</td>\n",
       "      <td>FAM138A</td>\n",
       "      <td>1</td>\n",
       "      <td>34554</td>\n",
       "      <td>36081</td>\n",
       "      <td>lincRNA</td>\n",
       "    </tr>\n",
       "    <tr>\n",
       "      <th>4</th>\n",
       "      <td>ENSG00000268020</td>\n",
       "      <td>OR4G4P</td>\n",
       "      <td>1</td>\n",
       "      <td>52473</td>\n",
       "      <td>54936</td>\n",
       "      <td>pseudogene</td>\n",
       "    </tr>\n",
       "  </tbody>\n",
       "</table>\n",
       "</div>"
      ],
      "text/plain": [
       "           gene_id   gene_name chr  start    end gene_biotype\n",
       "0  ENSG00000223972     DDX11L1   1  11869  14412   pseudogene\n",
       "1  ENSG00000227232      WASH7P   1  14363  29806   pseudogene\n",
       "2  ENSG00000243485  MIR1302-10   1  29554  31109      lincRNA\n",
       "3  ENSG00000237613     FAM138A   1  34554  36081      lincRNA\n",
       "4  ENSG00000268020      OR4G4P   1  52473  54936   pseudogene"
      ]
     },
     "execution_count": 3,
     "metadata": {},
     "output_type": "execute_result"
    }
   ],
   "source": [
    "genes = pd.read_sql(\"gene\", pyensembl, columns=[\"gene_id\", \"gene_name\", \"seqname\", \"start\", \"end\", \"gene_biotype\"])\n",
    "\n",
    "genes = genes.replace(r'^\\s*$', np.nan, regex=True)\n",
    "genes = genes.infer_objects(copy=False)\n",
    "\n",
    "genes.rename(columns={\"seqname\": \"chr\"}, inplace=True)\n",
    "\n",
    "genes.head()\n"
   ]
  },
  {
   "cell_type": "code",
   "execution_count": 4,
   "metadata": {},
   "outputs": [
    {
     "name": "stdout",
     "output_type": "stream",
     "text": [
      "dropped 5941 genes from patches\n"
     ]
    }
   ],
   "source": [
    "expected_chroms = [str(i) for i in range(1, 23)] + ['X', 'Y']\n",
    "len_before = len(genes)\n",
    "len_expected_chroms = len(expected_chroms)\n",
    "# drop patch chromosomes\n",
    "genes = genes[genes.chr.isin(expected_chroms)]\n",
    "\n",
    "print(f\"dropped {len_before - len(genes)} genes from patches\")"
   ]
  },
  {
   "cell_type": "markdown",
   "metadata": {},
   "source": [
    "# add biomart data"
   ]
  },
  {
   "cell_type": "code",
   "execution_count": 5,
   "metadata": {},
   "outputs": [],
   "source": [
    "e75 = pd.read_csv(\"data/biomart/ensembl75_g37.tsv\", sep=\"\\t\")\n",
    "colnames = {'Gene stable ID': 'gene_id',\n",
    "            'EntrezGene ID': 'entrez_id',\n",
    "            'Gene description': 'gene_description',\n",
    "            'Gene name': 'gene_name',\n",
    "            'Gene type': 'biomart_biotype',\n",
    "            }\n",
    "\n",
    "e75 = e75.rename(columns={\"Ensembl Gene ID\": \"gene_id\"})\n",
    "\n",
    "\n",
    "e112 = pd.read_csv(\"data/biomart/ensembl112_g37.tsv\", sep=\"\\t\")\n",
    "colnames = {'Gene stable ID': 'gene_id',\n",
    "            'NCBI gene (formerly Entrezgene) ID': 'entrez_id',\n",
    "            'Gene description': 'gene_description',\n",
    "            'Gene type': 'biomart_biotype',\n",
    "            }\n",
    "\n",
    "e112 = e112.rename(columns=colnames)"
   ]
  },
  {
   "cell_type": "code",
   "execution_count": 6,
   "metadata": {},
   "outputs": [
    {
     "name": "stdout",
     "output_type": "stream",
     "text": [
      "there are 0 genes in pyensembl75 not in e75\n",
      "there are 6366 genes in e75 not in pyensembl75\n",
      "there are 57736 genes in both\n",
      "######################\n",
      "there are 0 genes in pyensembl75 not in e112\n",
      "there are 5941 genes in e112 not in pyensembl75\n",
      "there are 57736 genes in both\n"
     ]
    }
   ],
   "source": [
    "pyen = set(genes.gene_id.tolist())\n",
    "e75s = set(e75.gene_id.tolist())\n",
    "e112s = set(e112.gene_id.tolist())\n",
    "\n",
    "# compare \n",
    "print(f\"there are {len(pyen - e75s)} genes in pyensembl75 not in e75\")\n",
    "print(f\"there are {len(e75s - pyen)} genes in e75 not in pyensembl75\")\n",
    "print(f\"there are {len(pyen & e75s)} genes in both\")\n",
    "print(\"######################\")\n",
    "print(f\"there are {len(pyen - e112s)} genes in pyensembl75 not in e112\")\n",
    "print(f\"there are {len(e112s - pyen)} genes in e112 not in pyensembl75\")\n",
    "print(f\"there are {len(pyen & e112s)} genes in both\")"
   ]
  },
  {
   "cell_type": "markdown",
   "metadata": {},
   "source": [
    "whole pipeline is done with pyensembl75, therefore i must use biomart export from ensembl 112. They're fully compatible"
   ]
  },
  {
   "cell_type": "code",
   "execution_count": 7,
   "metadata": {},
   "outputs": [
    {
     "data": {
      "text/plain": [
       "entrez_id\n",
       "80864.0        20\n",
       "259215.0       17\n",
       "100169763.0    16\n",
       "554313.0       16\n",
       "8367.0         16\n",
       "               ..\n",
       "149837.0        1\n",
       "200634.0        1\n",
       "6718.0          1\n",
       "29125.0         1\n",
       "100653067.0     1\n",
       "Name: count, Length: 25788, dtype: int64"
      ]
     },
     "execution_count": 7,
     "metadata": {},
     "output_type": "execute_result"
    }
   ],
   "source": [
    "e112.entrez_id.value_counts()"
   ]
  },
  {
   "cell_type": "code",
   "execution_count": 8,
   "metadata": {},
   "outputs": [
    {
     "data": {
      "text/html": [
       "<div>\n",
       "<style scoped>\n",
       "    .dataframe tbody tr th:only-of-type {\n",
       "        vertical-align: middle;\n",
       "    }\n",
       "\n",
       "    .dataframe tbody tr th {\n",
       "        vertical-align: top;\n",
       "    }\n",
       "\n",
       "    .dataframe thead th {\n",
       "        text-align: right;\n",
       "    }\n",
       "</style>\n",
       "<table border=\"1\" class=\"dataframe\">\n",
       "  <thead>\n",
       "    <tr style=\"text-align: right;\">\n",
       "      <th></th>\n",
       "      <th>gene_id</th>\n",
       "      <th>entrez_id</th>\n",
       "      <th>gene_description</th>\n",
       "      <th>biomart_biotype</th>\n",
       "    </tr>\n",
       "  </thead>\n",
       "  <tbody>\n",
       "    <tr>\n",
       "      <th>24600</th>\n",
       "      <td>ENSG00000206329</td>\n",
       "      <td>80864.0</td>\n",
       "      <td>palmitoyl-protein thioesterase 2 [Source:HGNC ...</td>\n",
       "      <td>protein_coding</td>\n",
       "    </tr>\n",
       "    <tr>\n",
       "      <th>25563</th>\n",
       "      <td>ENSG00000254875</td>\n",
       "      <td>80864.0</td>\n",
       "      <td>NaN</td>\n",
       "      <td>protein_coding</td>\n",
       "    </tr>\n",
       "    <tr>\n",
       "      <th>26024</th>\n",
       "      <td>ENSG00000244444</td>\n",
       "      <td>80864.0</td>\n",
       "      <td>EGF-like-domain, multiple 8 [Source:HGNC Symbo...</td>\n",
       "      <td>protein_coding</td>\n",
       "    </tr>\n",
       "    <tr>\n",
       "      <th>30170</th>\n",
       "      <td>ENSG00000206256</td>\n",
       "      <td>80864.0</td>\n",
       "      <td>palmitoyl-protein thioesterase 2 [Source:HGNC ...</td>\n",
       "      <td>protein_coding</td>\n",
       "    </tr>\n",
       "    <tr>\n",
       "      <th>33847</th>\n",
       "      <td>ENSG00000242038</td>\n",
       "      <td>80864.0</td>\n",
       "      <td>EGF-like-domain, multiple 8 [Source:HGNC Symbo...</td>\n",
       "      <td>protein_coding</td>\n",
       "    </tr>\n",
       "    <tr>\n",
       "      <th>36844</th>\n",
       "      <td>ENSG00000227600</td>\n",
       "      <td>80864.0</td>\n",
       "      <td>palmitoyl-protein thioesterase 2 [Source:HGNC ...</td>\n",
       "      <td>protein_coding</td>\n",
       "    </tr>\n",
       "    <tr>\n",
       "      <th>37573</th>\n",
       "      <td>ENSG00000239974</td>\n",
       "      <td>80864.0</td>\n",
       "      <td>EGF-like-domain, multiple 8 [Source:HGNC Symbo...</td>\n",
       "      <td>protein_coding</td>\n",
       "    </tr>\n",
       "    <tr>\n",
       "      <th>39416</th>\n",
       "      <td>ENSG00000236649</td>\n",
       "      <td>80864.0</td>\n",
       "      <td>palmitoyl-protein thioesterase 2 [Source:HGNC ...</td>\n",
       "      <td>protein_coding</td>\n",
       "    </tr>\n",
       "    <tr>\n",
       "      <th>39637</th>\n",
       "      <td>ENSG00000240389</td>\n",
       "      <td>80864.0</td>\n",
       "      <td>EGF-like-domain, multiple 8 [Source:HGNC Symbo...</td>\n",
       "      <td>protein_coding</td>\n",
       "    </tr>\n",
       "    <tr>\n",
       "      <th>53506</th>\n",
       "      <td>ENSG00000168452</td>\n",
       "      <td>80864.0</td>\n",
       "      <td>palmitoyl-protein thioesterase 2 [Source:HGNC ...</td>\n",
       "      <td>protein_coding</td>\n",
       "    </tr>\n",
       "    <tr>\n",
       "      <th>53508</th>\n",
       "      <td>ENSG00000168452</td>\n",
       "      <td>80864.0</td>\n",
       "      <td>palmitoyl-protein thioesterase 2 [Source:HGNC ...</td>\n",
       "      <td>protein_coding</td>\n",
       "    </tr>\n",
       "    <tr>\n",
       "      <th>53510</th>\n",
       "      <td>ENSG00000168452</td>\n",
       "      <td>80864.0</td>\n",
       "      <td>palmitoyl-protein thioesterase 2 [Source:HGNC ...</td>\n",
       "      <td>protein_coding</td>\n",
       "    </tr>\n",
       "    <tr>\n",
       "      <th>53663</th>\n",
       "      <td>ENSG00000243897</td>\n",
       "      <td>80864.0</td>\n",
       "      <td>EGF-like-domain, multiple 8 [Source:HGNC Symbo...</td>\n",
       "      <td>protein_coding</td>\n",
       "    </tr>\n",
       "    <tr>\n",
       "      <th>53664</th>\n",
       "      <td>ENSG00000243897</td>\n",
       "      <td>80864.0</td>\n",
       "      <td>EGF-like-domain, multiple 8 [Source:HGNC Symbo...</td>\n",
       "      <td>protein_coding</td>\n",
       "    </tr>\n",
       "    <tr>\n",
       "      <th>53665</th>\n",
       "      <td>ENSG00000243897</td>\n",
       "      <td>80864.0</td>\n",
       "      <td>EGF-like-domain, multiple 8 [Source:HGNC Symbo...</td>\n",
       "      <td>protein_coding</td>\n",
       "    </tr>\n",
       "    <tr>\n",
       "      <th>55606</th>\n",
       "      <td>ENSG00000221988</td>\n",
       "      <td>80864.0</td>\n",
       "      <td>palmitoyl-protein thioesterase 2 [Source:HGNC ...</td>\n",
       "      <td>protein_coding</td>\n",
       "    </tr>\n",
       "    <tr>\n",
       "      <th>56161</th>\n",
       "      <td>ENSG00000241404</td>\n",
       "      <td>80864.0</td>\n",
       "      <td>EGF-like-domain, multiple 8 [Source:HGNC Symbo...</td>\n",
       "      <td>protein_coding</td>\n",
       "    </tr>\n",
       "    <tr>\n",
       "      <th>60857</th>\n",
       "      <td>ENSG00000228116</td>\n",
       "      <td>80864.0</td>\n",
       "      <td>palmitoyl-protein thioesterase 2 [Source:HGNC ...</td>\n",
       "      <td>protein_coding</td>\n",
       "    </tr>\n",
       "    <tr>\n",
       "      <th>61058</th>\n",
       "      <td>ENSG00000231618</td>\n",
       "      <td>80864.0</td>\n",
       "      <td>palmitoyl-protein thioesterase 2 [Source:HGNC ...</td>\n",
       "      <td>protein_coding</td>\n",
       "    </tr>\n",
       "    <tr>\n",
       "      <th>61287</th>\n",
       "      <td>ENSG00000240592</td>\n",
       "      <td>80864.0</td>\n",
       "      <td>EGF-like-domain, multiple 8 [Source:HGNC Symbo...</td>\n",
       "      <td>protein_coding</td>\n",
       "    </tr>\n",
       "  </tbody>\n",
       "</table>\n",
       "</div>"
      ],
      "text/plain": [
       "               gene_id  entrez_id  \\\n",
       "24600  ENSG00000206329    80864.0   \n",
       "25563  ENSG00000254875    80864.0   \n",
       "26024  ENSG00000244444    80864.0   \n",
       "30170  ENSG00000206256    80864.0   \n",
       "33847  ENSG00000242038    80864.0   \n",
       "36844  ENSG00000227600    80864.0   \n",
       "37573  ENSG00000239974    80864.0   \n",
       "39416  ENSG00000236649    80864.0   \n",
       "39637  ENSG00000240389    80864.0   \n",
       "53506  ENSG00000168452    80864.0   \n",
       "53508  ENSG00000168452    80864.0   \n",
       "53510  ENSG00000168452    80864.0   \n",
       "53663  ENSG00000243897    80864.0   \n",
       "53664  ENSG00000243897    80864.0   \n",
       "53665  ENSG00000243897    80864.0   \n",
       "55606  ENSG00000221988    80864.0   \n",
       "56161  ENSG00000241404    80864.0   \n",
       "60857  ENSG00000228116    80864.0   \n",
       "61058  ENSG00000231618    80864.0   \n",
       "61287  ENSG00000240592    80864.0   \n",
       "\n",
       "                                        gene_description biomart_biotype  \n",
       "24600  palmitoyl-protein thioesterase 2 [Source:HGNC ...  protein_coding  \n",
       "25563                                                NaN  protein_coding  \n",
       "26024  EGF-like-domain, multiple 8 [Source:HGNC Symbo...  protein_coding  \n",
       "30170  palmitoyl-protein thioesterase 2 [Source:HGNC ...  protein_coding  \n",
       "33847  EGF-like-domain, multiple 8 [Source:HGNC Symbo...  protein_coding  \n",
       "36844  palmitoyl-protein thioesterase 2 [Source:HGNC ...  protein_coding  \n",
       "37573  EGF-like-domain, multiple 8 [Source:HGNC Symbo...  protein_coding  \n",
       "39416  palmitoyl-protein thioesterase 2 [Source:HGNC ...  protein_coding  \n",
       "39637  EGF-like-domain, multiple 8 [Source:HGNC Symbo...  protein_coding  \n",
       "53506  palmitoyl-protein thioesterase 2 [Source:HGNC ...  protein_coding  \n",
       "53508  palmitoyl-protein thioesterase 2 [Source:HGNC ...  protein_coding  \n",
       "53510  palmitoyl-protein thioesterase 2 [Source:HGNC ...  protein_coding  \n",
       "53663  EGF-like-domain, multiple 8 [Source:HGNC Symbo...  protein_coding  \n",
       "53664  EGF-like-domain, multiple 8 [Source:HGNC Symbo...  protein_coding  \n",
       "53665  EGF-like-domain, multiple 8 [Source:HGNC Symbo...  protein_coding  \n",
       "55606  palmitoyl-protein thioesterase 2 [Source:HGNC ...  protein_coding  \n",
       "56161  EGF-like-domain, multiple 8 [Source:HGNC Symbo...  protein_coding  \n",
       "60857  palmitoyl-protein thioesterase 2 [Source:HGNC ...  protein_coding  \n",
       "61058  palmitoyl-protein thioesterase 2 [Source:HGNC ...  protein_coding  \n",
       "61287  EGF-like-domain, multiple 8 [Source:HGNC Symbo...  protein_coding  "
      ]
     },
     "execution_count": 8,
     "metadata": {},
     "output_type": "execute_result"
    }
   ],
   "source": [
    "e112[e112.entrez_id == 80864.0]"
   ]
  },
  {
   "cell_type": "code",
   "execution_count": 9,
   "metadata": {},
   "outputs": [
    {
     "data": {
      "text/html": [
       "<div>\n",
       "<style scoped>\n",
       "    .dataframe tbody tr th:only-of-type {\n",
       "        vertical-align: middle;\n",
       "    }\n",
       "\n",
       "    .dataframe tbody tr th {\n",
       "        vertical-align: top;\n",
       "    }\n",
       "\n",
       "    .dataframe thead th {\n",
       "        text-align: right;\n",
       "    }\n",
       "</style>\n",
       "<table border=\"1\" class=\"dataframe\">\n",
       "  <thead>\n",
       "    <tr style=\"text-align: right;\">\n",
       "      <th></th>\n",
       "      <th>gene_id</th>\n",
       "      <th>gene_name</th>\n",
       "      <th>chr</th>\n",
       "      <th>start</th>\n",
       "      <th>end</th>\n",
       "      <th>gene_biotype</th>\n",
       "      <th>gene_description</th>\n",
       "    </tr>\n",
       "  </thead>\n",
       "  <tbody>\n",
       "    <tr>\n",
       "      <th>0</th>\n",
       "      <td>ENSG00000223972</td>\n",
       "      <td>DDX11L1</td>\n",
       "      <td>1</td>\n",
       "      <td>11869</td>\n",
       "      <td>14412</td>\n",
       "      <td>pseudogene</td>\n",
       "      <td>DEAD/H (Asp-Glu-Ala-Asp/His) box helicase 11 l...</td>\n",
       "    </tr>\n",
       "    <tr>\n",
       "      <th>1</th>\n",
       "      <td>ENSG00000227232</td>\n",
       "      <td>WASH7P</td>\n",
       "      <td>1</td>\n",
       "      <td>14363</td>\n",
       "      <td>29806</td>\n",
       "      <td>pseudogene</td>\n",
       "      <td>WAS protein family homolog 7 pseudogene [Sourc...</td>\n",
       "    </tr>\n",
       "    <tr>\n",
       "      <th>2</th>\n",
       "      <td>ENSG00000243485</td>\n",
       "      <td>MIR1302-10</td>\n",
       "      <td>1</td>\n",
       "      <td>29554</td>\n",
       "      <td>31109</td>\n",
       "      <td>lincRNA</td>\n",
       "      <td>microRNA 1302-10 [Source:HGNC Symbol;Acc:38233]</td>\n",
       "    </tr>\n",
       "    <tr>\n",
       "      <th>3</th>\n",
       "      <td>ENSG00000237613</td>\n",
       "      <td>FAM138A</td>\n",
       "      <td>1</td>\n",
       "      <td>34554</td>\n",
       "      <td>36081</td>\n",
       "      <td>lincRNA</td>\n",
       "      <td>family with sequence similarity 138, member A ...</td>\n",
       "    </tr>\n",
       "    <tr>\n",
       "      <th>4</th>\n",
       "      <td>ENSG00000268020</td>\n",
       "      <td>OR4G4P</td>\n",
       "      <td>1</td>\n",
       "      <td>52473</td>\n",
       "      <td>54936</td>\n",
       "      <td>pseudogene</td>\n",
       "      <td>olfactory receptor, family 4, subfamily G, mem...</td>\n",
       "    </tr>\n",
       "  </tbody>\n",
       "</table>\n",
       "</div>"
      ],
      "text/plain": [
       "           gene_id   gene_name chr  start    end gene_biotype  \\\n",
       "0  ENSG00000223972     DDX11L1   1  11869  14412   pseudogene   \n",
       "1  ENSG00000227232      WASH7P   1  14363  29806   pseudogene   \n",
       "2  ENSG00000243485  MIR1302-10   1  29554  31109      lincRNA   \n",
       "3  ENSG00000237613     FAM138A   1  34554  36081      lincRNA   \n",
       "4  ENSG00000268020      OR4G4P   1  52473  54936   pseudogene   \n",
       "\n",
       "                                    gene_description  \n",
       "0  DEAD/H (Asp-Glu-Ala-Asp/His) box helicase 11 l...  \n",
       "1  WAS protein family homolog 7 pseudogene [Sourc...  \n",
       "2    microRNA 1302-10 [Source:HGNC Symbol;Acc:38233]  \n",
       "3  family with sequence similarity 138, member A ...  \n",
       "4  olfactory receptor, family 4, subfamily G, mem...  "
      ]
     },
     "execution_count": 9,
     "metadata": {},
     "output_type": "execute_result"
    }
   ],
   "source": [
    "e112_to_merge = e112[[\"gene_id\",\"gene_description\"]].drop_duplicates()\n",
    "df = pd.merge(genes, e112_to_merge, on=\"gene_id\", how=\"left\")\n",
    "\n",
    "df.head()"
   ]
  },
  {
   "cell_type": "code",
   "execution_count": 10,
   "metadata": {},
   "outputs": [
    {
     "data": {
      "text/plain": [
       "gene_id                 0\n",
       "gene_name               0\n",
       "chr                     0\n",
       "start                   0\n",
       "end                     0\n",
       "gene_biotype            0\n",
       "gene_description    21297\n",
       "dtype: int64"
      ]
     },
     "execution_count": 10,
     "metadata": {},
     "output_type": "execute_result"
    }
   ],
   "source": [
    "df.isna().sum()"
   ]
  },
  {
   "cell_type": "code",
   "execution_count": 11,
   "metadata": {},
   "outputs": [],
   "source": [
    "df[\"gene_description\"] = df[\"gene_description\"].fillna(\"no_description\")\n",
    "# df[\"entrez_id\"] = df[\"entrez_id\"].fillna(-1).astype(int)\n"
   ]
  },
  {
   "cell_type": "code",
   "execution_count": 12,
   "metadata": {},
   "outputs": [
    {
     "data": {
      "text/plain": [
       "gene_id             0\n",
       "gene_name           0\n",
       "chr                 0\n",
       "start               0\n",
       "end                 0\n",
       "gene_biotype        0\n",
       "gene_description    0\n",
       "dtype: int64"
      ]
     },
     "execution_count": 12,
     "metadata": {},
     "output_type": "execute_result"
    }
   ],
   "source": [
    "df.isna().sum()"
   ]
  },
  {
   "cell_type": "markdown",
   "metadata": {},
   "source": [
    "# adding oncokb data"
   ]
  },
  {
   "cell_type": "code",
   "execution_count": 13,
   "metadata": {},
   "outputs": [
    {
     "data": {
      "text/html": [
       "<div>\n",
       "<style scoped>\n",
       "    .dataframe tbody tr th:only-of-type {\n",
       "        vertical-align: middle;\n",
       "    }\n",
       "\n",
       "    .dataframe tbody tr th {\n",
       "        vertical-align: top;\n",
       "    }\n",
       "\n",
       "    .dataframe thead th {\n",
       "        text-align: right;\n",
       "    }\n",
       "</style>\n",
       "<table border=\"1\" class=\"dataframe\">\n",
       "  <thead>\n",
       "    <tr style=\"text-align: right;\">\n",
       "      <th></th>\n",
       "      <th>gene_name</th>\n",
       "      <th>gene_id</th>\n",
       "      <th>is_oncogene</th>\n",
       "      <th>is_tumor_suppressor</th>\n",
       "      <th>is_cosmic_tier_1</th>\n",
       "    </tr>\n",
       "  </thead>\n",
       "  <tbody>\n",
       "    <tr>\n",
       "      <th>0</th>\n",
       "      <td>ABL1</td>\n",
       "      <td>ENSG00000097007</td>\n",
       "      <td>True</td>\n",
       "      <td>False</td>\n",
       "      <td>True</td>\n",
       "    </tr>\n",
       "    <tr>\n",
       "      <th>1</th>\n",
       "      <td>AKT1</td>\n",
       "      <td>ENSG00000142208</td>\n",
       "      <td>True</td>\n",
       "      <td>False</td>\n",
       "      <td>True</td>\n",
       "    </tr>\n",
       "    <tr>\n",
       "      <th>2</th>\n",
       "      <td>ALK</td>\n",
       "      <td>ENSG00000171094</td>\n",
       "      <td>True</td>\n",
       "      <td>False</td>\n",
       "      <td>True</td>\n",
       "    </tr>\n",
       "    <tr>\n",
       "      <th>3</th>\n",
       "      <td>AMER1</td>\n",
       "      <td>ENSG00000184675</td>\n",
       "      <td>False</td>\n",
       "      <td>True</td>\n",
       "      <td>True</td>\n",
       "    </tr>\n",
       "    <tr>\n",
       "      <th>4</th>\n",
       "      <td>APC</td>\n",
       "      <td>ENSG00000134982</td>\n",
       "      <td>False</td>\n",
       "      <td>True</td>\n",
       "      <td>True</td>\n",
       "    </tr>\n",
       "  </tbody>\n",
       "</table>\n",
       "</div>"
      ],
      "text/plain": [
       "  gene_name          gene_id  is_oncogene  is_tumor_suppressor  \\\n",
       "0      ABL1  ENSG00000097007         True                False   \n",
       "1      AKT1  ENSG00000142208         True                False   \n",
       "2       ALK  ENSG00000171094         True                False   \n",
       "3     AMER1  ENSG00000184675        False                 True   \n",
       "4       APC  ENSG00000134982        False                 True   \n",
       "\n",
       "   is_cosmic_tier_1  \n",
       "0              True  \n",
       "1              True  \n",
       "2              True  \n",
       "3              True  \n",
       "4              True  "
      ]
     },
     "execution_count": 13,
     "metadata": {},
     "output_type": "execute_result"
    }
   ],
   "source": [
    "kb = pd.read_csv(\"data/oncokb/oncokb.csv\")\n",
    "kb = kb.rename(columns={\"gene_symbol\": \"gene_name\", \"ensembl_gene_id\": \"gene_id\", \"is_oncogene\": \"is_oncogene\", \"is_tumor_suppressor\": \"is_tumor_suppressor\", \"is_cosmic_tier_1\": \"is_cosmic_tier_1\"})\n",
    "\n",
    "# drop columns where all bool values are false\n",
    "cols = [\"is_oncogene\", \"is_tumor_suppressor\", \"is_cosmic_tier_1\"]\n",
    "kb = kb[~(kb[cols] == False).all(axis=1)]\n",
    "\n",
    "kb.head()\n",
    "\n"
   ]
  },
  {
   "cell_type": "markdown",
   "metadata": {},
   "source": [
    "# checking if all gene ids are found in our db"
   ]
  },
  {
   "cell_type": "code",
   "execution_count": 14,
   "metadata": {},
   "outputs": [
    {
     "data": {
      "text/plain": [
       "gene_id\n",
       "True     925\n",
       "False     13\n",
       "Name: count, dtype: int64"
      ]
     },
     "execution_count": 14,
     "metadata": {},
     "output_type": "execute_result"
    }
   ],
   "source": [
    "kb.gene_id.isin(df.gene_id).value_counts()"
   ]
  },
  {
   "cell_type": "code",
   "execution_count": 15,
   "metadata": {},
   "outputs": [
    {
     "data": {
      "text/plain": [
       "146       H3C2\n",
       "238      IKBKE\n",
       "394       CCNQ\n",
       "453     H2AC17\n",
       "697      GTF2I\n",
       "700       H4C9\n",
       "715        IGH\n",
       "716        IGK\n",
       "717        IGL\n",
       "741      MLLT6\n",
       "816       SSX4\n",
       "820      TAF15\n",
       "1005     NCOA4\n",
       "Name: gene_name, dtype: object"
      ]
     },
     "execution_count": 15,
     "metadata": {},
     "output_type": "execute_result"
    }
   ],
   "source": [
    "missing_gene_ids = kb[~kb.gene_id.isin(df.gene_id)].gene_name\n",
    "missing_gene_ids"
   ]
  },
  {
   "cell_type": "code",
   "execution_count": 16,
   "metadata": {},
   "outputs": [
    {
     "data": {
      "text/plain": [
       "4487     IKBKE\n",
       "22142    GTF2I\n",
       "24354     SSX4\n",
       "31690    NCOA4\n",
       "48265    TAF15\n",
       "48365    MLLT6\n",
       "Name: gene_name, dtype: object"
      ]
     },
     "execution_count": 16,
     "metadata": {},
     "output_type": "execute_result"
    }
   ],
   "source": [
    "missing_id_but_found_gene_names = genes[genes.gene_name.isin(missing_gene_ids)].gene_name\n",
    "missing_id_but_found_gene_names"
   ]
  },
  {
   "cell_type": "code",
   "execution_count": 17,
   "metadata": {},
   "outputs": [
    {
     "name": "stdout",
     "output_type": "stream",
     "text": [
      "These genes are missing in the genes table: ['H3C2', 'IGL', 'CCNQ', 'H2AC17', 'H4C9', 'IGK', 'IGH']\n"
     ]
    }
   ],
   "source": [
    "print(f\"These genes are missing in the genes table: {list(set(missing_gene_ids) - set(missing_id_but_found_gene_names))}\")"
   ]
  },
  {
   "cell_type": "markdown",
   "metadata": {},
   "source": [
    "H2AC17 is whole locus\n",
    "\n",
    "H4C9 not found in grch37\n",
    "\n",
    "H3C2 is HIST1H3D in grch37\n",
    "\n",
    "IG's are whole loci with more than one ENSG ids\n",
    "\n",
    "CCNQ is FAM58A in g37\n",
    "\n",
    "note: these are found from g37 ensembl website"
   ]
  },
  {
   "cell_type": "code",
   "execution_count": 18,
   "metadata": {},
   "outputs": [
    {
     "data": {
      "text/html": [
       "<div>\n",
       "<style scoped>\n",
       "    .dataframe tbody tr th:only-of-type {\n",
       "        vertical-align: middle;\n",
       "    }\n",
       "\n",
       "    .dataframe tbody tr th {\n",
       "        vertical-align: top;\n",
       "    }\n",
       "\n",
       "    .dataframe thead th {\n",
       "        text-align: right;\n",
       "    }\n",
       "</style>\n",
       "<table border=\"1\" class=\"dataframe\">\n",
       "  <thead>\n",
       "    <tr style=\"text-align: right;\">\n",
       "      <th></th>\n",
       "      <th>gene_id</th>\n",
       "      <th>gene_name</th>\n",
       "      <th>chr</th>\n",
       "      <th>start</th>\n",
       "      <th>end</th>\n",
       "      <th>gene_biotype</th>\n",
       "      <th>gene_description</th>\n",
       "      <th>is_oncogene</th>\n",
       "      <th>is_tumor_suppressor</th>\n",
       "      <th>is_cosmic_tier_1</th>\n",
       "    </tr>\n",
       "  </thead>\n",
       "  <tbody>\n",
       "    <tr>\n",
       "      <th>0</th>\n",
       "      <td>ENSG00000223972</td>\n",
       "      <td>DDX11L1</td>\n",
       "      <td>1</td>\n",
       "      <td>11869</td>\n",
       "      <td>14412</td>\n",
       "      <td>pseudogene</td>\n",
       "      <td>DEAD/H (Asp-Glu-Ala-Asp/His) box helicase 11 l...</td>\n",
       "      <td>NaN</td>\n",
       "      <td>NaN</td>\n",
       "      <td>NaN</td>\n",
       "    </tr>\n",
       "    <tr>\n",
       "      <th>1</th>\n",
       "      <td>ENSG00000227232</td>\n",
       "      <td>WASH7P</td>\n",
       "      <td>1</td>\n",
       "      <td>14363</td>\n",
       "      <td>29806</td>\n",
       "      <td>pseudogene</td>\n",
       "      <td>WAS protein family homolog 7 pseudogene [Sourc...</td>\n",
       "      <td>NaN</td>\n",
       "      <td>NaN</td>\n",
       "      <td>NaN</td>\n",
       "    </tr>\n",
       "    <tr>\n",
       "      <th>2</th>\n",
       "      <td>ENSG00000243485</td>\n",
       "      <td>MIR1302-10</td>\n",
       "      <td>1</td>\n",
       "      <td>29554</td>\n",
       "      <td>31109</td>\n",
       "      <td>lincRNA</td>\n",
       "      <td>microRNA 1302-10 [Source:HGNC Symbol;Acc:38233]</td>\n",
       "      <td>NaN</td>\n",
       "      <td>NaN</td>\n",
       "      <td>NaN</td>\n",
       "    </tr>\n",
       "    <tr>\n",
       "      <th>3</th>\n",
       "      <td>ENSG00000237613</td>\n",
       "      <td>FAM138A</td>\n",
       "      <td>1</td>\n",
       "      <td>34554</td>\n",
       "      <td>36081</td>\n",
       "      <td>lincRNA</td>\n",
       "      <td>family with sequence similarity 138, member A ...</td>\n",
       "      <td>NaN</td>\n",
       "      <td>NaN</td>\n",
       "      <td>NaN</td>\n",
       "    </tr>\n",
       "    <tr>\n",
       "      <th>4</th>\n",
       "      <td>ENSG00000268020</td>\n",
       "      <td>OR4G4P</td>\n",
       "      <td>1</td>\n",
       "      <td>52473</td>\n",
       "      <td>54936</td>\n",
       "      <td>pseudogene</td>\n",
       "      <td>olfactory receptor, family 4, subfamily G, mem...</td>\n",
       "      <td>NaN</td>\n",
       "      <td>NaN</td>\n",
       "      <td>NaN</td>\n",
       "    </tr>\n",
       "  </tbody>\n",
       "</table>\n",
       "</div>"
      ],
      "text/plain": [
       "           gene_id   gene_name chr  start    end gene_biotype  \\\n",
       "0  ENSG00000223972     DDX11L1   1  11869  14412   pseudogene   \n",
       "1  ENSG00000227232      WASH7P   1  14363  29806   pseudogene   \n",
       "2  ENSG00000243485  MIR1302-10   1  29554  31109      lincRNA   \n",
       "3  ENSG00000237613     FAM138A   1  34554  36081      lincRNA   \n",
       "4  ENSG00000268020      OR4G4P   1  52473  54936   pseudogene   \n",
       "\n",
       "                                    gene_description is_oncogene  \\\n",
       "0  DEAD/H (Asp-Glu-Ala-Asp/His) box helicase 11 l...         NaN   \n",
       "1  WAS protein family homolog 7 pseudogene [Sourc...         NaN   \n",
       "2    microRNA 1302-10 [Source:HGNC Symbol;Acc:38233]         NaN   \n",
       "3  family with sequence similarity 138, member A ...         NaN   \n",
       "4  olfactory receptor, family 4, subfamily G, mem...         NaN   \n",
       "\n",
       "  is_tumor_suppressor is_cosmic_tier_1  \n",
       "0                 NaN              NaN  \n",
       "1                 NaN              NaN  \n",
       "2                 NaN              NaN  \n",
       "3                 NaN              NaN  \n",
       "4                 NaN              NaN  "
      ]
     },
     "execution_count": 18,
     "metadata": {},
     "output_type": "execute_result"
    }
   ],
   "source": [
    "temp_df = kb.drop(columns=[\"gene_name\"])\n",
    "df = pd.merge(df, temp_df, on=\"gene_id\", how=\"left\")\n",
    "df.head()"
   ]
  },
  {
   "cell_type": "markdown",
   "metadata": {},
   "source": [
    "# adding details of genes above"
   ]
  },
  {
   "cell_type": "code",
   "execution_count": 19,
   "metadata": {},
   "outputs": [
    {
     "data": {
      "text/html": [
       "<div>\n",
       "<style scoped>\n",
       "    .dataframe tbody tr th:only-of-type {\n",
       "        vertical-align: middle;\n",
       "    }\n",
       "\n",
       "    .dataframe tbody tr th {\n",
       "        vertical-align: top;\n",
       "    }\n",
       "\n",
       "    .dataframe thead th {\n",
       "        text-align: right;\n",
       "    }\n",
       "</style>\n",
       "<table border=\"1\" class=\"dataframe\">\n",
       "  <thead>\n",
       "    <tr style=\"text-align: right;\">\n",
       "      <th></th>\n",
       "      <th>gene_name</th>\n",
       "      <th>gene_id</th>\n",
       "      <th>is_oncogene</th>\n",
       "      <th>is_tumor_suppressor</th>\n",
       "      <th>is_cosmic_tier_1</th>\n",
       "    </tr>\n",
       "  </thead>\n",
       "  <tbody>\n",
       "    <tr>\n",
       "      <th>238</th>\n",
       "      <td>IKBKE</td>\n",
       "      <td>ENSG00000263528</td>\n",
       "      <td>True</td>\n",
       "      <td>False</td>\n",
       "      <td>False</td>\n",
       "    </tr>\n",
       "    <tr>\n",
       "      <th>697</th>\n",
       "      <td>GTF2I</td>\n",
       "      <td>ENSG00000263001</td>\n",
       "      <td>True</td>\n",
       "      <td>False</td>\n",
       "      <td>False</td>\n",
       "    </tr>\n",
       "    <tr>\n",
       "      <th>741</th>\n",
       "      <td>MLLT6</td>\n",
       "      <td>ENSG00000275023</td>\n",
       "      <td>False</td>\n",
       "      <td>False</td>\n",
       "      <td>True</td>\n",
       "    </tr>\n",
       "    <tr>\n",
       "      <th>816</th>\n",
       "      <td>SSX4</td>\n",
       "      <td>ENSG00000268009</td>\n",
       "      <td>False</td>\n",
       "      <td>False</td>\n",
       "      <td>True</td>\n",
       "    </tr>\n",
       "    <tr>\n",
       "      <th>820</th>\n",
       "      <td>TAF15</td>\n",
       "      <td>ENSG00000270647</td>\n",
       "      <td>False</td>\n",
       "      <td>False</td>\n",
       "      <td>True</td>\n",
       "    </tr>\n",
       "    <tr>\n",
       "      <th>1005</th>\n",
       "      <td>NCOA4</td>\n",
       "      <td>ENSG00000266412</td>\n",
       "      <td>False</td>\n",
       "      <td>False</td>\n",
       "      <td>True</td>\n",
       "    </tr>\n",
       "  </tbody>\n",
       "</table>\n",
       "</div>"
      ],
      "text/plain": [
       "     gene_name          gene_id  is_oncogene  is_tumor_suppressor  \\\n",
       "238      IKBKE  ENSG00000263528         True                False   \n",
       "697      GTF2I  ENSG00000263001         True                False   \n",
       "741      MLLT6  ENSG00000275023        False                False   \n",
       "816       SSX4  ENSG00000268009        False                False   \n",
       "820      TAF15  ENSG00000270647        False                False   \n",
       "1005     NCOA4  ENSG00000266412        False                False   \n",
       "\n",
       "      is_cosmic_tier_1  \n",
       "238              False  \n",
       "697              False  \n",
       "741               True  \n",
       "816               True  \n",
       "820               True  \n",
       "1005              True  "
      ]
     },
     "execution_count": 19,
     "metadata": {},
     "output_type": "execute_result"
    }
   ],
   "source": [
    "kb[kb.gene_name.isin(missing_id_but_found_gene_names)]\n"
   ]
  },
  {
   "cell_type": "code",
   "execution_count": 20,
   "metadata": {},
   "outputs": [
    {
     "data": {
      "text/html": [
       "<div>\n",
       "<style scoped>\n",
       "    .dataframe tbody tr th:only-of-type {\n",
       "        vertical-align: middle;\n",
       "    }\n",
       "\n",
       "    .dataframe tbody tr th {\n",
       "        vertical-align: top;\n",
       "    }\n",
       "\n",
       "    .dataframe thead th {\n",
       "        text-align: right;\n",
       "    }\n",
       "</style>\n",
       "<table border=\"1\" class=\"dataframe\">\n",
       "  <thead>\n",
       "    <tr style=\"text-align: right;\">\n",
       "      <th></th>\n",
       "      <th>gene_id</th>\n",
       "      <th>gene_name</th>\n",
       "      <th>chr</th>\n",
       "      <th>start</th>\n",
       "      <th>end</th>\n",
       "      <th>gene_biotype</th>\n",
       "      <th>gene_description</th>\n",
       "      <th>is_oncogene</th>\n",
       "      <th>is_tumor_suppressor</th>\n",
       "      <th>is_cosmic_tier_1</th>\n",
       "    </tr>\n",
       "  </thead>\n",
       "  <tbody>\n",
       "    <tr>\n",
       "      <th>4487</th>\n",
       "      <td>ENSG00000143466</td>\n",
       "      <td>IKBKE</td>\n",
       "      <td>1</td>\n",
       "      <td>206643791</td>\n",
       "      <td>206670223</td>\n",
       "      <td>protein_coding</td>\n",
       "      <td>inhibitor of kappa light polypeptide gene enha...</td>\n",
       "      <td>NaN</td>\n",
       "      <td>NaN</td>\n",
       "      <td>NaN</td>\n",
       "    </tr>\n",
       "    <tr>\n",
       "      <th>22142</th>\n",
       "      <td>ENSG00000077809</td>\n",
       "      <td>GTF2I</td>\n",
       "      <td>7</td>\n",
       "      <td>74071994</td>\n",
       "      <td>74175026</td>\n",
       "      <td>protein_coding</td>\n",
       "      <td>general transcription factor IIi [Source:HGNC ...</td>\n",
       "      <td>NaN</td>\n",
       "      <td>NaN</td>\n",
       "      <td>NaN</td>\n",
       "    </tr>\n",
       "    <tr>\n",
       "      <th>24354</th>\n",
       "      <td>ENSG00000204645</td>\n",
       "      <td>SSX4</td>\n",
       "      <td>X</td>\n",
       "      <td>48242863</td>\n",
       "      <td>48252785</td>\n",
       "      <td>protein_coding</td>\n",
       "      <td>synovial sarcoma, X breakpoint 4 [Source:HGNC ...</td>\n",
       "      <td>NaN</td>\n",
       "      <td>NaN</td>\n",
       "      <td>NaN</td>\n",
       "    </tr>\n",
       "    <tr>\n",
       "      <th>31690</th>\n",
       "      <td>ENSG00000138293</td>\n",
       "      <td>NCOA4</td>\n",
       "      <td>10</td>\n",
       "      <td>51565108</td>\n",
       "      <td>51590734</td>\n",
       "      <td>protein_coding</td>\n",
       "      <td>nuclear receptor coactivator 4 [Source:HGNC Sy...</td>\n",
       "      <td>NaN</td>\n",
       "      <td>NaN</td>\n",
       "      <td>NaN</td>\n",
       "    </tr>\n",
       "    <tr>\n",
       "      <th>48265</th>\n",
       "      <td>ENSG00000172660</td>\n",
       "      <td>TAF15</td>\n",
       "      <td>17</td>\n",
       "      <td>34136459</td>\n",
       "      <td>34191619</td>\n",
       "      <td>protein_coding</td>\n",
       "      <td>TAF15 RNA polymerase II, TATA box binding prot...</td>\n",
       "      <td>NaN</td>\n",
       "      <td>NaN</td>\n",
       "      <td>NaN</td>\n",
       "    </tr>\n",
       "    <tr>\n",
       "      <th>48365</th>\n",
       "      <td>ENSG00000108292</td>\n",
       "      <td>MLLT6</td>\n",
       "      <td>17</td>\n",
       "      <td>36861795</td>\n",
       "      <td>36886056</td>\n",
       "      <td>protein_coding</td>\n",
       "      <td>myeloid/lymphoid or mixed-lineage leukemia (tr...</td>\n",
       "      <td>NaN</td>\n",
       "      <td>NaN</td>\n",
       "      <td>NaN</td>\n",
       "    </tr>\n",
       "  </tbody>\n",
       "</table>\n",
       "</div>"
      ],
      "text/plain": [
       "               gene_id gene_name chr      start        end    gene_biotype  \\\n",
       "4487   ENSG00000143466     IKBKE   1  206643791  206670223  protein_coding   \n",
       "22142  ENSG00000077809     GTF2I   7   74071994   74175026  protein_coding   \n",
       "24354  ENSG00000204645      SSX4   X   48242863   48252785  protein_coding   \n",
       "31690  ENSG00000138293     NCOA4  10   51565108   51590734  protein_coding   \n",
       "48265  ENSG00000172660     TAF15  17   34136459   34191619  protein_coding   \n",
       "48365  ENSG00000108292     MLLT6  17   36861795   36886056  protein_coding   \n",
       "\n",
       "                                        gene_description is_oncogene  \\\n",
       "4487   inhibitor of kappa light polypeptide gene enha...         NaN   \n",
       "22142  general transcription factor IIi [Source:HGNC ...         NaN   \n",
       "24354  synovial sarcoma, X breakpoint 4 [Source:HGNC ...         NaN   \n",
       "31690  nuclear receptor coactivator 4 [Source:HGNC Sy...         NaN   \n",
       "48265  TAF15 RNA polymerase II, TATA box binding prot...         NaN   \n",
       "48365  myeloid/lymphoid or mixed-lineage leukemia (tr...         NaN   \n",
       "\n",
       "      is_tumor_suppressor is_cosmic_tier_1  \n",
       "4487                  NaN              NaN  \n",
       "22142                 NaN              NaN  \n",
       "24354                 NaN              NaN  \n",
       "31690                 NaN              NaN  \n",
       "48265                 NaN              NaN  \n",
       "48365                 NaN              NaN  "
      ]
     },
     "execution_count": 20,
     "metadata": {},
     "output_type": "execute_result"
    }
   ],
   "source": [
    "df[df.gene_name.isin(missing_id_but_found_gene_names)]"
   ]
  },
  {
   "cell_type": "code",
   "execution_count": 21,
   "metadata": {},
   "outputs": [],
   "source": [
    "df.loc[df.gene_name == 'IKBKE', 'is_oncogene'] = True\n",
    "df.loc[df.gene_name == 'GTF2I', 'is_oncogene'] = True\n",
    "df.loc[df.gene_name == 'MLLT6', 'is_cosmic_tier_1'] = True\n",
    "df.loc[df.gene_name == 'SSX4', 'is_cosmic_tier_1'] = True\n",
    "df.loc[df.gene_name == 'TAF15', 'is_cosmic_tier_1'] = True\n",
    "df.loc[df.gene_name == 'NCOA4', 'is_cosmic_tier_1'] = True"
   ]
  },
  {
   "cell_type": "code",
   "execution_count": 22,
   "metadata": {},
   "outputs": [
    {
     "data": {
      "text/html": [
       "<div>\n",
       "<style scoped>\n",
       "    .dataframe tbody tr th:only-of-type {\n",
       "        vertical-align: middle;\n",
       "    }\n",
       "\n",
       "    .dataframe tbody tr th {\n",
       "        vertical-align: top;\n",
       "    }\n",
       "\n",
       "    .dataframe thead th {\n",
       "        text-align: right;\n",
       "    }\n",
       "</style>\n",
       "<table border=\"1\" class=\"dataframe\">\n",
       "  <thead>\n",
       "    <tr style=\"text-align: right;\">\n",
       "      <th></th>\n",
       "      <th>gene_name</th>\n",
       "      <th>gene_id</th>\n",
       "      <th>is_oncogene</th>\n",
       "      <th>is_tumor_suppressor</th>\n",
       "      <th>is_cosmic_tier_1</th>\n",
       "    </tr>\n",
       "  </thead>\n",
       "  <tbody>\n",
       "    <tr>\n",
       "      <th>146</th>\n",
       "      <td>H3C2</td>\n",
       "      <td>ENSG00000286522</td>\n",
       "      <td>False</td>\n",
       "      <td>False</td>\n",
       "      <td>True</td>\n",
       "    </tr>\n",
       "    <tr>\n",
       "      <th>394</th>\n",
       "      <td>CCNQ</td>\n",
       "      <td>ENSG00000262919</td>\n",
       "      <td>False</td>\n",
       "      <td>True</td>\n",
       "      <td>False</td>\n",
       "    </tr>\n",
       "  </tbody>\n",
       "</table>\n",
       "</div>"
      ],
      "text/plain": [
       "    gene_name          gene_id  is_oncogene  is_tumor_suppressor  \\\n",
       "146      H3C2  ENSG00000286522        False                False   \n",
       "394      CCNQ  ENSG00000262919        False                 True   \n",
       "\n",
       "     is_cosmic_tier_1  \n",
       "146              True  \n",
       "394             False  "
      ]
     },
     "execution_count": 22,
     "metadata": {},
     "output_type": "execute_result"
    }
   ],
   "source": [
    "kb[kb.gene_name.isin(['CCNQ',\"H3C2\"])]"
   ]
  },
  {
   "cell_type": "code",
   "execution_count": 23,
   "metadata": {},
   "outputs": [],
   "source": [
    "df.loc[df.gene_name == 'HIST1H3D', 'is_cosmic_tier_1'] = True\n",
    "df.loc[df.gene_name == 'FAM58A', 'is_tumor_suppressor'] = True\n"
   ]
  },
  {
   "cell_type": "markdown",
   "metadata": {},
   "source": [
    "# checking NA"
   ]
  },
  {
   "cell_type": "code",
   "execution_count": 24,
   "metadata": {},
   "outputs": [
    {
     "data": {
      "text/plain": [
       "gene_id                    0\n",
       "gene_name                  0\n",
       "chr                        0\n",
       "start                      0\n",
       "end                        0\n",
       "gene_biotype               0\n",
       "gene_description           0\n",
       "is_oncogene            56809\n",
       "is_tumor_suppressor    56810\n",
       "is_cosmic_tier_1       56806\n",
       "dtype: int64"
      ]
     },
     "execution_count": 24,
     "metadata": {},
     "output_type": "execute_result"
    }
   ],
   "source": [
    "df.isna().sum()"
   ]
  },
  {
   "cell_type": "code",
   "execution_count": 25,
   "metadata": {},
   "outputs": [
    {
     "name": "stderr",
     "output_type": "stream",
     "text": [
      "/tmp/ipykernel_29111/809247794.py:1: FutureWarning: Downcasting object dtype arrays on .fillna, .ffill, .bfill is deprecated and will change in a future version. Call result.infer_objects(copy=False) instead. To opt-in to the future behavior, set `pd.set_option('future.no_silent_downcasting', True)`\n",
      "  df.fillna(False, inplace=True)\n"
     ]
    },
    {
     "data": {
      "text/html": [
       "<div>\n",
       "<style scoped>\n",
       "    .dataframe tbody tr th:only-of-type {\n",
       "        vertical-align: middle;\n",
       "    }\n",
       "\n",
       "    .dataframe tbody tr th {\n",
       "        vertical-align: top;\n",
       "    }\n",
       "\n",
       "    .dataframe thead th {\n",
       "        text-align: right;\n",
       "    }\n",
       "</style>\n",
       "<table border=\"1\" class=\"dataframe\">\n",
       "  <thead>\n",
       "    <tr style=\"text-align: right;\">\n",
       "      <th></th>\n",
       "      <th>gene_id</th>\n",
       "      <th>gene_name</th>\n",
       "      <th>chr</th>\n",
       "      <th>start</th>\n",
       "      <th>end</th>\n",
       "      <th>gene_biotype</th>\n",
       "      <th>gene_description</th>\n",
       "      <th>is_oncogene</th>\n",
       "      <th>is_tumor_suppressor</th>\n",
       "      <th>is_cosmic_tier_1</th>\n",
       "    </tr>\n",
       "  </thead>\n",
       "  <tbody>\n",
       "    <tr>\n",
       "      <th>0</th>\n",
       "      <td>ENSG00000223972</td>\n",
       "      <td>DDX11L1</td>\n",
       "      <td>1</td>\n",
       "      <td>11869</td>\n",
       "      <td>14412</td>\n",
       "      <td>pseudogene</td>\n",
       "      <td>DEAD/H (Asp-Glu-Ala-Asp/His) box helicase 11 l...</td>\n",
       "      <td>False</td>\n",
       "      <td>False</td>\n",
       "      <td>False</td>\n",
       "    </tr>\n",
       "    <tr>\n",
       "      <th>1</th>\n",
       "      <td>ENSG00000227232</td>\n",
       "      <td>WASH7P</td>\n",
       "      <td>1</td>\n",
       "      <td>14363</td>\n",
       "      <td>29806</td>\n",
       "      <td>pseudogene</td>\n",
       "      <td>WAS protein family homolog 7 pseudogene [Sourc...</td>\n",
       "      <td>False</td>\n",
       "      <td>False</td>\n",
       "      <td>False</td>\n",
       "    </tr>\n",
       "    <tr>\n",
       "      <th>2</th>\n",
       "      <td>ENSG00000243485</td>\n",
       "      <td>MIR1302-10</td>\n",
       "      <td>1</td>\n",
       "      <td>29554</td>\n",
       "      <td>31109</td>\n",
       "      <td>lincRNA</td>\n",
       "      <td>microRNA 1302-10 [Source:HGNC Symbol;Acc:38233]</td>\n",
       "      <td>False</td>\n",
       "      <td>False</td>\n",
       "      <td>False</td>\n",
       "    </tr>\n",
       "    <tr>\n",
       "      <th>3</th>\n",
       "      <td>ENSG00000237613</td>\n",
       "      <td>FAM138A</td>\n",
       "      <td>1</td>\n",
       "      <td>34554</td>\n",
       "      <td>36081</td>\n",
       "      <td>lincRNA</td>\n",
       "      <td>family with sequence similarity 138, member A ...</td>\n",
       "      <td>False</td>\n",
       "      <td>False</td>\n",
       "      <td>False</td>\n",
       "    </tr>\n",
       "    <tr>\n",
       "      <th>4</th>\n",
       "      <td>ENSG00000268020</td>\n",
       "      <td>OR4G4P</td>\n",
       "      <td>1</td>\n",
       "      <td>52473</td>\n",
       "      <td>54936</td>\n",
       "      <td>pseudogene</td>\n",
       "      <td>olfactory receptor, family 4, subfamily G, mem...</td>\n",
       "      <td>False</td>\n",
       "      <td>False</td>\n",
       "      <td>False</td>\n",
       "    </tr>\n",
       "  </tbody>\n",
       "</table>\n",
       "</div>"
      ],
      "text/plain": [
       "           gene_id   gene_name chr  start    end gene_biotype  \\\n",
       "0  ENSG00000223972     DDX11L1   1  11869  14412   pseudogene   \n",
       "1  ENSG00000227232      WASH7P   1  14363  29806   pseudogene   \n",
       "2  ENSG00000243485  MIR1302-10   1  29554  31109      lincRNA   \n",
       "3  ENSG00000237613     FAM138A   1  34554  36081      lincRNA   \n",
       "4  ENSG00000268020      OR4G4P   1  52473  54936   pseudogene   \n",
       "\n",
       "                                    gene_description  is_oncogene  \\\n",
       "0  DEAD/H (Asp-Glu-Ala-Asp/His) box helicase 11 l...        False   \n",
       "1  WAS protein family homolog 7 pseudogene [Sourc...        False   \n",
       "2    microRNA 1302-10 [Source:HGNC Symbol;Acc:38233]        False   \n",
       "3  family with sequence similarity 138, member A ...        False   \n",
       "4  olfactory receptor, family 4, subfamily G, mem...        False   \n",
       "\n",
       "   is_tumor_suppressor  is_cosmic_tier_1  \n",
       "0                False             False  \n",
       "1                False             False  \n",
       "2                False             False  \n",
       "3                False             False  \n",
       "4                False             False  "
      ]
     },
     "execution_count": 25,
     "metadata": {},
     "output_type": "execute_result"
    }
   ],
   "source": [
    "df.fillna(False, inplace=True)\n",
    "df.head()"
   ]
  },
  {
   "cell_type": "markdown",
   "metadata": {},
   "source": [
    "# editing is_cosmic_tier_1 column"
   ]
  },
  {
   "cell_type": "markdown",
   "metadata": {},
   "source": [
    "is_cosmic_tier_1 column indicates if genes are listed in cosmic tier 1 genes.\n",
    "\n",
    "COSMIC tier 1 genes include oncogenes, tumor suppressors and fusion genes.\n",
    "\n",
    "Our data has oncogene and tsupp data but not fusion data.\n",
    "\n",
    "Therefore I'll derive is_fusion column from genes that are in tier 1 but neither oncogene nor tsupp.\n",
    "\n",
    "Then I'll drop tier 1 column because it will be irrelevant."
   ]
  },
  {
   "cell_type": "code",
   "execution_count": 26,
   "metadata": {},
   "outputs": [],
   "source": [
    "df[\"is_fusion\"] = ~df.is_oncogene & ~df.is_tumor_suppressor & df.is_cosmic_tier_1\n",
    "df.drop(columns=(\"is_cosmic_tier_1\"), inplace=True)"
   ]
  },
  {
   "cell_type": "markdown",
   "metadata": {},
   "source": [
    "# adding intogen data"
   ]
  },
  {
   "cell_type": "code",
   "execution_count": 28,
   "metadata": {},
   "outputs": [
    {
     "data": {
      "text/html": [
       "<div>\n",
       "<style scoped>\n",
       "    .dataframe tbody tr th:only-of-type {\n",
       "        vertical-align: middle;\n",
       "    }\n",
       "\n",
       "    .dataframe tbody tr th {\n",
       "        vertical-align: top;\n",
       "    }\n",
       "\n",
       "    .dataframe thead th {\n",
       "        text-align: right;\n",
       "    }\n",
       "</style>\n",
       "<table border=\"1\" class=\"dataframe\">\n",
       "  <thead>\n",
       "    <tr style=\"text-align: right;\">\n",
       "      <th></th>\n",
       "      <th>gene_name</th>\n",
       "      <th>is_driver</th>\n",
       "    </tr>\n",
       "  </thead>\n",
       "  <tbody>\n",
       "    <tr>\n",
       "      <th>0</th>\n",
       "      <td>ACVR1</td>\n",
       "      <td>True</td>\n",
       "    </tr>\n",
       "    <tr>\n",
       "      <th>1</th>\n",
       "      <td>ACVR2A</td>\n",
       "      <td>True</td>\n",
       "    </tr>\n",
       "    <tr>\n",
       "      <th>2</th>\n",
       "      <td>ARAF</td>\n",
       "      <td>True</td>\n",
       "    </tr>\n",
       "    <tr>\n",
       "      <th>3</th>\n",
       "      <td>ASXL2</td>\n",
       "      <td>True</td>\n",
       "    </tr>\n",
       "    <tr>\n",
       "      <th>4</th>\n",
       "      <td>BAP1</td>\n",
       "      <td>True</td>\n",
       "    </tr>\n",
       "  </tbody>\n",
       "</table>\n",
       "</div>"
      ],
      "text/plain": [
       "  gene_name  is_driver\n",
       "0     ACVR1       True\n",
       "1    ACVR2A       True\n",
       "2      ARAF       True\n",
       "3     ASXL2       True\n",
       "4      BAP1       True"
      ]
     },
     "execution_count": 28,
     "metadata": {},
     "output_type": "execute_result"
    }
   ],
   "source": [
    "into = pd.read_json(\"data/intogen/driver_genes.json\")\n",
    "\n",
    "into.head()"
   ]
  },
  {
   "cell_type": "code",
   "execution_count": 29,
   "metadata": {},
   "outputs": [
    {
     "data": {
      "text/plain": [
       "gene_name\n",
       "True     86\n",
       "False     1\n",
       "Name: count, dtype: int64"
      ]
     },
     "execution_count": 29,
     "metadata": {},
     "output_type": "execute_result"
    }
   ],
   "source": [
    "into.gene_name.isin(df.gene_name).value_counts()"
   ]
  },
  {
   "cell_type": "code",
   "execution_count": 30,
   "metadata": {},
   "outputs": [
    {
     "data": {
      "text/plain": [
       "78    TENT5C\n",
       "Name: gene_name, dtype: object"
      ]
     },
     "execution_count": 30,
     "metadata": {},
     "output_type": "execute_result"
    }
   ],
   "source": [
    "into[~into.gene_name.isin(df.gene_name)].gene_name"
   ]
  },
  {
   "cell_type": "markdown",
   "metadata": {},
   "source": [
    "FAM46C is the grch37 name of TENT5C\n",
    "\n",
    "source: https://www.ensembl.org/Homo_sapiens/Gene/Summary?g=ENSG00000183508;r=1:117606048-117628389;t=ENST00000369448"
   ]
  },
  {
   "cell_type": "code",
   "execution_count": 31,
   "metadata": {},
   "outputs": [],
   "source": [
    "df = pd.merge(df, into, on=\"gene_name\", how=\"left\")"
   ]
  },
  {
   "cell_type": "code",
   "execution_count": 32,
   "metadata": {},
   "outputs": [],
   "source": [
    "df.loc[df.gene_name == \"FAM46C\", \"is_driver\"] = True"
   ]
  },
  {
   "cell_type": "code",
   "execution_count": 33,
   "metadata": {},
   "outputs": [
    {
     "name": "stderr",
     "output_type": "stream",
     "text": [
      "/tmp/ipykernel_29111/2844565991.py:1: FutureWarning: Downcasting object dtype arrays on .fillna, .ffill, .bfill is deprecated and will change in a future version. Call result.infer_objects(copy=False) instead. To opt-in to the future behavior, set `pd.set_option('future.no_silent_downcasting', True)`\n",
      "  df[\"is_driver\"] = df[\"is_driver\"].fillna(False)\n"
     ]
    }
   ],
   "source": [
    "df[\"is_driver\"] = df[\"is_driver\"].fillna(False)"
   ]
  },
  {
   "cell_type": "code",
   "execution_count": 34,
   "metadata": {},
   "outputs": [
    {
     "data": {
      "text/plain": [
       "gene_id                0\n",
       "gene_name              0\n",
       "chr                    0\n",
       "start                  0\n",
       "end                    0\n",
       "gene_biotype           0\n",
       "gene_description       0\n",
       "is_oncogene            0\n",
       "is_tumor_suppressor    0\n",
       "is_fusion              0\n",
       "is_driver              0\n",
       "dtype: int64"
      ]
     },
     "execution_count": 34,
     "metadata": {},
     "output_type": "execute_result"
    }
   ],
   "source": [
    "df.isna().sum()"
   ]
  },
  {
   "cell_type": "markdown",
   "metadata": {},
   "source": [
    "# save to db"
   ]
  },
  {
   "cell_type": "code",
   "execution_count": 35,
   "metadata": {},
   "outputs": [
    {
     "data": {
      "text/plain": [
       "57736"
      ]
     },
     "execution_count": 35,
     "metadata": {},
     "output_type": "execute_result"
    }
   ],
   "source": [
    "from sqlalchemy import create_engine\n",
    "\n",
    "# db engine\n",
    "engine = create_engine('sqlite:///data/db/mirscribe.db')\n",
    "\n",
    "df.to_sql(name=\"genes\", con=engine, if_exists=\"replace\", index=False)"
   ]
  }
 ],
 "metadata": {
  "kernelspec": {
   "display_name": "mirscribe-vcf-8VJm4tPg-py3.10",
   "language": "python",
   "name": "python3"
  },
  "language_info": {
   "codemirror_mode": {
    "name": "ipython",
    "version": 3
   },
   "file_extension": ".py",
   "mimetype": "text/x-python",
   "name": "python",
   "nbconvert_exporter": "python",
   "pygments_lexer": "ipython3",
   "version": "3.10.12"
  }
 },
 "nbformat": 4,
 "nbformat_minor": 2
}
