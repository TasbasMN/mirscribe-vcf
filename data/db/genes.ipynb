{
 "cells": [
  {
   "cell_type": "code",
   "execution_count": 2,
   "metadata": {},
   "outputs": [
    {
     "name": "stdout",
     "output_type": "stream",
     "text": [
      "/home/nazif/thesis/mirscribe-vcf\n"
     ]
    },
    {
     "name": "stderr",
     "output_type": "stream",
     "text": [
      "/home/nazif/.cache/pypoetry/virtualenvs/mirscribe-vcf-8VJm4tPg-py3.10/lib/python3.10/site-packages/IPython/core/magics/osm.py:417: UserWarning: This is now an optional IPython functionality, setting dhist requires you to install the `pickleshare` library.\n",
      "  self.shell.db['dhist'] = compress_dhist(dhist)[-100:]\n"
     ]
    }
   ],
   "source": [
    "cd ../.."
   ]
  },
  {
   "cell_type": "code",
   "execution_count": 3,
   "metadata": {},
   "outputs": [],
   "source": [
    "from sqlalchemy import create_engine\n",
    "import pandas as pd\n",
    "import numpy as np\n",
    "# db engine\n",
    "engine = create_engine('sqlite:///data/db/mirscribe.db')\n",
    "pd.set_option('future.no_silent_downcasting', True)\n",
    "\n",
    "# pyensembl db engine\n",
    "pyensembl = create_engine('sqlite:////home/nazif/.cache/pyensembl/GRCh37/ensembl75/Homo_sapiens.GRCh37.75.gtf.db')\n"
   ]
  },
  {
   "cell_type": "code",
   "execution_count": 4,
   "metadata": {},
   "outputs": [
    {
     "data": {
      "text/html": [
       "<div>\n",
       "<style scoped>\n",
       "    .dataframe tbody tr th:only-of-type {\n",
       "        vertical-align: middle;\n",
       "    }\n",
       "\n",
       "    .dataframe tbody tr th {\n",
       "        vertical-align: top;\n",
       "    }\n",
       "\n",
       "    .dataframe thead th {\n",
       "        text-align: right;\n",
       "    }\n",
       "</style>\n",
       "<table border=\"1\" class=\"dataframe\">\n",
       "  <thead>\n",
       "    <tr style=\"text-align: right;\">\n",
       "      <th></th>\n",
       "      <th>gene_id</th>\n",
       "      <th>gene_name</th>\n",
       "      <th>chr</th>\n",
       "      <th>start</th>\n",
       "      <th>end</th>\n",
       "      <th>gene_biotype</th>\n",
       "    </tr>\n",
       "  </thead>\n",
       "  <tbody>\n",
       "    <tr>\n",
       "      <th>0</th>\n",
       "      <td>ENSG00000223972</td>\n",
       "      <td>DDX11L1</td>\n",
       "      <td>1</td>\n",
       "      <td>11869</td>\n",
       "      <td>14412</td>\n",
       "      <td>pseudogene</td>\n",
       "    </tr>\n",
       "    <tr>\n",
       "      <th>1</th>\n",
       "      <td>ENSG00000227232</td>\n",
       "      <td>WASH7P</td>\n",
       "      <td>1</td>\n",
       "      <td>14363</td>\n",
       "      <td>29806</td>\n",
       "      <td>pseudogene</td>\n",
       "    </tr>\n",
       "    <tr>\n",
       "      <th>2</th>\n",
       "      <td>ENSG00000243485</td>\n",
       "      <td>MIR1302-10</td>\n",
       "      <td>1</td>\n",
       "      <td>29554</td>\n",
       "      <td>31109</td>\n",
       "      <td>lincRNA</td>\n",
       "    </tr>\n",
       "    <tr>\n",
       "      <th>3</th>\n",
       "      <td>ENSG00000237613</td>\n",
       "      <td>FAM138A</td>\n",
       "      <td>1</td>\n",
       "      <td>34554</td>\n",
       "      <td>36081</td>\n",
       "      <td>lincRNA</td>\n",
       "    </tr>\n",
       "    <tr>\n",
       "      <th>4</th>\n",
       "      <td>ENSG00000268020</td>\n",
       "      <td>OR4G4P</td>\n",
       "      <td>1</td>\n",
       "      <td>52473</td>\n",
       "      <td>54936</td>\n",
       "      <td>pseudogene</td>\n",
       "    </tr>\n",
       "  </tbody>\n",
       "</table>\n",
       "</div>"
      ],
      "text/plain": [
       "           gene_id   gene_name chr  start    end gene_biotype\n",
       "0  ENSG00000223972     DDX11L1   1  11869  14412   pseudogene\n",
       "1  ENSG00000227232      WASH7P   1  14363  29806   pseudogene\n",
       "2  ENSG00000243485  MIR1302-10   1  29554  31109      lincRNA\n",
       "3  ENSG00000237613     FAM138A   1  34554  36081      lincRNA\n",
       "4  ENSG00000268020      OR4G4P   1  52473  54936   pseudogene"
      ]
     },
     "execution_count": 4,
     "metadata": {},
     "output_type": "execute_result"
    }
   ],
   "source": [
    "genes = pd.read_sql(\"gene\", pyensembl, columns=[\"gene_id\", \"gene_name\", \"seqname\", \"start\", \"end\", \"gene_biotype\"])\n",
    "\n",
    "genes = genes.replace(r'^\\s*$', np.nan, regex=True)\n",
    "genes = genes.infer_objects(copy=False)\n",
    "\n",
    "genes.rename(columns={\"seqname\": \"chr\"}, inplace=True)\n",
    "\n",
    "genes.head()\n"
   ]
  },
  {
   "cell_type": "code",
   "execution_count": 5,
   "metadata": {},
   "outputs": [
    {
     "name": "stdout",
     "output_type": "stream",
     "text": [
      "dropped 5941 genes from patches\n"
     ]
    }
   ],
   "source": [
    "expected_chroms = [str(i) for i in range(1, 23)] + ['X', 'Y']\n",
    "len_before = len(genes)\n",
    "len_expected_chroms = len(expected_chroms)\n",
    "# drop patch chromosomes\n",
    "genes = genes[genes.chr.isin(expected_chroms)]\n",
    "\n",
    "print(f\"dropped {len_before - len(genes)} genes from patches\")"
   ]
  },
  {
   "cell_type": "markdown",
   "metadata": {},
   "source": [
    "# add biomart data"
   ]
  },
  {
   "cell_type": "code",
   "execution_count": 6,
   "metadata": {},
   "outputs": [],
   "source": [
    "e75 = pd.read_csv(\"data/biomart/ensembl75_g37.tsv\", sep=\"\\t\")\n",
    "colnames = {'Gene stable ID': 'gene_id',\n",
    "            'EntrezGene ID': 'entrez_id',\n",
    "            'Gene description': 'gene_description',\n",
    "            'Gene name': 'gene_name',\n",
    "            'Gene type': 'biomart_biotype',\n",
    "            }\n",
    "\n",
    "e75 = e75.rename(columns={\"Ensembl Gene ID\": \"gene_id\"})\n",
    "\n",
    "\n",
    "e112 = pd.read_csv(\"data/biomart/ensembl112_g37.tsv\", sep=\"\\t\")\n",
    "colnames = {'Gene stable ID': 'gene_id',\n",
    "            'NCBI gene (formerly Entrezgene) ID': 'entrez_id',\n",
    "            'Gene description': 'gene_description',\n",
    "            'Gene type': 'biomart_biotype',\n",
    "            }\n",
    "\n",
    "e112 = e112.rename(columns=colnames)"
   ]
  },
  {
   "cell_type": "code",
   "execution_count": 7,
   "metadata": {},
   "outputs": [
    {
     "name": "stdout",
     "output_type": "stream",
     "text": [
      "there are 0 genes in pyensembl75 not in e75\n",
      "there are 6366 genes in e75 not in pyensembl75\n",
      "there are 57736 genes in both\n",
      "######################\n",
      "there are 0 genes in pyensembl75 not in e112\n",
      "there are 5941 genes in e112 not in pyensembl75\n",
      "there are 57736 genes in both\n"
     ]
    }
   ],
   "source": [
    "pyen = set(genes.gene_id.tolist())\n",
    "e75s = set(e75.gene_id.tolist())\n",
    "e112s = set(e112.gene_id.tolist())\n",
    "\n",
    "# compare \n",
    "print(f\"there are {len(pyen - e75s)} genes in pyensembl75 not in e75\")\n",
    "print(f\"there are {len(e75s - pyen)} genes in e75 not in pyensembl75\")\n",
    "print(f\"there are {len(pyen & e75s)} genes in both\")\n",
    "print(\"######################\")\n",
    "print(f\"there are {len(pyen - e112s)} genes in pyensembl75 not in e112\")\n",
    "print(f\"there are {len(e112s - pyen)} genes in e112 not in pyensembl75\")\n",
    "print(f\"there are {len(pyen & e112s)} genes in both\")"
   ]
  },
  {
   "cell_type": "markdown",
   "metadata": {},
   "source": [
    "whole pipeline is done with pyensembl75, therefore i must use biomart export from ensembl 112. They're fully compatible"
   ]
  },
  {
   "cell_type": "code",
   "execution_count": 8,
   "metadata": {},
   "outputs": [
    {
     "data": {
      "text/plain": [
       "entrez_id\n",
       "80864.0        20\n",
       "259215.0       17\n",
       "100169763.0    16\n",
       "554313.0       16\n",
       "8367.0         16\n",
       "               ..\n",
       "149837.0        1\n",
       "200634.0        1\n",
       "6718.0          1\n",
       "29125.0         1\n",
       "100653067.0     1\n",
       "Name: count, Length: 25788, dtype: int64"
      ]
     },
     "execution_count": 8,
     "metadata": {},
     "output_type": "execute_result"
    }
   ],
   "source": [
    "e112.entrez_id.value_counts()"
   ]
  },
  {
   "cell_type": "code",
   "execution_count": 9,
   "metadata": {},
   "outputs": [
    {
     "data": {
      "text/html": [
       "<div>\n",
       "<style scoped>\n",
       "    .dataframe tbody tr th:only-of-type {\n",
       "        vertical-align: middle;\n",
       "    }\n",
       "\n",
       "    .dataframe tbody tr th {\n",
       "        vertical-align: top;\n",
       "    }\n",
       "\n",
       "    .dataframe thead th {\n",
       "        text-align: right;\n",
       "    }\n",
       "</style>\n",
       "<table border=\"1\" class=\"dataframe\">\n",
       "  <thead>\n",
       "    <tr style=\"text-align: right;\">\n",
       "      <th></th>\n",
       "      <th>gene_id</th>\n",
       "      <th>gene_name</th>\n",
       "      <th>chr</th>\n",
       "      <th>start</th>\n",
       "      <th>end</th>\n",
       "      <th>gene_biotype</th>\n",
       "      <th>gene_description</th>\n",
       "    </tr>\n",
       "  </thead>\n",
       "  <tbody>\n",
       "    <tr>\n",
       "      <th>0</th>\n",
       "      <td>ENSG00000223972</td>\n",
       "      <td>DDX11L1</td>\n",
       "      <td>1</td>\n",
       "      <td>11869</td>\n",
       "      <td>14412</td>\n",
       "      <td>pseudogene</td>\n",
       "      <td>DEAD/H (Asp-Glu-Ala-Asp/His) box helicase 11 l...</td>\n",
       "    </tr>\n",
       "    <tr>\n",
       "      <th>1</th>\n",
       "      <td>ENSG00000227232</td>\n",
       "      <td>WASH7P</td>\n",
       "      <td>1</td>\n",
       "      <td>14363</td>\n",
       "      <td>29806</td>\n",
       "      <td>pseudogene</td>\n",
       "      <td>WAS protein family homolog 7 pseudogene [Sourc...</td>\n",
       "    </tr>\n",
       "    <tr>\n",
       "      <th>2</th>\n",
       "      <td>ENSG00000243485</td>\n",
       "      <td>MIR1302-10</td>\n",
       "      <td>1</td>\n",
       "      <td>29554</td>\n",
       "      <td>31109</td>\n",
       "      <td>lincRNA</td>\n",
       "      <td>microRNA 1302-10 [Source:HGNC Symbol;Acc:38233]</td>\n",
       "    </tr>\n",
       "    <tr>\n",
       "      <th>3</th>\n",
       "      <td>ENSG00000237613</td>\n",
       "      <td>FAM138A</td>\n",
       "      <td>1</td>\n",
       "      <td>34554</td>\n",
       "      <td>36081</td>\n",
       "      <td>lincRNA</td>\n",
       "      <td>family with sequence similarity 138, member A ...</td>\n",
       "    </tr>\n",
       "    <tr>\n",
       "      <th>4</th>\n",
       "      <td>ENSG00000268020</td>\n",
       "      <td>OR4G4P</td>\n",
       "      <td>1</td>\n",
       "      <td>52473</td>\n",
       "      <td>54936</td>\n",
       "      <td>pseudogene</td>\n",
       "      <td>olfactory receptor, family 4, subfamily G, mem...</td>\n",
       "    </tr>\n",
       "  </tbody>\n",
       "</table>\n",
       "</div>"
      ],
      "text/plain": [
       "           gene_id   gene_name chr  start    end gene_biotype  \\\n",
       "0  ENSG00000223972     DDX11L1   1  11869  14412   pseudogene   \n",
       "1  ENSG00000227232      WASH7P   1  14363  29806   pseudogene   \n",
       "2  ENSG00000243485  MIR1302-10   1  29554  31109      lincRNA   \n",
       "3  ENSG00000237613     FAM138A   1  34554  36081      lincRNA   \n",
       "4  ENSG00000268020      OR4G4P   1  52473  54936   pseudogene   \n",
       "\n",
       "                                    gene_description  \n",
       "0  DEAD/H (Asp-Glu-Ala-Asp/His) box helicase 11 l...  \n",
       "1  WAS protein family homolog 7 pseudogene [Sourc...  \n",
       "2    microRNA 1302-10 [Source:HGNC Symbol;Acc:38233]  \n",
       "3  family with sequence similarity 138, member A ...  \n",
       "4  olfactory receptor, family 4, subfamily G, mem...  "
      ]
     },
     "execution_count": 9,
     "metadata": {},
     "output_type": "execute_result"
    }
   ],
   "source": [
    "e112_to_merge = e112[[\"gene_id\",\"gene_description\"]].drop_duplicates()\n",
    "df = pd.merge(genes, e112_to_merge, on=\"gene_id\", how=\"left\")\n",
    "\n",
    "df.head()"
   ]
  },
  {
   "cell_type": "code",
   "execution_count": 10,
   "metadata": {},
   "outputs": [
    {
     "data": {
      "text/plain": [
       "gene_id                 0\n",
       "gene_name               0\n",
       "chr                     0\n",
       "start                   0\n",
       "end                     0\n",
       "gene_biotype            0\n",
       "gene_description    21297\n",
       "dtype: int64"
      ]
     },
     "execution_count": 10,
     "metadata": {},
     "output_type": "execute_result"
    }
   ],
   "source": [
    "df.isna().sum()"
   ]
  },
  {
   "cell_type": "code",
   "execution_count": 11,
   "metadata": {},
   "outputs": [],
   "source": [
    "df[\"gene_description\"] = df[\"gene_description\"].fillna(\"no_description\")\n"
   ]
  },
  {
   "cell_type": "code",
   "execution_count": 12,
   "metadata": {},
   "outputs": [
    {
     "data": {
      "text/plain": [
       "gene_id             0\n",
       "gene_name           0\n",
       "chr                 0\n",
       "start               0\n",
       "end                 0\n",
       "gene_biotype        0\n",
       "gene_description    0\n",
       "dtype: int64"
      ]
     },
     "execution_count": 12,
     "metadata": {},
     "output_type": "execute_result"
    }
   ],
   "source": [
    "df.isna().sum()"
   ]
  },
  {
   "cell_type": "markdown",
   "metadata": {},
   "source": [
    "# adding oncokb data"
   ]
  },
  {
   "cell_type": "code",
   "execution_count": 13,
   "metadata": {},
   "outputs": [
    {
     "data": {
      "text/html": [
       "<div>\n",
       "<style scoped>\n",
       "    .dataframe tbody tr th:only-of-type {\n",
       "        vertical-align: middle;\n",
       "    }\n",
       "\n",
       "    .dataframe tbody tr th {\n",
       "        vertical-align: top;\n",
       "    }\n",
       "\n",
       "    .dataframe thead th {\n",
       "        text-align: right;\n",
       "    }\n",
       "</style>\n",
       "<table border=\"1\" class=\"dataframe\">\n",
       "  <thead>\n",
       "    <tr style=\"text-align: right;\">\n",
       "      <th></th>\n",
       "      <th>gene_name</th>\n",
       "      <th>gene_id</th>\n",
       "      <th>is_oncogene_oncokb</th>\n",
       "      <th>is_tsupp_oncokb</th>\n",
       "    </tr>\n",
       "  </thead>\n",
       "  <tbody>\n",
       "    <tr>\n",
       "      <th>0</th>\n",
       "      <td>ABL1</td>\n",
       "      <td>ENSG00000097007</td>\n",
       "      <td>True</td>\n",
       "      <td>False</td>\n",
       "    </tr>\n",
       "    <tr>\n",
       "      <th>1</th>\n",
       "      <td>AKT1</td>\n",
       "      <td>ENSG00000142208</td>\n",
       "      <td>True</td>\n",
       "      <td>False</td>\n",
       "    </tr>\n",
       "    <tr>\n",
       "      <th>2</th>\n",
       "      <td>ALK</td>\n",
       "      <td>ENSG00000171094</td>\n",
       "      <td>True</td>\n",
       "      <td>False</td>\n",
       "    </tr>\n",
       "    <tr>\n",
       "      <th>3</th>\n",
       "      <td>AMER1</td>\n",
       "      <td>ENSG00000184675</td>\n",
       "      <td>False</td>\n",
       "      <td>True</td>\n",
       "    </tr>\n",
       "    <tr>\n",
       "      <th>4</th>\n",
       "      <td>APC</td>\n",
       "      <td>ENSG00000134982</td>\n",
       "      <td>False</td>\n",
       "      <td>True</td>\n",
       "    </tr>\n",
       "  </tbody>\n",
       "</table>\n",
       "</div>"
      ],
      "text/plain": [
       "  gene_name          gene_id  is_oncogene_oncokb  is_tsupp_oncokb\n",
       "0      ABL1  ENSG00000097007                True            False\n",
       "1      AKT1  ENSG00000142208                True            False\n",
       "2       ALK  ENSG00000171094                True            False\n",
       "3     AMER1  ENSG00000184675               False             True\n",
       "4       APC  ENSG00000134982               False             True"
      ]
     },
     "execution_count": 13,
     "metadata": {},
     "output_type": "execute_result"
    }
   ],
   "source": [
    "kb = pd.read_csv(\"data/oncokb/oncokb.csv\", usecols=[\"gene_symbol\", \"ensembl_gene_id\", \"is_oncogene\", \"is_tumor_suppressor\"])\n",
    "kb = kb.rename(columns={\"gene_symbol\": \"gene_name\", \"ensembl_gene_id\": \"gene_id\", \"is_oncogene\": \"is_oncogene_oncokb\", \"is_tumor_suppressor\": \"is_tsupp_oncokb\"})\n",
    "\n",
    "# drop columns where all bool values are false\n",
    "cols = [\"is_oncogene_oncokb\", \"is_tsupp_oncokb\"]\n",
    "kb = kb[~(kb[cols] == False).all(axis=1)]\n",
    "\n",
    "kb.head()\n",
    "\n"
   ]
  },
  {
   "cell_type": "markdown",
   "metadata": {},
   "source": [
    "# checking if all gene ids are found in our db"
   ]
  },
  {
   "cell_type": "code",
   "execution_count": 14,
   "metadata": {},
   "outputs": [
    {
     "data": {
      "text/plain": [
       "gene_id\n",
       "True     721\n",
       "False      4\n",
       "Name: count, dtype: int64"
      ]
     },
     "execution_count": 14,
     "metadata": {},
     "output_type": "execute_result"
    }
   ],
   "source": [
    "kb.gene_id.isin(df.gene_id).value_counts()"
   ]
  },
  {
   "cell_type": "code",
   "execution_count": 15,
   "metadata": {},
   "outputs": [
    {
     "data": {
      "text/plain": [
       "238     IKBKE\n",
       "394      CCNQ\n",
       "453    H2AC17\n",
       "697     GTF2I\n",
       "Name: gene_name, dtype: object"
      ]
     },
     "execution_count": 15,
     "metadata": {},
     "output_type": "execute_result"
    }
   ],
   "source": [
    "missing_gene_ids = kb[~kb.gene_id.isin(df.gene_id)].gene_name\n",
    "missing_gene_ids"
   ]
  },
  {
   "cell_type": "code",
   "execution_count": 16,
   "metadata": {},
   "outputs": [
    {
     "data": {
      "text/plain": [
       "4487     IKBKE\n",
       "22142    GTF2I\n",
       "Name: gene_name, dtype: object"
      ]
     },
     "execution_count": 16,
     "metadata": {},
     "output_type": "execute_result"
    }
   ],
   "source": [
    "missing_id_but_found_gene_names = df[df.gene_name.isin(missing_gene_ids)].gene_name\n",
    "missing_id_but_found_gene_names"
   ]
  },
  {
   "cell_type": "code",
   "execution_count": 17,
   "metadata": {},
   "outputs": [
    {
     "name": "stdout",
     "output_type": "stream",
     "text": [
      "These genes are missing in the genes table: ['H2AC17', 'CCNQ']\n"
     ]
    }
   ],
   "source": [
    "print(f\"These genes are missing in the genes table: {list(set(missing_gene_ids) - set(missing_id_but_found_gene_names))}\")"
   ]
  },
  {
   "cell_type": "markdown",
   "metadata": {},
   "source": [
    "H2AC17 is whole locus\n",
    "\n",
    "H4C9 not found in grch37\n",
    "\n",
    "H3C2 is HIST1H3D in grch37\n",
    "\n",
    "IG's are whole loci with more than one ENSG ids\n",
    "\n",
    "CCNQ is FAM58A in g37\n",
    "\n",
    "note: these are found from g37 ensembl website"
   ]
  },
  {
   "cell_type": "code",
   "execution_count": 18,
   "metadata": {},
   "outputs": [
    {
     "data": {
      "text/html": [
       "<div>\n",
       "<style scoped>\n",
       "    .dataframe tbody tr th:only-of-type {\n",
       "        vertical-align: middle;\n",
       "    }\n",
       "\n",
       "    .dataframe tbody tr th {\n",
       "        vertical-align: top;\n",
       "    }\n",
       "\n",
       "    .dataframe thead th {\n",
       "        text-align: right;\n",
       "    }\n",
       "</style>\n",
       "<table border=\"1\" class=\"dataframe\">\n",
       "  <thead>\n",
       "    <tr style=\"text-align: right;\">\n",
       "      <th></th>\n",
       "      <th>gene_id</th>\n",
       "      <th>gene_name</th>\n",
       "      <th>chr</th>\n",
       "      <th>start</th>\n",
       "      <th>end</th>\n",
       "      <th>gene_biotype</th>\n",
       "      <th>gene_description</th>\n",
       "      <th>is_oncogene_oncokb</th>\n",
       "      <th>is_tsupp_oncokb</th>\n",
       "    </tr>\n",
       "  </thead>\n",
       "  <tbody>\n",
       "    <tr>\n",
       "      <th>0</th>\n",
       "      <td>ENSG00000223972</td>\n",
       "      <td>DDX11L1</td>\n",
       "      <td>1</td>\n",
       "      <td>11869</td>\n",
       "      <td>14412</td>\n",
       "      <td>pseudogene</td>\n",
       "      <td>DEAD/H (Asp-Glu-Ala-Asp/His) box helicase 11 l...</td>\n",
       "      <td>NaN</td>\n",
       "      <td>NaN</td>\n",
       "    </tr>\n",
       "    <tr>\n",
       "      <th>1</th>\n",
       "      <td>ENSG00000227232</td>\n",
       "      <td>WASH7P</td>\n",
       "      <td>1</td>\n",
       "      <td>14363</td>\n",
       "      <td>29806</td>\n",
       "      <td>pseudogene</td>\n",
       "      <td>WAS protein family homolog 7 pseudogene [Sourc...</td>\n",
       "      <td>NaN</td>\n",
       "      <td>NaN</td>\n",
       "    </tr>\n",
       "    <tr>\n",
       "      <th>2</th>\n",
       "      <td>ENSG00000243485</td>\n",
       "      <td>MIR1302-10</td>\n",
       "      <td>1</td>\n",
       "      <td>29554</td>\n",
       "      <td>31109</td>\n",
       "      <td>lincRNA</td>\n",
       "      <td>microRNA 1302-10 [Source:HGNC Symbol;Acc:38233]</td>\n",
       "      <td>NaN</td>\n",
       "      <td>NaN</td>\n",
       "    </tr>\n",
       "    <tr>\n",
       "      <th>3</th>\n",
       "      <td>ENSG00000237613</td>\n",
       "      <td>FAM138A</td>\n",
       "      <td>1</td>\n",
       "      <td>34554</td>\n",
       "      <td>36081</td>\n",
       "      <td>lincRNA</td>\n",
       "      <td>family with sequence similarity 138, member A ...</td>\n",
       "      <td>NaN</td>\n",
       "      <td>NaN</td>\n",
       "    </tr>\n",
       "    <tr>\n",
       "      <th>4</th>\n",
       "      <td>ENSG00000268020</td>\n",
       "      <td>OR4G4P</td>\n",
       "      <td>1</td>\n",
       "      <td>52473</td>\n",
       "      <td>54936</td>\n",
       "      <td>pseudogene</td>\n",
       "      <td>olfactory receptor, family 4, subfamily G, mem...</td>\n",
       "      <td>NaN</td>\n",
       "      <td>NaN</td>\n",
       "    </tr>\n",
       "  </tbody>\n",
       "</table>\n",
       "</div>"
      ],
      "text/plain": [
       "           gene_id   gene_name chr  start    end gene_biotype  \\\n",
       "0  ENSG00000223972     DDX11L1   1  11869  14412   pseudogene   \n",
       "1  ENSG00000227232      WASH7P   1  14363  29806   pseudogene   \n",
       "2  ENSG00000243485  MIR1302-10   1  29554  31109      lincRNA   \n",
       "3  ENSG00000237613     FAM138A   1  34554  36081      lincRNA   \n",
       "4  ENSG00000268020      OR4G4P   1  52473  54936   pseudogene   \n",
       "\n",
       "                                    gene_description is_oncogene_oncokb  \\\n",
       "0  DEAD/H (Asp-Glu-Ala-Asp/His) box helicase 11 l...                NaN   \n",
       "1  WAS protein family homolog 7 pseudogene [Sourc...                NaN   \n",
       "2    microRNA 1302-10 [Source:HGNC Symbol;Acc:38233]                NaN   \n",
       "3  family with sequence similarity 138, member A ...                NaN   \n",
       "4  olfactory receptor, family 4, subfamily G, mem...                NaN   \n",
       "\n",
       "  is_tsupp_oncokb  \n",
       "0             NaN  \n",
       "1             NaN  \n",
       "2             NaN  \n",
       "3             NaN  \n",
       "4             NaN  "
      ]
     },
     "execution_count": 18,
     "metadata": {},
     "output_type": "execute_result"
    }
   ],
   "source": [
    "temp_df = kb.drop(columns=[\"gene_name\"])\n",
    "df = pd.merge(df, temp_df, on=\"gene_id\", how=\"left\")\n",
    "df.head()"
   ]
  },
  {
   "cell_type": "markdown",
   "metadata": {},
   "source": [
    "# adding details of genes above"
   ]
  },
  {
   "cell_type": "code",
   "execution_count": 19,
   "metadata": {},
   "outputs": [
    {
     "data": {
      "text/html": [
       "<div>\n",
       "<style scoped>\n",
       "    .dataframe tbody tr th:only-of-type {\n",
       "        vertical-align: middle;\n",
       "    }\n",
       "\n",
       "    .dataframe tbody tr th {\n",
       "        vertical-align: top;\n",
       "    }\n",
       "\n",
       "    .dataframe thead th {\n",
       "        text-align: right;\n",
       "    }\n",
       "</style>\n",
       "<table border=\"1\" class=\"dataframe\">\n",
       "  <thead>\n",
       "    <tr style=\"text-align: right;\">\n",
       "      <th></th>\n",
       "      <th>gene_name</th>\n",
       "      <th>gene_id</th>\n",
       "      <th>is_oncogene_oncokb</th>\n",
       "      <th>is_tsupp_oncokb</th>\n",
       "    </tr>\n",
       "  </thead>\n",
       "  <tbody>\n",
       "    <tr>\n",
       "      <th>238</th>\n",
       "      <td>IKBKE</td>\n",
       "      <td>ENSG00000263528</td>\n",
       "      <td>True</td>\n",
       "      <td>False</td>\n",
       "    </tr>\n",
       "    <tr>\n",
       "      <th>697</th>\n",
       "      <td>GTF2I</td>\n",
       "      <td>ENSG00000263001</td>\n",
       "      <td>True</td>\n",
       "      <td>False</td>\n",
       "    </tr>\n",
       "  </tbody>\n",
       "</table>\n",
       "</div>"
      ],
      "text/plain": [
       "    gene_name          gene_id  is_oncogene_oncokb  is_tsupp_oncokb\n",
       "238     IKBKE  ENSG00000263528                True            False\n",
       "697     GTF2I  ENSG00000263001                True            False"
      ]
     },
     "execution_count": 19,
     "metadata": {},
     "output_type": "execute_result"
    }
   ],
   "source": [
    "kb[kb.gene_name.isin(missing_id_but_found_gene_names)]\n"
   ]
  },
  {
   "cell_type": "code",
   "execution_count": 20,
   "metadata": {},
   "outputs": [
    {
     "data": {
      "text/html": [
       "<div>\n",
       "<style scoped>\n",
       "    .dataframe tbody tr th:only-of-type {\n",
       "        vertical-align: middle;\n",
       "    }\n",
       "\n",
       "    .dataframe tbody tr th {\n",
       "        vertical-align: top;\n",
       "    }\n",
       "\n",
       "    .dataframe thead th {\n",
       "        text-align: right;\n",
       "    }\n",
       "</style>\n",
       "<table border=\"1\" class=\"dataframe\">\n",
       "  <thead>\n",
       "    <tr style=\"text-align: right;\">\n",
       "      <th></th>\n",
       "      <th>gene_id</th>\n",
       "      <th>gene_name</th>\n",
       "      <th>chr</th>\n",
       "      <th>start</th>\n",
       "      <th>end</th>\n",
       "      <th>gene_biotype</th>\n",
       "      <th>gene_description</th>\n",
       "      <th>is_oncogene_oncokb</th>\n",
       "      <th>is_tsupp_oncokb</th>\n",
       "    </tr>\n",
       "  </thead>\n",
       "  <tbody>\n",
       "    <tr>\n",
       "      <th>4487</th>\n",
       "      <td>ENSG00000143466</td>\n",
       "      <td>IKBKE</td>\n",
       "      <td>1</td>\n",
       "      <td>206643791</td>\n",
       "      <td>206670223</td>\n",
       "      <td>protein_coding</td>\n",
       "      <td>inhibitor of kappa light polypeptide gene enha...</td>\n",
       "      <td>NaN</td>\n",
       "      <td>NaN</td>\n",
       "    </tr>\n",
       "    <tr>\n",
       "      <th>22142</th>\n",
       "      <td>ENSG00000077809</td>\n",
       "      <td>GTF2I</td>\n",
       "      <td>7</td>\n",
       "      <td>74071994</td>\n",
       "      <td>74175026</td>\n",
       "      <td>protein_coding</td>\n",
       "      <td>general transcription factor IIi [Source:HGNC ...</td>\n",
       "      <td>NaN</td>\n",
       "      <td>NaN</td>\n",
       "    </tr>\n",
       "  </tbody>\n",
       "</table>\n",
       "</div>"
      ],
      "text/plain": [
       "               gene_id gene_name chr      start        end    gene_biotype  \\\n",
       "4487   ENSG00000143466     IKBKE   1  206643791  206670223  protein_coding   \n",
       "22142  ENSG00000077809     GTF2I   7   74071994   74175026  protein_coding   \n",
       "\n",
       "                                        gene_description is_oncogene_oncokb  \\\n",
       "4487   inhibitor of kappa light polypeptide gene enha...                NaN   \n",
       "22142  general transcription factor IIi [Source:HGNC ...                NaN   \n",
       "\n",
       "      is_tsupp_oncokb  \n",
       "4487              NaN  \n",
       "22142             NaN  "
      ]
     },
     "execution_count": 20,
     "metadata": {},
     "output_type": "execute_result"
    }
   ],
   "source": [
    "df[df.gene_name.isin(missing_id_but_found_gene_names)]"
   ]
  },
  {
   "cell_type": "code",
   "execution_count": 21,
   "metadata": {},
   "outputs": [],
   "source": [
    "df.loc[df.gene_name == 'IKBKE', 'is_oncogene_kb'] = True\n",
    "df.loc[df.gene_name == 'GTF2I', 'is_oncogene_kb'] = True\n"
   ]
  },
  {
   "cell_type": "code",
   "execution_count": 22,
   "metadata": {},
   "outputs": [
    {
     "data": {
      "text/html": [
       "<div>\n",
       "<style scoped>\n",
       "    .dataframe tbody tr th:only-of-type {\n",
       "        vertical-align: middle;\n",
       "    }\n",
       "\n",
       "    .dataframe tbody tr th {\n",
       "        vertical-align: top;\n",
       "    }\n",
       "\n",
       "    .dataframe thead th {\n",
       "        text-align: right;\n",
       "    }\n",
       "</style>\n",
       "<table border=\"1\" class=\"dataframe\">\n",
       "  <thead>\n",
       "    <tr style=\"text-align: right;\">\n",
       "      <th></th>\n",
       "      <th>gene_name</th>\n",
       "      <th>gene_id</th>\n",
       "      <th>is_oncogene_oncokb</th>\n",
       "      <th>is_tsupp_oncokb</th>\n",
       "    </tr>\n",
       "  </thead>\n",
       "  <tbody>\n",
       "    <tr>\n",
       "      <th>394</th>\n",
       "      <td>CCNQ</td>\n",
       "      <td>ENSG00000262919</td>\n",
       "      <td>False</td>\n",
       "      <td>True</td>\n",
       "    </tr>\n",
       "  </tbody>\n",
       "</table>\n",
       "</div>"
      ],
      "text/plain": [
       "    gene_name          gene_id  is_oncogene_oncokb  is_tsupp_oncokb\n",
       "394      CCNQ  ENSG00000262919               False             True"
      ]
     },
     "execution_count": 22,
     "metadata": {},
     "output_type": "execute_result"
    }
   ],
   "source": [
    "kb[kb.gene_name == \"CCNQ\"]"
   ]
  },
  {
   "cell_type": "code",
   "execution_count": 23,
   "metadata": {},
   "outputs": [],
   "source": [
    "df.loc[df.gene_name == 'FAM58A', 'is_tsupp_kb'] = True\n"
   ]
  },
  {
   "cell_type": "markdown",
   "metadata": {},
   "source": [
    "# checking NA"
   ]
  },
  {
   "cell_type": "code",
   "execution_count": 24,
   "metadata": {},
   "outputs": [
    {
     "data": {
      "text/plain": [
       "gene_id                   0\n",
       "gene_name                 0\n",
       "chr                       0\n",
       "start                     0\n",
       "end                       0\n",
       "gene_biotype              0\n",
       "gene_description          0\n",
       "is_oncogene_oncokb    57015\n",
       "is_tsupp_oncokb       57015\n",
       "is_oncogene_kb        57734\n",
       "is_tsupp_kb           57735\n",
       "dtype: int64"
      ]
     },
     "execution_count": 24,
     "metadata": {},
     "output_type": "execute_result"
    }
   ],
   "source": [
    "df.isna().sum()"
   ]
  },
  {
   "cell_type": "code",
   "execution_count": 25,
   "metadata": {},
   "outputs": [
    {
     "data": {
      "text/html": [
       "<div>\n",
       "<style scoped>\n",
       "    .dataframe tbody tr th:only-of-type {\n",
       "        vertical-align: middle;\n",
       "    }\n",
       "\n",
       "    .dataframe tbody tr th {\n",
       "        vertical-align: top;\n",
       "    }\n",
       "\n",
       "    .dataframe thead th {\n",
       "        text-align: right;\n",
       "    }\n",
       "</style>\n",
       "<table border=\"1\" class=\"dataframe\">\n",
       "  <thead>\n",
       "    <tr style=\"text-align: right;\">\n",
       "      <th></th>\n",
       "      <th>gene_id</th>\n",
       "      <th>gene_name</th>\n",
       "      <th>chr</th>\n",
       "      <th>start</th>\n",
       "      <th>end</th>\n",
       "      <th>gene_biotype</th>\n",
       "      <th>gene_description</th>\n",
       "      <th>is_oncogene_oncokb</th>\n",
       "      <th>is_tsupp_oncokb</th>\n",
       "      <th>is_oncogene_kb</th>\n",
       "      <th>is_tsupp_kb</th>\n",
       "    </tr>\n",
       "  </thead>\n",
       "  <tbody>\n",
       "    <tr>\n",
       "      <th>0</th>\n",
       "      <td>ENSG00000223972</td>\n",
       "      <td>DDX11L1</td>\n",
       "      <td>1</td>\n",
       "      <td>11869</td>\n",
       "      <td>14412</td>\n",
       "      <td>pseudogene</td>\n",
       "      <td>DEAD/H (Asp-Glu-Ala-Asp/His) box helicase 11 l...</td>\n",
       "      <td>False</td>\n",
       "      <td>False</td>\n",
       "      <td>False</td>\n",
       "      <td>False</td>\n",
       "    </tr>\n",
       "    <tr>\n",
       "      <th>1</th>\n",
       "      <td>ENSG00000227232</td>\n",
       "      <td>WASH7P</td>\n",
       "      <td>1</td>\n",
       "      <td>14363</td>\n",
       "      <td>29806</td>\n",
       "      <td>pseudogene</td>\n",
       "      <td>WAS protein family homolog 7 pseudogene [Sourc...</td>\n",
       "      <td>False</td>\n",
       "      <td>False</td>\n",
       "      <td>False</td>\n",
       "      <td>False</td>\n",
       "    </tr>\n",
       "    <tr>\n",
       "      <th>2</th>\n",
       "      <td>ENSG00000243485</td>\n",
       "      <td>MIR1302-10</td>\n",
       "      <td>1</td>\n",
       "      <td>29554</td>\n",
       "      <td>31109</td>\n",
       "      <td>lincRNA</td>\n",
       "      <td>microRNA 1302-10 [Source:HGNC Symbol;Acc:38233]</td>\n",
       "      <td>False</td>\n",
       "      <td>False</td>\n",
       "      <td>False</td>\n",
       "      <td>False</td>\n",
       "    </tr>\n",
       "    <tr>\n",
       "      <th>3</th>\n",
       "      <td>ENSG00000237613</td>\n",
       "      <td>FAM138A</td>\n",
       "      <td>1</td>\n",
       "      <td>34554</td>\n",
       "      <td>36081</td>\n",
       "      <td>lincRNA</td>\n",
       "      <td>family with sequence similarity 138, member A ...</td>\n",
       "      <td>False</td>\n",
       "      <td>False</td>\n",
       "      <td>False</td>\n",
       "      <td>False</td>\n",
       "    </tr>\n",
       "    <tr>\n",
       "      <th>4</th>\n",
       "      <td>ENSG00000268020</td>\n",
       "      <td>OR4G4P</td>\n",
       "      <td>1</td>\n",
       "      <td>52473</td>\n",
       "      <td>54936</td>\n",
       "      <td>pseudogene</td>\n",
       "      <td>olfactory receptor, family 4, subfamily G, mem...</td>\n",
       "      <td>False</td>\n",
       "      <td>False</td>\n",
       "      <td>False</td>\n",
       "      <td>False</td>\n",
       "    </tr>\n",
       "  </tbody>\n",
       "</table>\n",
       "</div>"
      ],
      "text/plain": [
       "           gene_id   gene_name chr  start    end gene_biotype  \\\n",
       "0  ENSG00000223972     DDX11L1   1  11869  14412   pseudogene   \n",
       "1  ENSG00000227232      WASH7P   1  14363  29806   pseudogene   \n",
       "2  ENSG00000243485  MIR1302-10   1  29554  31109      lincRNA   \n",
       "3  ENSG00000237613     FAM138A   1  34554  36081      lincRNA   \n",
       "4  ENSG00000268020      OR4G4P   1  52473  54936   pseudogene   \n",
       "\n",
       "                                    gene_description is_oncogene_oncokb  \\\n",
       "0  DEAD/H (Asp-Glu-Ala-Asp/His) box helicase 11 l...              False   \n",
       "1  WAS protein family homolog 7 pseudogene [Sourc...              False   \n",
       "2    microRNA 1302-10 [Source:HGNC Symbol;Acc:38233]              False   \n",
       "3  family with sequence similarity 138, member A ...              False   \n",
       "4  olfactory receptor, family 4, subfamily G, mem...              False   \n",
       "\n",
       "  is_tsupp_oncokb is_oncogene_kb is_tsupp_kb  \n",
       "0           False          False       False  \n",
       "1           False          False       False  \n",
       "2           False          False       False  \n",
       "3           False          False       False  \n",
       "4           False          False       False  "
      ]
     },
     "execution_count": 25,
     "metadata": {},
     "output_type": "execute_result"
    }
   ],
   "source": [
    "df.fillna(False, inplace=True)\n",
    "df.head()"
   ]
  },
  {
   "cell_type": "markdown",
   "metadata": {},
   "source": [
    "# adding intogen data"
   ]
  },
  {
   "cell_type": "code",
   "execution_count": 26,
   "metadata": {},
   "outputs": [
    {
     "data": {
      "text/html": [
       "<div>\n",
       "<style scoped>\n",
       "    .dataframe tbody tr th:only-of-type {\n",
       "        vertical-align: middle;\n",
       "    }\n",
       "\n",
       "    .dataframe tbody tr th {\n",
       "        vertical-align: top;\n",
       "    }\n",
       "\n",
       "    .dataframe thead th {\n",
       "        text-align: right;\n",
       "    }\n",
       "</style>\n",
       "<table border=\"1\" class=\"dataframe\">\n",
       "  <thead>\n",
       "    <tr style=\"text-align: right;\">\n",
       "      <th></th>\n",
       "      <th>gene_name</th>\n",
       "      <th>is_driver_intogen</th>\n",
       "    </tr>\n",
       "  </thead>\n",
       "  <tbody>\n",
       "    <tr>\n",
       "      <th>0</th>\n",
       "      <td>ACVR1</td>\n",
       "      <td>True</td>\n",
       "    </tr>\n",
       "    <tr>\n",
       "      <th>1</th>\n",
       "      <td>ACVR2A</td>\n",
       "      <td>True</td>\n",
       "    </tr>\n",
       "    <tr>\n",
       "      <th>2</th>\n",
       "      <td>ARAF</td>\n",
       "      <td>True</td>\n",
       "    </tr>\n",
       "    <tr>\n",
       "      <th>3</th>\n",
       "      <td>ASXL2</td>\n",
       "      <td>True</td>\n",
       "    </tr>\n",
       "    <tr>\n",
       "      <th>4</th>\n",
       "      <td>BAP1</td>\n",
       "      <td>True</td>\n",
       "    </tr>\n",
       "  </tbody>\n",
       "</table>\n",
       "</div>"
      ],
      "text/plain": [
       "  gene_name  is_driver_intogen\n",
       "0     ACVR1               True\n",
       "1    ACVR2A               True\n",
       "2      ARAF               True\n",
       "3     ASXL2               True\n",
       "4      BAP1               True"
      ]
     },
     "execution_count": 26,
     "metadata": {},
     "output_type": "execute_result"
    }
   ],
   "source": [
    "into = pd.read_json(\"data/intogen/driver_genes.json\")\n",
    "into.rename(columns={\"is_driver\": \"is_driver_intogen\"}, inplace=True)\n",
    "into.head()"
   ]
  },
  {
   "cell_type": "code",
   "execution_count": 27,
   "metadata": {},
   "outputs": [
    {
     "data": {
      "text/plain": [
       "gene_name\n",
       "True     86\n",
       "False     1\n",
       "Name: count, dtype: int64"
      ]
     },
     "execution_count": 27,
     "metadata": {},
     "output_type": "execute_result"
    }
   ],
   "source": [
    "into.gene_name.isin(df.gene_name).value_counts()"
   ]
  },
  {
   "cell_type": "code",
   "execution_count": 28,
   "metadata": {},
   "outputs": [
    {
     "data": {
      "text/plain": [
       "78    TENT5C\n",
       "Name: gene_name, dtype: object"
      ]
     },
     "execution_count": 28,
     "metadata": {},
     "output_type": "execute_result"
    }
   ],
   "source": [
    "into[~into.gene_name.isin(df.gene_name)].gene_name"
   ]
  },
  {
   "cell_type": "markdown",
   "metadata": {},
   "source": [
    "FAM46C is the grch37 name of TENT5C\n",
    "\n",
    "source: https://www.ensembl.org/Homo_sapiens/Gene/Summary?g=ENSG00000183508;r=1:117606048-117628389;t=ENST00000369448"
   ]
  },
  {
   "cell_type": "code",
   "execution_count": 29,
   "metadata": {},
   "outputs": [],
   "source": [
    "df = pd.merge(df, into, on=\"gene_name\", how=\"left\")"
   ]
  },
  {
   "cell_type": "code",
   "execution_count": 30,
   "metadata": {},
   "outputs": [],
   "source": [
    "df.loc[df.gene_name == \"FAM46C\", \"is_driver_intogen\"] = True"
   ]
  },
  {
   "cell_type": "code",
   "execution_count": 31,
   "metadata": {},
   "outputs": [],
   "source": [
    "df[\"is_driver_intogen\"] = df[\"is_driver_intogen\"].fillna(False)"
   ]
  },
  {
   "cell_type": "code",
   "execution_count": 32,
   "metadata": {},
   "outputs": [
    {
     "data": {
      "text/plain": [
       "gene_id               0\n",
       "gene_name             0\n",
       "chr                   0\n",
       "start                 0\n",
       "end                   0\n",
       "gene_biotype          0\n",
       "gene_description      0\n",
       "is_oncogene_oncokb    0\n",
       "is_tsupp_oncokb       0\n",
       "is_oncogene_kb        0\n",
       "is_tsupp_kb           0\n",
       "is_driver_intogen     0\n",
       "dtype: int64"
      ]
     },
     "execution_count": 32,
     "metadata": {},
     "output_type": "execute_result"
    }
   ],
   "source": [
    "df.isna().sum()"
   ]
  },
  {
   "cell_type": "markdown",
   "metadata": {},
   "source": [
    "# cosmic data"
   ]
  },
  {
   "cell_type": "code",
   "execution_count": 35,
   "metadata": {},
   "outputs": [
    {
     "data": {
      "text/html": [
       "<div>\n",
       "<style scoped>\n",
       "    .dataframe tbody tr th:only-of-type {\n",
       "        vertical-align: middle;\n",
       "    }\n",
       "\n",
       "    .dataframe tbody tr th {\n",
       "        vertical-align: top;\n",
       "    }\n",
       "\n",
       "    .dataframe thead th {\n",
       "        text-align: right;\n",
       "    }\n",
       "</style>\n",
       "<table border=\"1\" class=\"dataframe\">\n",
       "  <thead>\n",
       "    <tr style=\"text-align: right;\">\n",
       "      <th></th>\n",
       "      <th>gene_name</th>\n",
       "      <th>tier_cosmic</th>\n",
       "      <th>is_hallmark_cosmic</th>\n",
       "      <th>is_tumor_suppressor_cosmic</th>\n",
       "      <th>is_oncogene_cosmic</th>\n",
       "    </tr>\n",
       "  </thead>\n",
       "  <tbody>\n",
       "    <tr>\n",
       "      <th>0</th>\n",
       "      <td>A1CF</td>\n",
       "      <td>2</td>\n",
       "      <td>False</td>\n",
       "      <td>False</td>\n",
       "      <td>True</td>\n",
       "    </tr>\n",
       "    <tr>\n",
       "      <th>1</th>\n",
       "      <td>ABI1</td>\n",
       "      <td>1</td>\n",
       "      <td>True</td>\n",
       "      <td>True</td>\n",
       "      <td>False</td>\n",
       "    </tr>\n",
       "    <tr>\n",
       "      <th>2</th>\n",
       "      <td>ABL1</td>\n",
       "      <td>1</td>\n",
       "      <td>True</td>\n",
       "      <td>False</td>\n",
       "      <td>True</td>\n",
       "    </tr>\n",
       "    <tr>\n",
       "      <th>3</th>\n",
       "      <td>ABL2</td>\n",
       "      <td>1</td>\n",
       "      <td>False</td>\n",
       "      <td>False</td>\n",
       "      <td>True</td>\n",
       "    </tr>\n",
       "    <tr>\n",
       "      <th>4</th>\n",
       "      <td>ACKR3</td>\n",
       "      <td>1</td>\n",
       "      <td>True</td>\n",
       "      <td>False</td>\n",
       "      <td>True</td>\n",
       "    </tr>\n",
       "    <tr>\n",
       "      <th>...</th>\n",
       "      <td>...</td>\n",
       "      <td>...</td>\n",
       "      <td>...</td>\n",
       "      <td>...</td>\n",
       "      <td>...</td>\n",
       "    </tr>\n",
       "    <tr>\n",
       "      <th>741</th>\n",
       "      <td>ZNF331</td>\n",
       "      <td>1</td>\n",
       "      <td>False</td>\n",
       "      <td>True</td>\n",
       "      <td>False</td>\n",
       "    </tr>\n",
       "    <tr>\n",
       "      <th>742</th>\n",
       "      <td>ZNF384</td>\n",
       "      <td>1</td>\n",
       "      <td>False</td>\n",
       "      <td>False</td>\n",
       "      <td>False</td>\n",
       "    </tr>\n",
       "    <tr>\n",
       "      <th>745</th>\n",
       "      <td>ZNF521</td>\n",
       "      <td>1</td>\n",
       "      <td>False</td>\n",
       "      <td>False</td>\n",
       "      <td>True</td>\n",
       "    </tr>\n",
       "    <tr>\n",
       "      <th>746</th>\n",
       "      <td>ZNRF3</td>\n",
       "      <td>2</td>\n",
       "      <td>False</td>\n",
       "      <td>True</td>\n",
       "      <td>False</td>\n",
       "    </tr>\n",
       "    <tr>\n",
       "      <th>747</th>\n",
       "      <td>ZRSR2</td>\n",
       "      <td>1</td>\n",
       "      <td>True</td>\n",
       "      <td>True</td>\n",
       "      <td>False</td>\n",
       "    </tr>\n",
       "  </tbody>\n",
       "</table>\n",
       "<p>706 rows × 5 columns</p>\n",
       "</div>"
      ],
      "text/plain": [
       "    gene_name  tier_cosmic is_hallmark_cosmic  is_tumor_suppressor_cosmic  \\\n",
       "0        A1CF            2              False                       False   \n",
       "1        ABI1            1               True                        True   \n",
       "2        ABL1            1               True                       False   \n",
       "3        ABL2            1              False                       False   \n",
       "4       ACKR3            1               True                       False   \n",
       "..        ...          ...                ...                         ...   \n",
       "741    ZNF331            1              False                        True   \n",
       "742    ZNF384            1              False                       False   \n",
       "745    ZNF521            1              False                       False   \n",
       "746     ZNRF3            2              False                        True   \n",
       "747     ZRSR2            1               True                        True   \n",
       "\n",
       "     is_oncogene_cosmic  \n",
       "0                  True  \n",
       "1                 False  \n",
       "2                  True  \n",
       "3                  True  \n",
       "4                  True  \n",
       "..                  ...  \n",
       "741               False  \n",
       "742               False  \n",
       "745                True  \n",
       "746               False  \n",
       "747               False  \n",
       "\n",
       "[706 rows x 5 columns]"
      ]
     },
     "execution_count": 35,
     "metadata": {},
     "output_type": "execute_result"
    }
   ],
   "source": [
    "cs = (\n",
    "    pd.read_csv(\"data/cosmic/Census_allTue Jun 4 15 09 41 2024.csv\")\n",
    "    .rename(columns={\n",
    "        'Gene Symbol': 'gene_name',\n",
    "        'Tier': 'tier_cosmic',\n",
    "        'Hallmark': 'is_hallmark_cosmic',\n",
    "        'Role in Cancer': 'role_in_cancer',\n",
    "    }))\n",
    "\n",
    "\n",
    "cs = cs[[\"gene_name\", \"tier_cosmic\", \"is_hallmark_cosmic\", \"role_in_cancer\"]]\n",
    "\n",
    "# drop rows where role_in_cancer is null\n",
    "cs.dropna(subset=[\"role_in_cancer\"], inplace=True)\n",
    "\n",
    "# convert hallmark col into boolean\n",
    "cs['is_hallmark_cosmic'] = cs['is_hallmark_cosmic'].replace({'Yes': True, np.nan: False})\n",
    "\n",
    "cs['role_in_cancer'] = cs['role_in_cancer'].str.split(', ').apply(lambda x: [role.strip() for role in x])\n",
    "unique_roles = {role for sublist in cs['role_in_cancer'] for role in sublist}\n",
    "\n",
    "for role in unique_roles:\n",
    "    cs[role] = cs['role_in_cancer'].apply(lambda x: role in x)\n",
    "\n",
    "cs = cs.drop(columns=['role_in_cancer', \"fusion\"])\n",
    "\n",
    "cs = cs.rename(columns={\"TSG\": \"is_tumor_suppressor_cosmic\", \"oncogene\": \"is_oncogene_cosmic\"})\n",
    "\n",
    "cs\n"
   ]
  },
  {
   "cell_type": "code",
   "execution_count": 36,
   "metadata": {},
   "outputs": [
    {
     "data": {
      "text/plain": [
       "gene_name\n",
       "True     691\n",
       "False     15\n",
       "Name: count, dtype: int64"
      ]
     },
     "execution_count": 36,
     "metadata": {},
     "output_type": "execute_result"
    }
   ],
   "source": [
    "cs.gene_name.isin(df.gene_name).value_counts()"
   ]
  },
  {
   "cell_type": "code",
   "execution_count": 38,
   "metadata": {},
   "outputs": [
    {
     "name": "stdout",
     "output_type": "stream",
     "text": [
      "https://www.ensembl.org/Multi/Search/Results?q=AFDN;site=ensembl_all\n",
      "https://www.ensembl.org/Multi/Search/Results?q=IGH;site=ensembl_all\n",
      "https://www.ensembl.org/Multi/Search/Results?q=IGK;site=ensembl_all\n",
      "https://www.ensembl.org/Multi/Search/Results?q=IGL;site=ensembl_all\n",
      "https://www.ensembl.org/Multi/Search/Results?q=KNL1;site=ensembl_all\n",
      "https://www.ensembl.org/Multi/Search/Results?q=LHFPL6;site=ensembl_all\n",
      "https://www.ensembl.org/Multi/Search/Results?q=MRTFA;site=ensembl_all\n",
      "https://www.ensembl.org/Multi/Search/Results?q=NSD2;site=ensembl_all\n",
      "https://www.ensembl.org/Multi/Search/Results?q=NSD3;site=ensembl_all\n",
      "https://www.ensembl.org/Multi/Search/Results?q=SHTN1;site=ensembl_all\n",
      "https://www.ensembl.org/Multi/Search/Results?q=TENT5C;site=ensembl_all\n",
      "https://www.ensembl.org/Multi/Search/Results?q=TRA;site=ensembl_all\n",
      "https://www.ensembl.org/Multi/Search/Results?q=TRB;site=ensembl_all\n",
      "https://www.ensembl.org/Multi/Search/Results?q=TRD;site=ensembl_all\n",
      "https://www.ensembl.org/Multi/Search/Results?q=WDCP;site=ensembl_all\n"
     ]
    }
   ],
   "source": [
    "# List of gene names\n",
    "gene_names = cs[~cs.gene_name.isin(df.gene_name)].gene_name\n",
    "\n",
    "# Base URL for the search\n",
    "base_url = \"https://www.ensembl.org/Multi/Search/Results?q={};site=ensembl_all\"\n",
    "\n",
    "# Generate search URLs for each gene\n",
    "search_urls = [base_url.format(gene) for gene in gene_names]\n",
    "\n",
    "# Print the search URLs\n",
    "for url in search_urls:\n",
    "    print(url)\n"
   ]
  },
  {
   "cell_type": "markdown",
   "metadata": {},
   "source": [
    "# manual checking genes above in g37\n",
    "\n",
    "AFDN: MLLT4 \n",
    "\n",
    "KNL1: CASC5\n",
    "\n",
    "LHFPL6: LHFP\n",
    "\n",
    "MRTFA: MKL1\n",
    "\n",
    "NSD2: WHSC1\n",
    "\n",
    "NSD3: WHSC1L1\n",
    "\n",
    "SHTN1: KIAA1598\n",
    "\n",
    "TENT5C: FAM46C\n",
    "\n",
    "WDCP: C2orf44\n",
    "\n",
    "immunoglobins are problematic in g37, discarded\n",
    "\n",
    "\n",
    "TRAs are problematic\n",
    "\n"
   ]
  },
  {
   "cell_type": "code",
   "execution_count": 39,
   "metadata": {},
   "outputs": [],
   "source": [
    "# Dictionary for replacements\n",
    "replacements = {\n",
    "    'AFDN': 'MLLT4',\n",
    "    'KNL1': 'CASC5',\n",
    "    'LHFPL6': 'LHFP',\n",
    "    'MRTFA': 'MKL1',\n",
    "    'NSD2': 'WHSC1',\n",
    "    'NSD3': 'WHSC1L1',\n",
    "    'SHTN1': 'KIAA1598',\n",
    "    'TENT5C': 'FAM46C',\n",
    "    'WDCP': 'C2orf44'\n",
    "}\n",
    "\n",
    "# Replace values in the 'gene_name' column\n",
    "cs['gene_name'] = cs['gene_name'].replace(replacements)\n"
   ]
  },
  {
   "cell_type": "code",
   "execution_count": 40,
   "metadata": {},
   "outputs": [],
   "source": [
    "df = pd.merge(df, cs, how='left', on='gene_name')\n",
    "df[\"tier_cosmic\"] = df[\"tier_cosmic\"].fillna(0).astype(int)\n",
    "df.fillna(False, inplace=True)"
   ]
  },
  {
   "cell_type": "code",
   "execution_count": 41,
   "metadata": {},
   "outputs": [
    {
     "data": {
      "text/html": [
       "<div>\n",
       "<style scoped>\n",
       "    .dataframe tbody tr th:only-of-type {\n",
       "        vertical-align: middle;\n",
       "    }\n",
       "\n",
       "    .dataframe tbody tr th {\n",
       "        vertical-align: top;\n",
       "    }\n",
       "\n",
       "    .dataframe thead th {\n",
       "        text-align: right;\n",
       "    }\n",
       "</style>\n",
       "<table border=\"1\" class=\"dataframe\">\n",
       "  <thead>\n",
       "    <tr style=\"text-align: right;\">\n",
       "      <th></th>\n",
       "      <th>gene_id</th>\n",
       "      <th>gene_name</th>\n",
       "      <th>chr</th>\n",
       "      <th>start</th>\n",
       "      <th>end</th>\n",
       "      <th>gene_biotype</th>\n",
       "      <th>gene_description</th>\n",
       "      <th>is_oncogene_oncokb</th>\n",
       "      <th>is_tsupp_oncokb</th>\n",
       "      <th>is_oncogene_kb</th>\n",
       "      <th>is_tsupp_kb</th>\n",
       "      <th>is_driver_intogen</th>\n",
       "      <th>tier_cosmic</th>\n",
       "      <th>is_hallmark_cosmic</th>\n",
       "      <th>is_tumor_suppressor_cosmic</th>\n",
       "      <th>is_oncogene_cosmic</th>\n",
       "    </tr>\n",
       "  </thead>\n",
       "  <tbody>\n",
       "    <tr>\n",
       "      <th>0</th>\n",
       "      <td>ENSG00000223972</td>\n",
       "      <td>DDX11L1</td>\n",
       "      <td>1</td>\n",
       "      <td>11869</td>\n",
       "      <td>14412</td>\n",
       "      <td>pseudogene</td>\n",
       "      <td>DEAD/H (Asp-Glu-Ala-Asp/His) box helicase 11 l...</td>\n",
       "      <td>False</td>\n",
       "      <td>False</td>\n",
       "      <td>False</td>\n",
       "      <td>False</td>\n",
       "      <td>False</td>\n",
       "      <td>0</td>\n",
       "      <td>False</td>\n",
       "      <td>False</td>\n",
       "      <td>False</td>\n",
       "    </tr>\n",
       "    <tr>\n",
       "      <th>1</th>\n",
       "      <td>ENSG00000227232</td>\n",
       "      <td>WASH7P</td>\n",
       "      <td>1</td>\n",
       "      <td>14363</td>\n",
       "      <td>29806</td>\n",
       "      <td>pseudogene</td>\n",
       "      <td>WAS protein family homolog 7 pseudogene [Sourc...</td>\n",
       "      <td>False</td>\n",
       "      <td>False</td>\n",
       "      <td>False</td>\n",
       "      <td>False</td>\n",
       "      <td>False</td>\n",
       "      <td>0</td>\n",
       "      <td>False</td>\n",
       "      <td>False</td>\n",
       "      <td>False</td>\n",
       "    </tr>\n",
       "    <tr>\n",
       "      <th>2</th>\n",
       "      <td>ENSG00000243485</td>\n",
       "      <td>MIR1302-10</td>\n",
       "      <td>1</td>\n",
       "      <td>29554</td>\n",
       "      <td>31109</td>\n",
       "      <td>lincRNA</td>\n",
       "      <td>microRNA 1302-10 [Source:HGNC Symbol;Acc:38233]</td>\n",
       "      <td>False</td>\n",
       "      <td>False</td>\n",
       "      <td>False</td>\n",
       "      <td>False</td>\n",
       "      <td>False</td>\n",
       "      <td>0</td>\n",
       "      <td>False</td>\n",
       "      <td>False</td>\n",
       "      <td>False</td>\n",
       "    </tr>\n",
       "    <tr>\n",
       "      <th>3</th>\n",
       "      <td>ENSG00000237613</td>\n",
       "      <td>FAM138A</td>\n",
       "      <td>1</td>\n",
       "      <td>34554</td>\n",
       "      <td>36081</td>\n",
       "      <td>lincRNA</td>\n",
       "      <td>family with sequence similarity 138, member A ...</td>\n",
       "      <td>False</td>\n",
       "      <td>False</td>\n",
       "      <td>False</td>\n",
       "      <td>False</td>\n",
       "      <td>False</td>\n",
       "      <td>0</td>\n",
       "      <td>False</td>\n",
       "      <td>False</td>\n",
       "      <td>False</td>\n",
       "    </tr>\n",
       "    <tr>\n",
       "      <th>4</th>\n",
       "      <td>ENSG00000268020</td>\n",
       "      <td>OR4G4P</td>\n",
       "      <td>1</td>\n",
       "      <td>52473</td>\n",
       "      <td>54936</td>\n",
       "      <td>pseudogene</td>\n",
       "      <td>olfactory receptor, family 4, subfamily G, mem...</td>\n",
       "      <td>False</td>\n",
       "      <td>False</td>\n",
       "      <td>False</td>\n",
       "      <td>False</td>\n",
       "      <td>False</td>\n",
       "      <td>0</td>\n",
       "      <td>False</td>\n",
       "      <td>False</td>\n",
       "      <td>False</td>\n",
       "    </tr>\n",
       "  </tbody>\n",
       "</table>\n",
       "</div>"
      ],
      "text/plain": [
       "           gene_id   gene_name chr  start    end gene_biotype  \\\n",
       "0  ENSG00000223972     DDX11L1   1  11869  14412   pseudogene   \n",
       "1  ENSG00000227232      WASH7P   1  14363  29806   pseudogene   \n",
       "2  ENSG00000243485  MIR1302-10   1  29554  31109      lincRNA   \n",
       "3  ENSG00000237613     FAM138A   1  34554  36081      lincRNA   \n",
       "4  ENSG00000268020      OR4G4P   1  52473  54936   pseudogene   \n",
       "\n",
       "                                    gene_description is_oncogene_oncokb  \\\n",
       "0  DEAD/H (Asp-Glu-Ala-Asp/His) box helicase 11 l...              False   \n",
       "1  WAS protein family homolog 7 pseudogene [Sourc...              False   \n",
       "2    microRNA 1302-10 [Source:HGNC Symbol;Acc:38233]              False   \n",
       "3  family with sequence similarity 138, member A ...              False   \n",
       "4  olfactory receptor, family 4, subfamily G, mem...              False   \n",
       "\n",
       "  is_tsupp_oncokb is_oncogene_kb is_tsupp_kb is_driver_intogen  tier_cosmic  \\\n",
       "0           False          False       False             False            0   \n",
       "1           False          False       False             False            0   \n",
       "2           False          False       False             False            0   \n",
       "3           False          False       False             False            0   \n",
       "4           False          False       False             False            0   \n",
       "\n",
       "  is_hallmark_cosmic is_tumor_suppressor_cosmic is_oncogene_cosmic  \n",
       "0              False                      False              False  \n",
       "1              False                      False              False  \n",
       "2              False                      False              False  \n",
       "3              False                      False              False  \n",
       "4              False                      False              False  "
      ]
     },
     "execution_count": 41,
     "metadata": {},
     "output_type": "execute_result"
    }
   ],
   "source": [
    "df.head()"
   ]
  },
  {
   "cell_type": "markdown",
   "metadata": {},
   "source": [
    "all dbs are merged on the top part"
   ]
  },
  {
   "cell_type": "markdown",
   "metadata": {},
   "source": [
    "# post merge edits\n"
   ]
  },
  {
   "cell_type": "code",
   "execution_count": 42,
   "metadata": {},
   "outputs": [
    {
     "data": {
      "text/html": [
       "<div>\n",
       "<style scoped>\n",
       "    .dataframe tbody tr th:only-of-type {\n",
       "        vertical-align: middle;\n",
       "    }\n",
       "\n",
       "    .dataframe tbody tr th {\n",
       "        vertical-align: top;\n",
       "    }\n",
       "\n",
       "    .dataframe thead th {\n",
       "        text-align: right;\n",
       "    }\n",
       "</style>\n",
       "<table border=\"1\" class=\"dataframe\">\n",
       "  <thead>\n",
       "    <tr style=\"text-align: right;\">\n",
       "      <th></th>\n",
       "      <th>gene_id</th>\n",
       "      <th>gene_name</th>\n",
       "      <th>chr</th>\n",
       "      <th>start</th>\n",
       "      <th>end</th>\n",
       "      <th>gene_biotype</th>\n",
       "      <th>gene_description</th>\n",
       "      <th>is_oncogene_oncokb</th>\n",
       "      <th>is_tsupp_oncokb</th>\n",
       "      <th>is_oncogene_kb</th>\n",
       "      <th>is_tsupp_kb</th>\n",
       "      <th>is_driver_intogen</th>\n",
       "      <th>tier_cosmic</th>\n",
       "      <th>is_hallmark_cosmic</th>\n",
       "      <th>is_tumor_suppressor_cosmic</th>\n",
       "      <th>is_oncogene_cosmic</th>\n",
       "    </tr>\n",
       "  </thead>\n",
       "  <tbody>\n",
       "    <tr>\n",
       "      <th>0</th>\n",
       "      <td>ENSG00000223972</td>\n",
       "      <td>DDX11L1</td>\n",
       "      <td>1</td>\n",
       "      <td>11869</td>\n",
       "      <td>14412</td>\n",
       "      <td>pseudogene</td>\n",
       "      <td>DEAD/H (Asp-Glu-Ala-Asp/His) box helicase 11 l...</td>\n",
       "      <td>False</td>\n",
       "      <td>False</td>\n",
       "      <td>False</td>\n",
       "      <td>False</td>\n",
       "      <td>False</td>\n",
       "      <td>0</td>\n",
       "      <td>False</td>\n",
       "      <td>False</td>\n",
       "      <td>False</td>\n",
       "    </tr>\n",
       "    <tr>\n",
       "      <th>1</th>\n",
       "      <td>ENSG00000227232</td>\n",
       "      <td>WASH7P</td>\n",
       "      <td>1</td>\n",
       "      <td>14363</td>\n",
       "      <td>29806</td>\n",
       "      <td>pseudogene</td>\n",
       "      <td>WAS protein family homolog 7 pseudogene [Sourc...</td>\n",
       "      <td>False</td>\n",
       "      <td>False</td>\n",
       "      <td>False</td>\n",
       "      <td>False</td>\n",
       "      <td>False</td>\n",
       "      <td>0</td>\n",
       "      <td>False</td>\n",
       "      <td>False</td>\n",
       "      <td>False</td>\n",
       "    </tr>\n",
       "    <tr>\n",
       "      <th>2</th>\n",
       "      <td>ENSG00000243485</td>\n",
       "      <td>MIR1302-10</td>\n",
       "      <td>1</td>\n",
       "      <td>29554</td>\n",
       "      <td>31109</td>\n",
       "      <td>lincRNA</td>\n",
       "      <td>microRNA 1302-10 [Source:HGNC Symbol;Acc:38233]</td>\n",
       "      <td>False</td>\n",
       "      <td>False</td>\n",
       "      <td>False</td>\n",
       "      <td>False</td>\n",
       "      <td>False</td>\n",
       "      <td>0</td>\n",
       "      <td>False</td>\n",
       "      <td>False</td>\n",
       "      <td>False</td>\n",
       "    </tr>\n",
       "    <tr>\n",
       "      <th>3</th>\n",
       "      <td>ENSG00000237613</td>\n",
       "      <td>FAM138A</td>\n",
       "      <td>1</td>\n",
       "      <td>34554</td>\n",
       "      <td>36081</td>\n",
       "      <td>lincRNA</td>\n",
       "      <td>family with sequence similarity 138, member A ...</td>\n",
       "      <td>False</td>\n",
       "      <td>False</td>\n",
       "      <td>False</td>\n",
       "      <td>False</td>\n",
       "      <td>False</td>\n",
       "      <td>0</td>\n",
       "      <td>False</td>\n",
       "      <td>False</td>\n",
       "      <td>False</td>\n",
       "    </tr>\n",
       "    <tr>\n",
       "      <th>4</th>\n",
       "      <td>ENSG00000268020</td>\n",
       "      <td>OR4G4P</td>\n",
       "      <td>1</td>\n",
       "      <td>52473</td>\n",
       "      <td>54936</td>\n",
       "      <td>pseudogene</td>\n",
       "      <td>olfactory receptor, family 4, subfamily G, mem...</td>\n",
       "      <td>False</td>\n",
       "      <td>False</td>\n",
       "      <td>False</td>\n",
       "      <td>False</td>\n",
       "      <td>False</td>\n",
       "      <td>0</td>\n",
       "      <td>False</td>\n",
       "      <td>False</td>\n",
       "      <td>False</td>\n",
       "    </tr>\n",
       "    <tr>\n",
       "      <th>...</th>\n",
       "      <td>...</td>\n",
       "      <td>...</td>\n",
       "      <td>...</td>\n",
       "      <td>...</td>\n",
       "      <td>...</td>\n",
       "      <td>...</td>\n",
       "      <td>...</td>\n",
       "      <td>...</td>\n",
       "      <td>...</td>\n",
       "      <td>...</td>\n",
       "      <td>...</td>\n",
       "      <td>...</td>\n",
       "      <td>...</td>\n",
       "      <td>...</td>\n",
       "      <td>...</td>\n",
       "      <td>...</td>\n",
       "    </tr>\n",
       "    <tr>\n",
       "      <th>57731</th>\n",
       "      <td>ENSG00000272283</td>\n",
       "      <td>Metazoa_SRP</td>\n",
       "      <td>21</td>\n",
       "      <td>47955709</td>\n",
       "      <td>47956003</td>\n",
       "      <td>misc_RNA</td>\n",
       "      <td>Metazoan signal recognition particle RNA [Sour...</td>\n",
       "      <td>False</td>\n",
       "      <td>False</td>\n",
       "      <td>False</td>\n",
       "      <td>False</td>\n",
       "      <td>False</td>\n",
       "      <td>0</td>\n",
       "      <td>False</td>\n",
       "      <td>False</td>\n",
       "      <td>False</td>\n",
       "    </tr>\n",
       "    <tr>\n",
       "      <th>57732</th>\n",
       "      <td>ENSG00000160307</td>\n",
       "      <td>S100B</td>\n",
       "      <td>21</td>\n",
       "      <td>48018875</td>\n",
       "      <td>48025121</td>\n",
       "      <td>protein_coding</td>\n",
       "      <td>S100 calcium binding protein B [Source:HGNC Sy...</td>\n",
       "      <td>False</td>\n",
       "      <td>False</td>\n",
       "      <td>False</td>\n",
       "      <td>False</td>\n",
       "      <td>False</td>\n",
       "      <td>0</td>\n",
       "      <td>False</td>\n",
       "      <td>False</td>\n",
       "      <td>False</td>\n",
       "    </tr>\n",
       "    <tr>\n",
       "      <th>57733</th>\n",
       "      <td>ENSG00000160310</td>\n",
       "      <td>PRMT2</td>\n",
       "      <td>21</td>\n",
       "      <td>48055079</td>\n",
       "      <td>48085036</td>\n",
       "      <td>protein_coding</td>\n",
       "      <td>protein arginine methyltransferase 2 [Source:H...</td>\n",
       "      <td>False</td>\n",
       "      <td>False</td>\n",
       "      <td>False</td>\n",
       "      <td>False</td>\n",
       "      <td>False</td>\n",
       "      <td>0</td>\n",
       "      <td>False</td>\n",
       "      <td>False</td>\n",
       "      <td>False</td>\n",
       "    </tr>\n",
       "    <tr>\n",
       "      <th>57734</th>\n",
       "      <td>ENSG00000230982</td>\n",
       "      <td>DSTNP1</td>\n",
       "      <td>21</td>\n",
       "      <td>48073470</td>\n",
       "      <td>48073934</td>\n",
       "      <td>pseudogene</td>\n",
       "      <td>destrin (actin depolymerizing factor) pseudoge...</td>\n",
       "      <td>False</td>\n",
       "      <td>False</td>\n",
       "      <td>False</td>\n",
       "      <td>False</td>\n",
       "      <td>False</td>\n",
       "      <td>0</td>\n",
       "      <td>False</td>\n",
       "      <td>False</td>\n",
       "      <td>False</td>\n",
       "    </tr>\n",
       "    <tr>\n",
       "      <th>57735</th>\n",
       "      <td>ENSG00000212932</td>\n",
       "      <td>RPL23AP4</td>\n",
       "      <td>21</td>\n",
       "      <td>48110676</td>\n",
       "      <td>48111157</td>\n",
       "      <td>pseudogene</td>\n",
       "      <td>ribosomal protein L23a pseudogene 4 [Source:HG...</td>\n",
       "      <td>False</td>\n",
       "      <td>False</td>\n",
       "      <td>False</td>\n",
       "      <td>False</td>\n",
       "      <td>False</td>\n",
       "      <td>0</td>\n",
       "      <td>False</td>\n",
       "      <td>False</td>\n",
       "      <td>False</td>\n",
       "    </tr>\n",
       "  </tbody>\n",
       "</table>\n",
       "<p>57736 rows × 16 columns</p>\n",
       "</div>"
      ],
      "text/plain": [
       "               gene_id    gene_name chr     start       end    gene_biotype  \\\n",
       "0      ENSG00000223972      DDX11L1   1     11869     14412      pseudogene   \n",
       "1      ENSG00000227232       WASH7P   1     14363     29806      pseudogene   \n",
       "2      ENSG00000243485   MIR1302-10   1     29554     31109         lincRNA   \n",
       "3      ENSG00000237613      FAM138A   1     34554     36081         lincRNA   \n",
       "4      ENSG00000268020       OR4G4P   1     52473     54936      pseudogene   \n",
       "...                ...          ...  ..       ...       ...             ...   \n",
       "57731  ENSG00000272283  Metazoa_SRP  21  47955709  47956003        misc_RNA   \n",
       "57732  ENSG00000160307        S100B  21  48018875  48025121  protein_coding   \n",
       "57733  ENSG00000160310        PRMT2  21  48055079  48085036  protein_coding   \n",
       "57734  ENSG00000230982       DSTNP1  21  48073470  48073934      pseudogene   \n",
       "57735  ENSG00000212932     RPL23AP4  21  48110676  48111157      pseudogene   \n",
       "\n",
       "                                        gene_description is_oncogene_oncokb  \\\n",
       "0      DEAD/H (Asp-Glu-Ala-Asp/His) box helicase 11 l...              False   \n",
       "1      WAS protein family homolog 7 pseudogene [Sourc...              False   \n",
       "2        microRNA 1302-10 [Source:HGNC Symbol;Acc:38233]              False   \n",
       "3      family with sequence similarity 138, member A ...              False   \n",
       "4      olfactory receptor, family 4, subfamily G, mem...              False   \n",
       "...                                                  ...                ...   \n",
       "57731  Metazoan signal recognition particle RNA [Sour...              False   \n",
       "57732  S100 calcium binding protein B [Source:HGNC Sy...              False   \n",
       "57733  protein arginine methyltransferase 2 [Source:H...              False   \n",
       "57734  destrin (actin depolymerizing factor) pseudoge...              False   \n",
       "57735  ribosomal protein L23a pseudogene 4 [Source:HG...              False   \n",
       "\n",
       "      is_tsupp_oncokb is_oncogene_kb is_tsupp_kb is_driver_intogen  \\\n",
       "0               False          False       False             False   \n",
       "1               False          False       False             False   \n",
       "2               False          False       False             False   \n",
       "3               False          False       False             False   \n",
       "4               False          False       False             False   \n",
       "...               ...            ...         ...               ...   \n",
       "57731           False          False       False             False   \n",
       "57732           False          False       False             False   \n",
       "57733           False          False       False             False   \n",
       "57734           False          False       False             False   \n",
       "57735           False          False       False             False   \n",
       "\n",
       "       tier_cosmic is_hallmark_cosmic is_tumor_suppressor_cosmic  \\\n",
       "0                0              False                      False   \n",
       "1                0              False                      False   \n",
       "2                0              False                      False   \n",
       "3                0              False                      False   \n",
       "4                0              False                      False   \n",
       "...            ...                ...                        ...   \n",
       "57731            0              False                      False   \n",
       "57732            0              False                      False   \n",
       "57733            0              False                      False   \n",
       "57734            0              False                      False   \n",
       "57735            0              False                      False   \n",
       "\n",
       "      is_oncogene_cosmic  \n",
       "0                  False  \n",
       "1                  False  \n",
       "2                  False  \n",
       "3                  False  \n",
       "4                  False  \n",
       "...                  ...  \n",
       "57731              False  \n",
       "57732              False  \n",
       "57733              False  \n",
       "57734              False  \n",
       "57735              False  \n",
       "\n",
       "[57736 rows x 16 columns]"
      ]
     },
     "execution_count": 42,
     "metadata": {},
     "output_type": "execute_result"
    }
   ],
   "source": [
    "df"
   ]
  },
  {
   "cell_type": "code",
   "execution_count": 43,
   "metadata": {},
   "outputs": [],
   "source": [
    "df[\"is_oncogene_consensus\"] = df[['is_oncogene_kb', 'is_oncogene_cosmic']].any(axis=1)\n",
    "df[\"is_tsupp_consensus\"] = df[['is_tsupp_kb', 'is_tumor_suppressor_cosmic']].any(axis=1)\n",
    "\n",
    "# df.drop(columns=['is_oncogene_kb', 'is_tsupp_kb', 'is_oncogene_cosmic', 'is_tumor_suppressor_cosmic'], inplace=True)"
   ]
  },
  {
   "cell_type": "code",
   "execution_count": 47,
   "metadata": {},
   "outputs": [],
   "source": [
    "df['is_gene_of_interest'] = df[['is_oncogene_consensus', 'is_tsupp_consensus', 'is_driver_intogen', \"is_hallmark_cosmic\"]].any(axis=1)\n"
   ]
  },
  {
   "cell_type": "code",
   "execution_count": 51,
   "metadata": {},
   "outputs": [],
   "source": [
    "df['cancer_gene_role'] = np.select(\n",
    "    [\n",
    "        (df['is_oncogene_consensus'] & df['is_tsupp_consensus']),\n",
    "        (df['is_oncogene_consensus'] & ~df['is_tsupp_consensus']),\n",
    "        (~df['is_oncogene_consensus'] & df['is_tsupp_consensus']),\n",
    "        (~df['is_oncogene_consensus'] & ~df['is_tsupp_consensus'])\n",
    "    ],\n",
    "    ['dual_role', 'oncogene', 'tumor_suppressor', 'neither'],\n",
    "    default='unknown'\n",
    ")\n"
   ]
  },
  {
   "cell_type": "markdown",
   "metadata": {},
   "source": [
    "# save to db"
   ]
  },
  {
   "cell_type": "code",
   "execution_count": 59,
   "metadata": {},
   "outputs": [
    {
     "data": {
      "text/plain": [
       "57736"
      ]
     },
     "execution_count": 59,
     "metadata": {},
     "output_type": "execute_result"
    }
   ],
   "source": [
    "from sqlalchemy import create_engine\n",
    "\n",
    "# db engine\n",
    "engine = create_engine('sqlite:///data/db/mirscribe.db')\n",
    "\n",
    "df.to_sql(name=\"genes\", con=engine, if_exists=\"replace\", index=False)"
   ]
  }
 ],
 "metadata": {
  "kernelspec": {
   "display_name": "mirscribe-vcf-8VJm4tPg-py3.10",
   "language": "python",
   "name": "python3"
  },
  "language_info": {
   "codemirror_mode": {
    "name": "ipython",
    "version": 3
   },
   "file_extension": ".py",
   "mimetype": "text/x-python",
   "name": "python",
   "nbconvert_exporter": "python",
   "pygments_lexer": "ipython3",
   "version": "3.10.12"
  }
 },
 "nbformat": 4,
 "nbformat_minor": 2
}
