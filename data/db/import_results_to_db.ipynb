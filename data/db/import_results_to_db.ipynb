{
 "cells": [
  {
   "cell_type": "code",
   "execution_count": 2,
   "metadata": {},
   "outputs": [
    {
     "name": "stdout",
     "output_type": "stream",
     "text": [
      "/home/nazif/thesis/mirscribe-vcf\n"
     ]
    },
    {
     "name": "stderr",
     "output_type": "stream",
     "text": [
      "/home/nazif/.cache/pypoetry/virtualenvs/mirscribe-vcf-8VJm4tPg-py3.10/lib/python3.10/site-packages/IPython/core/magics/osm.py:417: UserWarning: This is now an optional IPython functionality, setting dhist requires you to install the `pickleshare` library.\n",
      "  self.shell.db['dhist'] = compress_dhist(dhist)[-100:]\n"
     ]
    }
   ],
   "source": [
    "cd ../.."
   ]
  },
  {
   "cell_type": "code",
   "execution_count": 3,
   "metadata": {},
   "outputs": [
    {
     "name": "stderr",
     "output_type": "stream",
     "text": [
      "INFO:pyensembl.sequence_data:Loaded sequence dictionary from /home/nazif/thesis/data/pyensembl/GRCh37/ensembl75/Homo_sapiens.GRCh37.75.cdna.all.fa.gz.pickle\n",
      "INFO:pyensembl.sequence_data:Loaded sequence dictionary from /home/nazif/thesis/data/pyensembl/GRCh37/ensembl75/Homo_sapiens.GRCh37.75.ncrna.fa.gz.pickle\n",
      "INFO:pyensembl.sequence_data:Loaded sequence dictionary from /home/nazif/thesis/data/pyensembl/GRCh37/ensembl75/Homo_sapiens.GRCh37.75.pep.all.fa.gz.pickle\n",
      "INFO:pyensembl.sequence_data:Loaded sequence dictionary from /home/nazif/thesis/data/pyensembl/GRCh37/ensembl75/Homo_sapiens.GRCh37.75.cdna.all.fa.gz.pickle\n",
      "INFO:pyensembl.sequence_data:Loaded sequence dictionary from /home/nazif/thesis/data/pyensembl/GRCh37/ensembl75/Homo_sapiens.GRCh37.75.ncrna.fa.gz.pickle\n",
      "INFO:pyensembl.sequence_data:Loaded sequence dictionary from /home/nazif/thesis/data/pyensembl/GRCh37/ensembl75/Homo_sapiens.GRCh37.75.pep.all.fa.gz.pickle\n"
     ]
    }
   ],
   "source": [
    "import sqlite3\n",
    "import pandas as pd\n",
    "\n",
    "from scripts.pipeline_steps import step5 as s5\n",
    "from scripts.pyensembl_operations import import_pyensembl\n",
    "g37 = import_pyensembl(37)\n",
    "\n",
    "from scripts.notebook_operations import setup_notebook\n",
    "\n",
    "engine, g37, transcripts, genes, mirnas = setup_notebook()\n"
   ]
  },
  {
   "cell_type": "markdown",
   "metadata": {},
   "source": [
    "# functions"
   ]
  },
  {
   "cell_type": "code",
   "execution_count": 2,
   "metadata": {},
   "outputs": [],
   "source": [
    "def drop_table(db_path, table_name):\n",
    "    \"\"\"\n",
    "    Drop a table from a SQLite database.\n",
    "\n",
    "    Args:\n",
    "        db_path (str): The path to the SQLite database file.\n",
    "        table_name (str): The name of the table to drop.\n",
    "    \"\"\"\n",
    "    conn = sqlite3.connect(db_path)\n",
    "    c = conn.cursor()\n",
    "\n",
    "    # Drop the table\n",
    "    c.execute(f\"DROP TABLE IF EXISTS {table_name}\")\n",
    "\n",
    "    conn.commit()\n",
    "    conn.close()"
   ]
  },
  {
   "cell_type": "markdown",
   "metadata": {},
   "source": [
    "# import real data"
   ]
  },
  {
   "cell_type": "code",
   "execution_count": 3,
   "metadata": {},
   "outputs": [],
   "source": [
    "drop_table('data/db/mirscribe.db', 'predictions')"
   ]
  },
  {
   "cell_type": "code",
   "execution_count": null,
   "metadata": {},
   "outputs": [],
   "source": [
    "s5.crawl_and_import_results('results/21/', 'a', 'data/db/mirscribe.db', 'predictions', g37)"
   ]
  },
  {
   "cell_type": "markdown",
   "metadata": {},
   "source": [
    "# import synthetic data"
   ]
  },
  {
   "cell_type": "code",
   "execution_count": null,
   "metadata": {},
   "outputs": [],
   "source": [
    "drop_table('data/db/mirscribe.db', 'synth')\n"
   ]
  },
  {
   "cell_type": "code",
   "execution_count": null,
   "metadata": {},
   "outputs": [],
   "source": [
    "s5.crawl_and_import_results(folder_path='results/synth/', ending_string='a+', db_path='data/db/mirscribe.db', table_name='synth', assembly=g37)\n"
   ]
  },
  {
   "cell_type": "markdown",
   "metadata": {},
   "source": [
    "# post processing"
   ]
  },
  {
   "cell_type": "code",
   "execution_count": 5,
   "metadata": {},
   "outputs": [
    {
     "name": "stderr",
     "output_type": "stream",
     "text": [
      "/tmp/ipykernel_41470/1280123063.py:14: FutureWarning: Downcasting object dtype arrays on .fillna, .ffill, .bfill is deprecated and will change in a future version. Call result.infer_objects(copy=False) instead. To opt-in to the future behavior, set `pd.set_option('future.no_silent_downcasting', True)`\n",
      "  df = df.fillna(False)\n"
     ]
    }
   ],
   "source": [
    "df = pd.read_sql_table(\"predictions\", engine)\n",
    "\n",
    "df = df.merge(genes, on=\"gene_id\", how=\"left\")\n",
    "df = df.merge(mirnas, on=\"mirna_accession\", how=\"left\")\n",
    "df.drop(columns=[\"chr\", \"start\", \"end\", \"sequence\", \"conservation\", \"mirna_name_cmc\"], inplace=True)\n",
    "\n",
    "# fill NAs\n",
    "df[\"mutsig\"] = df[\"mutsig\"].fillna(\"not_found\")\n",
    "df[\"gene_id\"] = df[\"gene_id\"].fillna(\"not_found\")\n",
    "df[\"gene_name\"] = df[\"gene_name\"].fillna(\"not_found\")\n",
    "df[\"gene_biotype\"] = df[\"gene_biotype\"].fillna(\"not_found\")\n",
    "df[\"gene_description\"] = df[\"gene_description\"].fillna(\"not_found\")\n",
    "df[\"tier_cosmic\"] = df[\"tier_cosmic\"].fillna(0)\n",
    "df = df.fillna(False)\n",
    "\n",
    "df.to_parquet(\"data/real.parquet\")"
   ]
  },
  {
   "cell_type": "code",
   "execution_count": 6,
   "metadata": {},
   "outputs": [
    {
     "name": "stderr",
     "output_type": "stream",
     "text": [
      "/tmp/ipykernel_41470/2549095794.py:14: FutureWarning: Downcasting object dtype arrays on .fillna, .ffill, .bfill is deprecated and will change in a future version. Call result.infer_objects(copy=False) instead. To opt-in to the future behavior, set `pd.set_option('future.no_silent_downcasting', True)`\n",
      "  fg = fg.fillna(False)\n"
     ]
    }
   ],
   "source": [
    "fg = pd.read_sql_table(\"synth\", engine)\n",
    "\n",
    "fg = fg.merge(genes, on=\"gene_id\", how=\"left\")\n",
    "fg = fg.merge(mirnas, on=\"mirna_accession\", how=\"left\")\n",
    "fg.drop(columns=[\"chr\", \"start\", \"end\", \"sequence\", \"conservation\", \"mirna_name_cmc\"], inplace=True)\n",
    "\n",
    "# fill NAs\n",
    "fg[\"mutsig\"] = fg[\"mutsig\"].fillna(\"not_found\")\n",
    "fg[\"gene_id\"] = fg[\"gene_id\"].fillna(\"not_found\")\n",
    "fg[\"gene_name\"] = fg[\"gene_name\"].fillna(\"not_found\")\n",
    "fg[\"gene_biotype\"] = fg[\"gene_biotype\"].fillna(\"not_found\")\n",
    "fg[\"gene_description\"] = fg[\"gene_description\"].fillna(\"not_found\")\n",
    "fg[\"tier_cosmic\"] = fg[\"tier_cosmic\"].fillna(0)\n",
    "fg = fg.fillna(False)\n",
    "\n",
    "fg.to_parquet(\"data/synth.parquet\")"
   ]
  }
 ],
 "metadata": {
  "kernelspec": {
   "display_name": "mirscribe-vcf-8VJm4tPg-py3.10",
   "language": "python",
   "name": "python3"
  },
  "language_info": {
   "codemirror_mode": {
    "name": "ipython",
    "version": 3
   },
   "file_extension": ".py",
   "mimetype": "text/x-python",
   "name": "python",
   "nbconvert_exporter": "python",
   "pygments_lexer": "ipython3",
   "version": "3.10.12"
  }
 },
 "nbformat": 4,
 "nbformat_minor": 2
}
