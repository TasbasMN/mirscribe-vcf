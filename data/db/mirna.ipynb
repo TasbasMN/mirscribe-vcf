{
 "cells": [
  {
   "cell_type": "code",
   "execution_count": 1,
   "metadata": {},
   "outputs": [
    {
     "name": "stdout",
     "output_type": "stream",
     "text": [
      "/home/nazif/thesis/mirscribe-vcf\n"
     ]
    },
    {
     "name": "stderr",
     "output_type": "stream",
     "text": [
      "/home/nazif/.cache/pypoetry/virtualenvs/mirscribe-vcf-8VJm4tPg-py3.10/lib/python3.10/site-packages/IPython/core/magics/osm.py:417: UserWarning: This is now an optional IPython functionality, setting dhist requires you to install the `pickleshare` library.\n",
      "  self.shell.db['dhist'] = compress_dhist(dhist)[-100:]\n"
     ]
    }
   ],
   "source": [
    "cd ../.."
   ]
  },
  {
   "cell_type": "code",
   "execution_count": 2,
   "metadata": {},
   "outputs": [],
   "source": [
    "from sqlalchemy import create_engine\n",
    "\n",
    "import pandas as pd\n",
    "\n",
    "# db engine\n",
    "engine = create_engine('sqlite:///data/db/mirscribe.db')\n",
    "\n"
   ]
  },
  {
   "cell_type": "markdown",
   "metadata": {},
   "source": [
    "# mirnas"
   ]
  },
  {
   "cell_type": "code",
   "execution_count": 3,
   "metadata": {},
   "outputs": [
    {
     "data": {
      "text/html": [
       "<div>\n",
       "<style scoped>\n",
       "    .dataframe tbody tr th:only-of-type {\n",
       "        vertical-align: middle;\n",
       "    }\n",
       "\n",
       "    .dataframe tbody tr th {\n",
       "        vertical-align: top;\n",
       "    }\n",
       "\n",
       "    .dataframe thead th {\n",
       "        text-align: right;\n",
       "    }\n",
       "</style>\n",
       "<table border=\"1\" class=\"dataframe\">\n",
       "  <thead>\n",
       "    <tr style=\"text-align: right;\">\n",
       "      <th></th>\n",
       "      <th>mirna_name</th>\n",
       "      <th>mirna_accession</th>\n",
       "      <th>sequence</th>\n",
       "      <th>mirna_family</th>\n",
       "      <th>conservation</th>\n",
       "      <th>seed</th>\n",
       "    </tr>\n",
       "  </thead>\n",
       "  <tbody>\n",
       "    <tr>\n",
       "      <th>0</th>\n",
       "      <td>hsa-let-7a-5p</td>\n",
       "      <td>MIMAT0000062</td>\n",
       "      <td>AACTATACAACCTACTACCTCA</td>\n",
       "      <td>let-7-5p/98-5p</td>\n",
       "      <td>2.0</td>\n",
       "      <td>ACTATAC</td>\n",
       "    </tr>\n",
       "    <tr>\n",
       "      <th>1</th>\n",
       "      <td>hsa-let-7b-5p</td>\n",
       "      <td>MIMAT0000063</td>\n",
       "      <td>AACCACACAACCTACTACCTCA</td>\n",
       "      <td>let-7-5p/98-5p</td>\n",
       "      <td>2.0</td>\n",
       "      <td>ACCACAC</td>\n",
       "    </tr>\n",
       "    <tr>\n",
       "      <th>2</th>\n",
       "      <td>hsa-let-7c-5p</td>\n",
       "      <td>MIMAT0000064</td>\n",
       "      <td>AACCATACAACCTACTACCTCA</td>\n",
       "      <td>let-7-5p/98-5p</td>\n",
       "      <td>2.0</td>\n",
       "      <td>ACCATAC</td>\n",
       "    </tr>\n",
       "    <tr>\n",
       "      <th>3</th>\n",
       "      <td>hsa-let-7d-5p</td>\n",
       "      <td>MIMAT0000065</td>\n",
       "      <td>AACTATGCAACCTACTACCTCT</td>\n",
       "      <td>let-7-5p/98-5p</td>\n",
       "      <td>2.0</td>\n",
       "      <td>ACTATGC</td>\n",
       "    </tr>\n",
       "    <tr>\n",
       "      <th>4</th>\n",
       "      <td>hsa-let-7e-5p</td>\n",
       "      <td>MIMAT0000066</td>\n",
       "      <td>AACTATACAACCTCCTACCTCA</td>\n",
       "      <td>let-7-5p/98-5p</td>\n",
       "      <td>2.0</td>\n",
       "      <td>ACTATAC</td>\n",
       "    </tr>\n",
       "  </tbody>\n",
       "</table>\n",
       "</div>"
      ],
      "text/plain": [
       "      mirna_name mirna_accession                sequence    mirna_family  \\\n",
       "0  hsa-let-7a-5p    MIMAT0000062  AACTATACAACCTACTACCTCA  let-7-5p/98-5p   \n",
       "1  hsa-let-7b-5p    MIMAT0000063  AACCACACAACCTACTACCTCA  let-7-5p/98-5p   \n",
       "2  hsa-let-7c-5p    MIMAT0000064  AACCATACAACCTACTACCTCA  let-7-5p/98-5p   \n",
       "3  hsa-let-7d-5p    MIMAT0000065  AACTATGCAACCTACTACCTCT  let-7-5p/98-5p   \n",
       "4  hsa-let-7e-5p    MIMAT0000066  AACTATACAACCTCCTACCTCA  let-7-5p/98-5p   \n",
       "\n",
       "   conservation     seed  \n",
       "0           2.0  ACTATAC  \n",
       "1           2.0  ACCACAC  \n",
       "2           2.0  ACCATAC  \n",
       "3           2.0  ACTATGC  \n",
       "4           2.0  ACTATAC  "
      ]
     },
     "execution_count": 3,
     "metadata": {},
     "output_type": "execute_result"
    }
   ],
   "source": [
    "mirna_df = pd.read_csv('data/mirna/mirna.csv')\n",
    "mirna_df[\"seed\"] = mirna_df.sequence.str[1:8]\n",
    "\n",
    "mirna_df.head()"
   ]
  },
  {
   "cell_type": "code",
   "execution_count": 4,
   "metadata": {},
   "outputs": [
    {
     "data": {
      "text/plain": [
       "mirna_name         0\n",
       "mirna_accession    0\n",
       "sequence           0\n",
       "mirna_family       0\n",
       "conservation       0\n",
       "seed               0\n",
       "dtype: int64"
      ]
     },
     "execution_count": 4,
     "metadata": {},
     "output_type": "execute_result"
    }
   ],
   "source": [
    "mirna_df.isna().sum()"
   ]
  },
  {
   "cell_type": "markdown",
   "metadata": {},
   "source": [
    "# transcripts"
   ]
  },
  {
   "cell_type": "markdown",
   "metadata": {},
   "source": [
    "# SAVE TO DB"
   ]
  },
  {
   "cell_type": "code",
   "execution_count": 16,
   "metadata": {},
   "outputs": [
    {
     "data": {
      "text/plain": [
       "4384"
      ]
     },
     "execution_count": 16,
     "metadata": {},
     "output_type": "execute_result"
    }
   ],
   "source": [
    "mirna_df.to_sql('mirnas', engine, if_exists='replace', index=False)\n",
    " "
   ]
  }
 ],
 "metadata": {
  "kernelspec": {
   "display_name": "mirscribe-vcf-8VJm4tPg-py3.10",
   "language": "python",
   "name": "python3"
  },
  "language_info": {
   "codemirror_mode": {
    "name": "ipython",
    "version": 3
   },
   "file_extension": ".py",
   "mimetype": "text/x-python",
   "name": "python",
   "nbconvert_exporter": "python",
   "pygments_lexer": "ipython3",
   "version": "3.10.12"
  }
 },
 "nbformat": 4,
 "nbformat_minor": 2
}
