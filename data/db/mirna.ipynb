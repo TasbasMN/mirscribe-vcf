{
 "cells": [
  {
   "cell_type": "code",
   "execution_count": 1,
   "metadata": {},
   "outputs": [
    {
     "name": "stdout",
     "output_type": "stream",
     "text": [
      "/home/nazif/thesis/mirscribe-vcf\n"
     ]
    },
    {
     "name": "stderr",
     "output_type": "stream",
     "text": [
      "/home/nazif/.cache/pypoetry/virtualenvs/mirscribe-vcf-8VJm4tPg-py3.10/lib/python3.10/site-packages/IPython/core/magics/osm.py:417: UserWarning: This is now an optional IPython functionality, setting dhist requires you to install the `pickleshare` library.\n",
      "  self.shell.db['dhist'] = compress_dhist(dhist)[-100:]\n"
     ]
    }
   ],
   "source": [
    "cd ../.."
   ]
  },
  {
   "cell_type": "code",
   "execution_count": 2,
   "metadata": {},
   "outputs": [],
   "source": [
    "from sqlalchemy import create_engine\n",
    "\n",
    "import pandas as pd\n",
    "\n",
    "# db engine\n",
    "engine = create_engine('sqlite:///data/db/mirscribe.db')\n",
    "\n"
   ]
  },
  {
   "cell_type": "markdown",
   "metadata": {},
   "source": [
    "# mirnas"
   ]
  },
  {
   "cell_type": "code",
   "execution_count": 3,
   "metadata": {},
   "outputs": [
    {
     "data": {
      "text/html": [
       "<div>\n",
       "<style scoped>\n",
       "    .dataframe tbody tr th:only-of-type {\n",
       "        vertical-align: middle;\n",
       "    }\n",
       "\n",
       "    .dataframe tbody tr th {\n",
       "        vertical-align: top;\n",
       "    }\n",
       "\n",
       "    .dataframe thead th {\n",
       "        text-align: right;\n",
       "    }\n",
       "</style>\n",
       "<table border=\"1\" class=\"dataframe\">\n",
       "  <thead>\n",
       "    <tr style=\"text-align: right;\">\n",
       "      <th></th>\n",
       "      <th>mirna_name</th>\n",
       "      <th>mirna_accession</th>\n",
       "      <th>sequence</th>\n",
       "      <th>mirna_family</th>\n",
       "      <th>conservation</th>\n",
       "      <th>seed</th>\n",
       "    </tr>\n",
       "  </thead>\n",
       "  <tbody>\n",
       "    <tr>\n",
       "      <th>0</th>\n",
       "      <td>hsa-let-7a-5p</td>\n",
       "      <td>MIMAT0000062</td>\n",
       "      <td>AACTATACAACCTACTACCTCA</td>\n",
       "      <td>let-7-5p/98-5p</td>\n",
       "      <td>2.0</td>\n",
       "      <td>ACTATAC</td>\n",
       "    </tr>\n",
       "    <tr>\n",
       "      <th>1</th>\n",
       "      <td>hsa-let-7b-5p</td>\n",
       "      <td>MIMAT0000063</td>\n",
       "      <td>AACCACACAACCTACTACCTCA</td>\n",
       "      <td>let-7-5p/98-5p</td>\n",
       "      <td>2.0</td>\n",
       "      <td>ACCACAC</td>\n",
       "    </tr>\n",
       "    <tr>\n",
       "      <th>2</th>\n",
       "      <td>hsa-let-7c-5p</td>\n",
       "      <td>MIMAT0000064</td>\n",
       "      <td>AACCATACAACCTACTACCTCA</td>\n",
       "      <td>let-7-5p/98-5p</td>\n",
       "      <td>2.0</td>\n",
       "      <td>ACCATAC</td>\n",
       "    </tr>\n",
       "    <tr>\n",
       "      <th>3</th>\n",
       "      <td>hsa-let-7d-5p</td>\n",
       "      <td>MIMAT0000065</td>\n",
       "      <td>AACTATGCAACCTACTACCTCT</td>\n",
       "      <td>let-7-5p/98-5p</td>\n",
       "      <td>2.0</td>\n",
       "      <td>ACTATGC</td>\n",
       "    </tr>\n",
       "    <tr>\n",
       "      <th>4</th>\n",
       "      <td>hsa-let-7e-5p</td>\n",
       "      <td>MIMAT0000066</td>\n",
       "      <td>AACTATACAACCTCCTACCTCA</td>\n",
       "      <td>let-7-5p/98-5p</td>\n",
       "      <td>2.0</td>\n",
       "      <td>ACTATAC</td>\n",
       "    </tr>\n",
       "  </tbody>\n",
       "</table>\n",
       "</div>"
      ],
      "text/plain": [
       "      mirna_name mirna_accession                sequence    mirna_family  \\\n",
       "0  hsa-let-7a-5p    MIMAT0000062  AACTATACAACCTACTACCTCA  let-7-5p/98-5p   \n",
       "1  hsa-let-7b-5p    MIMAT0000063  AACCACACAACCTACTACCTCA  let-7-5p/98-5p   \n",
       "2  hsa-let-7c-5p    MIMAT0000064  AACCATACAACCTACTACCTCA  let-7-5p/98-5p   \n",
       "3  hsa-let-7d-5p    MIMAT0000065  AACTATGCAACCTACTACCTCT  let-7-5p/98-5p   \n",
       "4  hsa-let-7e-5p    MIMAT0000066  AACTATACAACCTCCTACCTCA  let-7-5p/98-5p   \n",
       "\n",
       "   conservation     seed  \n",
       "0           2.0  ACTATAC  \n",
       "1           2.0  ACCACAC  \n",
       "2           2.0  ACCATAC  \n",
       "3           2.0  ACTATGC  \n",
       "4           2.0  ACTATAC  "
      ]
     },
     "execution_count": 3,
     "metadata": {},
     "output_type": "execute_result"
    }
   ],
   "source": [
    "mirna_df = pd.read_csv('data/mirna/mirna.csv')\n",
    "mirna_df[\"seed\"] = mirna_df.sequence.str[1:8]\n",
    "\n",
    "mirna_df.head()"
   ]
  },
  {
   "cell_type": "code",
   "execution_count": 4,
   "metadata": {},
   "outputs": [
    {
     "data": {
      "text/plain": [
       "mirna_name         0\n",
       "mirna_accession    0\n",
       "sequence           0\n",
       "mirna_family       0\n",
       "conservation       0\n",
       "seed               0\n",
       "dtype: int64"
      ]
     },
     "execution_count": 4,
     "metadata": {},
     "output_type": "execute_result"
    }
   ],
   "source": [
    "mirna_df.isna().sum()"
   ]
  },
  {
   "cell_type": "markdown",
   "metadata": {},
   "source": [
    "# cancer mirna consensus"
   ]
  },
  {
   "cell_type": "code",
   "execution_count": 5,
   "metadata": {},
   "outputs": [
    {
     "data": {
      "text/html": [
       "<div>\n",
       "<style scoped>\n",
       "    .dataframe tbody tr th:only-of-type {\n",
       "        vertical-align: middle;\n",
       "    }\n",
       "\n",
       "    .dataframe tbody tr th {\n",
       "        vertical-align: top;\n",
       "    }\n",
       "\n",
       "    .dataframe thead th {\n",
       "        text-align: right;\n",
       "    }\n",
       "</style>\n",
       "<table border=\"1\" class=\"dataframe\">\n",
       "  <thead>\n",
       "    <tr style=\"text-align: right;\">\n",
       "      <th></th>\n",
       "      <th>mirna_name_cmc</th>\n",
       "      <th>is_mirna_oncogene</th>\n",
       "      <th>is_mirna_tumor_suppressor</th>\n",
       "    </tr>\n",
       "  </thead>\n",
       "  <tbody>\n",
       "    <tr>\n",
       "      <th>0</th>\n",
       "      <td>hsa-miR-100</td>\n",
       "      <td>False</td>\n",
       "      <td>True</td>\n",
       "    </tr>\n",
       "    <tr>\n",
       "      <th>1</th>\n",
       "      <td>hsa-miR-101</td>\n",
       "      <td>False</td>\n",
       "      <td>True</td>\n",
       "    </tr>\n",
       "    <tr>\n",
       "      <th>3</th>\n",
       "      <td>hsa-miR-103a</td>\n",
       "      <td>True</td>\n",
       "      <td>False</td>\n",
       "    </tr>\n",
       "    <tr>\n",
       "      <th>5</th>\n",
       "      <td>hsa-miR-106a</td>\n",
       "      <td>False</td>\n",
       "      <td>False</td>\n",
       "    </tr>\n",
       "    <tr>\n",
       "      <th>6</th>\n",
       "      <td>hsa-miR-106b</td>\n",
       "      <td>True</td>\n",
       "      <td>False</td>\n",
       "    </tr>\n",
       "  </tbody>\n",
       "</table>\n",
       "</div>"
      ],
      "text/plain": [
       "  mirna_name_cmc  is_mirna_oncogene  is_mirna_tumor_suppressor\n",
       "0    hsa-miR-100              False                       True\n",
       "1    hsa-miR-101              False                       True\n",
       "3   hsa-miR-103a               True                      False\n",
       "5   hsa-miR-106a              False                      False\n",
       "6   hsa-miR-106b               True                      False"
      ]
     },
     "execution_count": 5,
     "metadata": {},
     "output_type": "execute_result"
    }
   ],
   "source": [
    "cmc = pd.read_csv(\"data/mirna_cmc/cmc_mirnas.csv\")\n",
    "\n",
    "rename_dict = {\n",
    "    'miRNA precursor/locus ID (miRBase)': 'miRNA_ID_miRBase',\n",
    "    'miRNA ID (miRBase)': 'mirna_name_cmc',\n",
    "    'miRNA precursor/locus ID (MirGeneDB)': 'miRNA_ID_MirGeneDB',\n",
    "    'oncogene (O)/tumor-suppressor (TS)': 'oncogene_tumor_suppressor'\n",
    "}\n",
    "\n",
    "cmc = (\n",
    "    cmc.rename(columns=rename_dict)\n",
    "    .assign(mirna_name_cmc=lambda x: 'hsa-' + x['mirna_name_cmc'].astype(str))\n",
    "    .assign(is_mirna_oncogene=lambda x: x['oncogene_tumor_suppressor'] == 'O',\n",
    "            is_mirna_tumor_suppressor=lambda x: x['oncogene_tumor_suppressor'] == 'TS')\n",
    "    .drop(columns=['oncogene_tumor_suppressor'])\n",
    "    [['mirna_name_cmc', 'is_mirna_oncogene', 'is_mirna_tumor_suppressor']]\n",
    "    .drop_duplicates()\n",
    ")\n",
    "\n",
    "cmc.head()\n"
   ]
  },
  {
   "cell_type": "code",
   "execution_count": 6,
   "metadata": {},
   "outputs": [],
   "source": [
    "def modify_mirna_name(row):\n",
    "    return row[:-3] if row.endswith(\"p\") else row\n",
    "\n",
    "mirna_df['mirna_name_cmc'] = mirna_df['mirna_name'].apply(modify_mirna_name)"
   ]
  },
  {
   "cell_type": "code",
   "execution_count": 7,
   "metadata": {},
   "outputs": [
    {
     "data": {
      "text/plain": [
       "mirna_name_cmc\n",
       "True    134\n",
       "Name: count, dtype: int64"
      ]
     },
     "execution_count": 7,
     "metadata": {},
     "output_type": "execute_result"
    }
   ],
   "source": [
    "cmc.mirna_name_cmc.isin(mirna_df.mirna_name_cmc).value_counts()\n"
   ]
  },
  {
   "cell_type": "code",
   "execution_count": 8,
   "metadata": {},
   "outputs": [
    {
     "name": "stderr",
     "output_type": "stream",
     "text": [
      "/tmp/ipykernel_79580/534122014.py:2: FutureWarning: Downcasting object dtype arrays on .fillna, .ffill, .bfill is deprecated and will change in a future version. Call result.infer_objects(copy=False) instead. To opt-in to the future behavior, set `pd.set_option('future.no_silent_downcasting', True)`\n",
      "  mirna_df.fillna({'is_mirna_oncogene': False, 'is_mirna_tumor_suppressor': False}, inplace=True)\n"
     ]
    }
   ],
   "source": [
    "mirna_df = mirna_df.merge(cmc, on='mirna_name_cmc', how='left')\n",
    "mirna_df.fillna({'is_mirna_oncogene': False, 'is_mirna_tumor_suppressor': False}, inplace=True)"
   ]
  },
  {
   "cell_type": "code",
   "execution_count": 9,
   "metadata": {},
   "outputs": [
    {
     "data": {
      "text/html": [
       "<div>\n",
       "<style scoped>\n",
       "    .dataframe tbody tr th:only-of-type {\n",
       "        vertical-align: middle;\n",
       "    }\n",
       "\n",
       "    .dataframe tbody tr th {\n",
       "        vertical-align: top;\n",
       "    }\n",
       "\n",
       "    .dataframe thead th {\n",
       "        text-align: right;\n",
       "    }\n",
       "</style>\n",
       "<table border=\"1\" class=\"dataframe\">\n",
       "  <thead>\n",
       "    <tr style=\"text-align: right;\">\n",
       "      <th></th>\n",
       "      <th>mirna_name</th>\n",
       "      <th>mirna_accession</th>\n",
       "      <th>sequence</th>\n",
       "      <th>mirna_family</th>\n",
       "      <th>conservation</th>\n",
       "      <th>seed</th>\n",
       "      <th>mirna_name_cmc</th>\n",
       "      <th>is_mirna_oncogene</th>\n",
       "      <th>is_mirna_tumor_suppressor</th>\n",
       "    </tr>\n",
       "  </thead>\n",
       "  <tbody>\n",
       "    <tr>\n",
       "      <th>0</th>\n",
       "      <td>hsa-let-7a-5p</td>\n",
       "      <td>MIMAT0000062</td>\n",
       "      <td>AACTATACAACCTACTACCTCA</td>\n",
       "      <td>let-7-5p/98-5p</td>\n",
       "      <td>2.0</td>\n",
       "      <td>ACTATAC</td>\n",
       "      <td>hsa-let-7a</td>\n",
       "      <td>False</td>\n",
       "      <td>False</td>\n",
       "    </tr>\n",
       "    <tr>\n",
       "      <th>1</th>\n",
       "      <td>hsa-let-7b-5p</td>\n",
       "      <td>MIMAT0000063</td>\n",
       "      <td>AACCACACAACCTACTACCTCA</td>\n",
       "      <td>let-7-5p/98-5p</td>\n",
       "      <td>2.0</td>\n",
       "      <td>ACCACAC</td>\n",
       "      <td>hsa-let-7b</td>\n",
       "      <td>False</td>\n",
       "      <td>True</td>\n",
       "    </tr>\n",
       "    <tr>\n",
       "      <th>2</th>\n",
       "      <td>hsa-let-7c-5p</td>\n",
       "      <td>MIMAT0000064</td>\n",
       "      <td>AACCATACAACCTACTACCTCA</td>\n",
       "      <td>let-7-5p/98-5p</td>\n",
       "      <td>2.0</td>\n",
       "      <td>ACCATAC</td>\n",
       "      <td>hsa-let-7c</td>\n",
       "      <td>False</td>\n",
       "      <td>True</td>\n",
       "    </tr>\n",
       "    <tr>\n",
       "      <th>3</th>\n",
       "      <td>hsa-let-7d-5p</td>\n",
       "      <td>MIMAT0000065</td>\n",
       "      <td>AACTATGCAACCTACTACCTCT</td>\n",
       "      <td>let-7-5p/98-5p</td>\n",
       "      <td>2.0</td>\n",
       "      <td>ACTATGC</td>\n",
       "      <td>hsa-let-7d</td>\n",
       "      <td>False</td>\n",
       "      <td>False</td>\n",
       "    </tr>\n",
       "    <tr>\n",
       "      <th>4</th>\n",
       "      <td>hsa-let-7e-5p</td>\n",
       "      <td>MIMAT0000066</td>\n",
       "      <td>AACTATACAACCTCCTACCTCA</td>\n",
       "      <td>let-7-5p/98-5p</td>\n",
       "      <td>2.0</td>\n",
       "      <td>ACTATAC</td>\n",
       "      <td>hsa-let-7e</td>\n",
       "      <td>False</td>\n",
       "      <td>True</td>\n",
       "    </tr>\n",
       "    <tr>\n",
       "      <th>...</th>\n",
       "      <td>...</td>\n",
       "      <td>...</td>\n",
       "      <td>...</td>\n",
       "      <td>...</td>\n",
       "      <td>...</td>\n",
       "      <td>...</td>\n",
       "      <td>...</td>\n",
       "      <td>...</td>\n",
       "      <td>...</td>\n",
       "    </tr>\n",
       "    <tr>\n",
       "      <th>2651</th>\n",
       "      <td>hsa-miR-12131</td>\n",
       "      <td>MIMAT0049025</td>\n",
       "      <td>TGGGAGTACACCTCTCCAAA</td>\n",
       "      <td>miR-12131_pred</td>\n",
       "      <td>-1.0</td>\n",
       "      <td>GGGAGTA</td>\n",
       "      <td>hsa-miR-12131</td>\n",
       "      <td>False</td>\n",
       "      <td>False</td>\n",
       "    </tr>\n",
       "    <tr>\n",
       "      <th>2652</th>\n",
       "      <td>hsa-miR-12132</td>\n",
       "      <td>MIMAT0049026</td>\n",
       "      <td>CATCATAATTCTCACAGTAATA</td>\n",
       "      <td>miR-12132_pred</td>\n",
       "      <td>2.0</td>\n",
       "      <td>ATCATAA</td>\n",
       "      <td>hsa-miR-12132</td>\n",
       "      <td>False</td>\n",
       "      <td>False</td>\n",
       "    </tr>\n",
       "    <tr>\n",
       "      <th>2653</th>\n",
       "      <td>hsa-miR-12133</td>\n",
       "      <td>MIMAT0049027</td>\n",
       "      <td>TGTACTTTTTAATGGTGCCAAG</td>\n",
       "      <td>miR-12133_pred</td>\n",
       "      <td>2.0</td>\n",
       "      <td>GTACTTT</td>\n",
       "      <td>hsa-miR-12133</td>\n",
       "      <td>False</td>\n",
       "      <td>False</td>\n",
       "    </tr>\n",
       "    <tr>\n",
       "      <th>2654</th>\n",
       "      <td>hsa-miR-12135</td>\n",
       "      <td>MIMAT0049031</td>\n",
       "      <td>TTTACAAACAAACCTTTA</td>\n",
       "      <td>miR-12135_pred</td>\n",
       "      <td>-1.0</td>\n",
       "      <td>TTACAAA</td>\n",
       "      <td>hsa-miR-12135</td>\n",
       "      <td>False</td>\n",
       "      <td>False</td>\n",
       "    </tr>\n",
       "    <tr>\n",
       "      <th>2655</th>\n",
       "      <td>hsa-miR-12136</td>\n",
       "      <td>MIMAT0049032</td>\n",
       "      <td>GGCCTCCATGACTTTTTC</td>\n",
       "      <td>miR-12136_pred</td>\n",
       "      <td>-1.0</td>\n",
       "      <td>GCCTCCA</td>\n",
       "      <td>hsa-miR-12136</td>\n",
       "      <td>False</td>\n",
       "      <td>False</td>\n",
       "    </tr>\n",
       "  </tbody>\n",
       "</table>\n",
       "<p>2656 rows × 9 columns</p>\n",
       "</div>"
      ],
      "text/plain": [
       "         mirna_name mirna_accession                sequence    mirna_family  \\\n",
       "0     hsa-let-7a-5p    MIMAT0000062  AACTATACAACCTACTACCTCA  let-7-5p/98-5p   \n",
       "1     hsa-let-7b-5p    MIMAT0000063  AACCACACAACCTACTACCTCA  let-7-5p/98-5p   \n",
       "2     hsa-let-7c-5p    MIMAT0000064  AACCATACAACCTACTACCTCA  let-7-5p/98-5p   \n",
       "3     hsa-let-7d-5p    MIMAT0000065  AACTATGCAACCTACTACCTCT  let-7-5p/98-5p   \n",
       "4     hsa-let-7e-5p    MIMAT0000066  AACTATACAACCTCCTACCTCA  let-7-5p/98-5p   \n",
       "...             ...             ...                     ...             ...   \n",
       "2651  hsa-miR-12131    MIMAT0049025    TGGGAGTACACCTCTCCAAA  miR-12131_pred   \n",
       "2652  hsa-miR-12132    MIMAT0049026  CATCATAATTCTCACAGTAATA  miR-12132_pred   \n",
       "2653  hsa-miR-12133    MIMAT0049027  TGTACTTTTTAATGGTGCCAAG  miR-12133_pred   \n",
       "2654  hsa-miR-12135    MIMAT0049031      TTTACAAACAAACCTTTA  miR-12135_pred   \n",
       "2655  hsa-miR-12136    MIMAT0049032      GGCCTCCATGACTTTTTC  miR-12136_pred   \n",
       "\n",
       "      conservation     seed mirna_name_cmc  is_mirna_oncogene  \\\n",
       "0              2.0  ACTATAC     hsa-let-7a              False   \n",
       "1              2.0  ACCACAC     hsa-let-7b              False   \n",
       "2              2.0  ACCATAC     hsa-let-7c              False   \n",
       "3              2.0  ACTATGC     hsa-let-7d              False   \n",
       "4              2.0  ACTATAC     hsa-let-7e              False   \n",
       "...            ...      ...            ...                ...   \n",
       "2651          -1.0  GGGAGTA  hsa-miR-12131              False   \n",
       "2652           2.0  ATCATAA  hsa-miR-12132              False   \n",
       "2653           2.0  GTACTTT  hsa-miR-12133              False   \n",
       "2654          -1.0  TTACAAA  hsa-miR-12135              False   \n",
       "2655          -1.0  GCCTCCA  hsa-miR-12136              False   \n",
       "\n",
       "      is_mirna_tumor_suppressor  \n",
       "0                         False  \n",
       "1                          True  \n",
       "2                          True  \n",
       "3                         False  \n",
       "4                          True  \n",
       "...                         ...  \n",
       "2651                      False  \n",
       "2652                      False  \n",
       "2653                      False  \n",
       "2654                      False  \n",
       "2655                      False  \n",
       "\n",
       "[2656 rows x 9 columns]"
      ]
     },
     "execution_count": 9,
     "metadata": {},
     "output_type": "execute_result"
    }
   ],
   "source": [
    "mirna_df"
   ]
  },
  {
   "cell_type": "markdown",
   "metadata": {},
   "source": [
    "# SAVE TO DB"
   ]
  },
  {
   "cell_type": "code",
   "execution_count": 12,
   "metadata": {},
   "outputs": [
    {
     "data": {
      "text/plain": [
       "2656"
      ]
     },
     "execution_count": 12,
     "metadata": {},
     "output_type": "execute_result"
    }
   ],
   "source": [
    "mirna_df.to_sql('mirnas', engine, if_exists='replace', index=False)\n",
    " "
   ]
  }
 ],
 "metadata": {
  "kernelspec": {
   "display_name": "mirscribe-vcf-8VJm4tPg-py3.10",
   "language": "python",
   "name": "python3"
  },
  "language_info": {
   "codemirror_mode": {
    "name": "ipython",
    "version": 3
   },
   "file_extension": ".py",
   "mimetype": "text/x-python",
   "name": "python",
   "nbconvert_exporter": "python",
   "pygments_lexer": "ipython3",
   "version": "3.10.12"
  }
 },
 "nbformat": 4,
 "nbformat_minor": 2
}
